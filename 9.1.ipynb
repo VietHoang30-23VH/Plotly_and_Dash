{
 "cells": [
  {
   "cell_type": "markdown",
   "id": "18846e14-0b3f-4c1e-ad8e-d9e637f17193",
   "metadata": {},
   "source": [
    "# 1. Financial Dashboard with Real-World Data\n",
    "\n",
    "**Overview:**\n",
    "This financial dashboard will provide interactive visualizations for stock market data. It will include components such as stock price trends, volume analysis, and comparative performance between multiple stocks.\n",
    "\n",
    "**Key Components:**\n",
    "- **Stock Price Trends:** Track the historical prices of selected stocks.\n",
    "- **Volume Analysis:** Monitor the trading volume over time.\n",
    "- **Comparative Performance:** Compare the performance of different stocks over a specific period.\n",
    "\n",
    "**Example: Advanced Financial Dashboard with Real-World Data**"
   ]
  },
  {
   "cell_type": "markdown",
   "id": "e5d7b4c2-c965-459f-ada9-94473f49dcb2",
   "metadata": {},
   "source": [
    "First, you need to install the `yfinance` library if you haven't already:\n",
    "```bash\n",
    "pip install yfinance\n",
    "```"
   ]
  },
  {
   "cell_type": "code",
   "execution_count": 4,
   "id": "d3078c6b-f8eb-43be-ac12-8e16f0f1dd77",
   "metadata": {},
   "outputs": [
    {
     "name": "stdout",
     "output_type": "stream",
     "text": [
      "Requirement already satisfied: yfinance in c:\\users\\hello\\documents\\interactive dashboards\\mydashenv\\lib\\site-packages (0.2.41)\n",
      "Requirement already satisfied: pandas>=1.3.0 in c:\\users\\hello\\documents\\interactive dashboards\\mydashenv\\lib\\site-packages (from yfinance) (2.2.2)\n",
      "Requirement already satisfied: numpy>=1.16.5 in c:\\users\\hello\\documents\\interactive dashboards\\mydashenv\\lib\\site-packages (from yfinance) (2.0.0)\n",
      "Requirement already satisfied: requests>=2.31 in c:\\users\\hello\\documents\\interactive dashboards\\mydashenv\\lib\\site-packages (from yfinance) (2.32.3)\n",
      "Requirement already satisfied: multitasking>=0.0.7 in c:\\users\\hello\\documents\\interactive dashboards\\mydashenv\\lib\\site-packages (from yfinance) (0.0.11)\n",
      "Requirement already satisfied: lxml>=4.9.1 in c:\\users\\hello\\documents\\interactive dashboards\\mydashenv\\lib\\site-packages (from yfinance) (5.2.2)\n",
      "Requirement already satisfied: platformdirs>=2.0.0 in c:\\users\\hello\\documents\\interactive dashboards\\mydashenv\\lib\\site-packages (from yfinance) (4.2.2)\n",
      "Requirement already satisfied: pytz>=2022.5 in c:\\users\\hello\\documents\\interactive dashboards\\mydashenv\\lib\\site-packages (from yfinance) (2024.1)\n",
      "Requirement already satisfied: frozendict>=2.3.4 in c:\\users\\hello\\documents\\interactive dashboards\\mydashenv\\lib\\site-packages (from yfinance) (2.4.4)\n",
      "Requirement already satisfied: peewee>=3.16.2 in c:\\users\\hello\\documents\\interactive dashboards\\mydashenv\\lib\\site-packages (from yfinance) (3.17.6)\n",
      "Requirement already satisfied: beautifulsoup4>=4.11.1 in c:\\users\\hello\\documents\\interactive dashboards\\mydashenv\\lib\\site-packages (from yfinance) (4.12.3)\n",
      "Requirement already satisfied: html5lib>=1.1 in c:\\users\\hello\\documents\\interactive dashboards\\mydashenv\\lib\\site-packages (from yfinance) (1.1)\n",
      "Requirement already satisfied: soupsieve>1.2 in c:\\users\\hello\\documents\\interactive dashboards\\mydashenv\\lib\\site-packages (from beautifulsoup4>=4.11.1->yfinance) (2.5)\n",
      "Requirement already satisfied: six>=1.9 in c:\\users\\hello\\documents\\interactive dashboards\\mydashenv\\lib\\site-packages (from html5lib>=1.1->yfinance) (1.16.0)\n",
      "Requirement already satisfied: webencodings in c:\\users\\hello\\documents\\interactive dashboards\\mydashenv\\lib\\site-packages (from html5lib>=1.1->yfinance) (0.5.1)\n",
      "Requirement already satisfied: python-dateutil>=2.8.2 in c:\\users\\hello\\documents\\interactive dashboards\\mydashenv\\lib\\site-packages (from pandas>=1.3.0->yfinance) (2.9.0.post0)\n",
      "Requirement already satisfied: tzdata>=2022.7 in c:\\users\\hello\\documents\\interactive dashboards\\mydashenv\\lib\\site-packages (from pandas>=1.3.0->yfinance) (2024.1)\n",
      "Requirement already satisfied: charset-normalizer<4,>=2 in c:\\users\\hello\\documents\\interactive dashboards\\mydashenv\\lib\\site-packages (from requests>=2.31->yfinance) (3.3.2)\n",
      "Requirement already satisfied: idna<4,>=2.5 in c:\\users\\hello\\documents\\interactive dashboards\\mydashenv\\lib\\site-packages (from requests>=2.31->yfinance) (3.7)\n",
      "Requirement already satisfied: urllib3<3,>=1.21.1 in c:\\users\\hello\\documents\\interactive dashboards\\mydashenv\\lib\\site-packages (from requests>=2.31->yfinance) (2.2.2)\n",
      "Requirement already satisfied: certifi>=2017.4.17 in c:\\users\\hello\\documents\\interactive dashboards\\mydashenv\\lib\\site-packages (from requests>=2.31->yfinance) (2024.7.4)\n"
     ]
    },
    {
     "name": "stderr",
     "output_type": "stream",
     "text": [
      "\n",
      "[notice] A new release of pip is available: 24.0 -> 24.2\n",
      "[notice] To update, run: python.exe -m pip install --upgrade pip\n"
     ]
    }
   ],
   "source": [
    "!pip install yfinance"
   ]
  },
  {
   "cell_type": "code",
   "execution_count": 5,
   "id": "2c9fb60c-326e-4cc1-8d2a-aece3d92d397",
   "metadata": {},
   "outputs": [],
   "source": [
    "import dash\n",
    "from dash import dcc, html\n",
    "from dash.dependencies import Input, Output\n",
    "import yfinance as yf\n",
    "import plotly.express as px\n",
    "import pandas as pd"
   ]
  },
  {
   "cell_type": "code",
   "execution_count": 6,
   "id": "23b8afeb-e40b-44c4-89bd-3cf135e1ee45",
   "metadata": {},
   "outputs": [
    {
     "data": {
      "text/html": [
       "\n",
       "        <iframe\n",
       "            width=\"100%\"\n",
       "            height=\"650\"\n",
       "            src=\"http://127.0.0.1:8052/\"\n",
       "            frameborder=\"0\"\n",
       "            allowfullscreen\n",
       "            \n",
       "        ></iframe>\n",
       "        "
      ],
      "text/plain": [
       "<IPython.lib.display.IFrame at 0x1d177c90ec0>"
      ]
     },
     "metadata": {},
     "output_type": "display_data"
    },
    {
     "name": "stderr",
     "output_type": "stream",
     "text": [
      "[*********************100%%**********************]  5 of 5 completed\n",
      "[*********************100%%**********************]  5 of 5 completed\n"
     ]
    }
   ],
   "source": [
    "app = dash.Dash(__name__)\n",
    "\n",
    "# Define the layout\n",
    "app.layout = html.Div([\n",
    "    html.H1(\"Advanced Financial Dashboard\", style={'textAlign': 'center'}),\n",
    "    \n",
    "    dcc.Dropdown(\n",
    "        id='stock-dropdown',\n",
    "        options=[\n",
    "            {'label': 'Apple', 'value': 'AAPL'},\n",
    "            {'label': 'Microsoft', 'value': 'MSFT'},\n",
    "            {'label': 'Amazon', 'value': 'AMZN'},\n",
    "            {'label': 'Google', 'value': 'GOOGL'},\n",
    "            {'label': 'Tesla', 'value': 'TSLA'}\n",
    "        ],\n",
    "        value='AAPL',\n",
    "        style={'width': '50%', 'margin': 'auto'}\n",
    "    ),\n",
    "    \n",
    "    dcc.Graph(id='stock-price-chart'),\n",
    "    dcc.Graph(id='volume-chart'),\n",
    "    dcc.Graph(id='comparative-performance-chart')\n",
    "])\n",
    "\n",
    "@app.callback(\n",
    "    [Output('stock-price-chart', 'figure'),\n",
    "     Output('volume-chart', 'figure'),\n",
    "     Output('comparative-performance-chart', 'figure')],\n",
    "    [Input('stock-dropdown', 'value')]\n",
    ")\n",
    "def update_charts(selected_stock):\n",
    "    # Fetch data for the selected stock\n",
    "    stock_data = yf.Ticker(selected_stock)\n",
    "    df = stock_data.history(period='1y')\n",
    "    \n",
    "    # Stock price chart\n",
    "    stock_price_fig = px.line(df, x=df.index, y='Close', title=f'{selected_stock} Stock Price')\n",
    "    \n",
    "    # Volume chart\n",
    "    volume_fig = px.bar(df, x=df.index, y='Volume', title=f'{selected_stock} Trading Volume')\n",
    "    \n",
    "    # Comparative performance chart\n",
    "    tickers = ['AAPL', 'MSFT', 'AMZN', 'GOOGL', 'TSLA']\n",
    "    comparative_data = yf.download(tickers, period='1y')['Close']\n",
    "    comparative_data = comparative_data.div(comparative_data.iloc[0]).mul(100)\n",
    "    comparative_performance_fig = px.line(comparative_data, x=comparative_data.index, y=tickers, title='Comparative Performance')\n",
    "    \n",
    "    return stock_price_fig, volume_fig, comparative_performance_fig\n",
    "\n",
    "if __name__ == '__main__':\n",
    "    app.run_server(debug=True, port = 8052)"
   ]
  },
  {
   "cell_type": "code",
   "execution_count": null,
   "id": "25144939-a57d-4977-97d5-6242e70b459d",
   "metadata": {},
   "outputs": [],
   "source": []
  }
 ],
 "metadata": {
  "kernelspec": {
   "display_name": "Python 3 (ipykernel)",
   "language": "python",
   "name": "python3"
  },
  "language_info": {
   "codemirror_mode": {
    "name": "ipython",
    "version": 3
   },
   "file_extension": ".py",
   "mimetype": "text/x-python",
   "name": "python",
   "nbconvert_exporter": "python",
   "pygments_lexer": "ipython3",
   "version": "3.12.3"
  }
 },
 "nbformat": 4,
 "nbformat_minor": 5
}
