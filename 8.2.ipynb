{
 "cells": [
  {
   "cell_type": "markdown",
   "id": "be86d0f3-ee66-4440-a7d4-e0c47a6d5010",
   "metadata": {},
   "source": [
    "## 2. Custom Themes\n",
    "\n",
    "Custom themes allow developers to personalize the look and feel of their Dash applications. This can be done by customizing CSS directly or using pre-defined themes. Dash Bootstrap Components provide various built-in themes that can be easily applied. Creating a custom theme involves defining a consistent color palette, typography, and component styles. This ensures that your application has a cohesive and professional appearance.\n",
    "\n",
    "**Steps to Create Custom Themes:**\n",
    "1. **Choose a Bootstrap Theme:** Dash Bootstrap Components come with various themes like CYBORG, DARKLY, FLATLY, etc.\n",
    "2. **Modify CSS:** Customize the CSS to match your branding requirements.\n",
    "3. **Apply the Theme:** Use the external_stylesheets parameter to apply the chosen theme.\n",
    "\n",
    "**Example:** Using the CYBORG Theme"
   ]
  },
  {
   "cell_type": "code",
   "execution_count": 1,
   "id": "69c81692-b227-4cdf-b558-7031c719d582",
   "metadata": {},
   "outputs": [
    {
     "data": {
      "text/html": [
       "\n",
       "        <iframe\n",
       "            width=\"100%\"\n",
       "            height=\"650\"\n",
       "            src=\"http://127.0.0.1:8051/\"\n",
       "            frameborder=\"0\"\n",
       "            allowfullscreen\n",
       "            \n",
       "        ></iframe>\n",
       "        "
      ],
      "text/plain": [
       "<IPython.lib.display.IFrame at 0x1a3059d3bf0>"
      ]
     },
     "metadata": {},
     "output_type": "display_data"
    }
   ],
   "source": [
    "import dash\n",
    "from dash import dcc, html\n",
    "import dash_bootstrap_components as dbc\n",
    "from dash.dependencies import Input, Output\n",
    "\n",
    "app = dash.Dash(__name__, external_stylesheets=[dbc.themes.CYBORG])\n",
    "\n",
    "app.layout = dbc.Container([\n",
    "    dbc.Row(dbc.Col(html.H1(\"Custom Themed App\", className='text-center mt-5', style={'color': '#EAEAEA'}))),\n",
    "    dbc.Row(dbc.Col([\n",
    "        dbc.Input(id='input-text', type='text', placeholder='Enter text', className='mb-3', style={'backgroundColor': '#333', 'color': '#EAEAEA'}),\n",
    "        dbc.Button('Submit', id='submit-button', color='secondary', className='mb-3'),\n",
    "        html.Div(id='output-div', style={'color': '#EAEAEA'})\n",
    "    ], width=6), justify='center')\n",
    "])\n",
    "\n",
    "@app.callback(\n",
    "    Output('output-div', 'children'),\n",
    "    [Input('submit-button', 'n_clicks')],\n",
    "    [dash.dependencies.State('input-text', 'value')]\n",
    ")\n",
    "def update_output(n_clicks, value):\n",
    "    if n_clicks:\n",
    "        return f'You entered: {value}'\n",
    "    return ''\n",
    "\n",
    "if __name__ == '__main__':\n",
    "    app.run_server(debug=True, port = 8051)"
   ]
  },
  {
   "cell_type": "markdown",
   "id": "f95adbd6-71e7-42d3-a0f6-1e4c7484620e",
   "metadata": {},
   "source": [
    "In the example above, the CYBORG theme is applied, and additional CSS styles are used to customize the appearance further."
   ]
  },
  {
   "cell_type": "markdown",
   "id": "65a5918f-f953-42dc-94ba-8e6fbd822842",
   "metadata": {},
   "source": [
    "**Example:** Using the DARKLY Theme"
   ]
  },
  {
   "cell_type": "code",
   "execution_count": 2,
   "id": "3caddfda-ea7c-4c33-93e8-b32007a73fdd",
   "metadata": {},
   "outputs": [
    {
     "data": {
      "text/html": [
       "\n",
       "        <iframe\n",
       "            width=\"100%\"\n",
       "            height=\"650\"\n",
       "            src=\"http://127.0.0.1:8053/\"\n",
       "            frameborder=\"0\"\n",
       "            allowfullscreen\n",
       "            \n",
       "        ></iframe>\n",
       "        "
      ],
      "text/plain": [
       "<IPython.lib.display.IFrame at 0x1a305118890>"
      ]
     },
     "metadata": {},
     "output_type": "display_data"
    }
   ],
   "source": [
    "import dash\n",
    "from dash import dcc, html\n",
    "import dash_bootstrap_components as dbc\n",
    "from dash.dependencies import Input, Output\n",
    "\n",
    "# Initialize the Dash app with the DARKLY Bootstrap theme\n",
    "app1 = dash.Dash(__name__, external_stylesheets=[dbc.themes.DARKLY])\n",
    "\n",
    "# Define the layout of the app\n",
    "app1.layout = dbc.Container([\n",
    "    # Header Row\n",
    "    dbc.Row(dbc.Col(html.H1(\"DARKLY Themed App\", className='text-center mt-5', style={'color': '#FFFFFF'}))),\n",
    "    # Input and Button Row\n",
    "    dbc.Row(dbc.Col([\n",
    "        dbc.Input(id='input-text', type='text', placeholder='Enter text', className='mb-3', style={'backgroundColor': '#2C3E50', 'color': '#FFFFFF'}),\n",
    "        dbc.Button('Submit', id='submit-button', color='primary', className='mb-3'),\n",
    "        html.Div(id='output-div', style={'color': '#FFFFFF'})\n",
    "    ], width=6), justify='center')\n",
    "])\n",
    "\n",
    "# Define callback to update output based on input\n",
    "@app1.callback(\n",
    "    Output('output-div', 'children'),\n",
    "    [Input('submit-button', 'n_clicks')],\n",
    "    [dash.dependencies.State('input-text', 'value')]\n",
    ")\n",
    "def update_output(n_clicks, value):\n",
    "    if n_clicks:\n",
    "        return f'You entered: {value}'\n",
    "    return ''\n",
    "\n",
    "# Run the server\n",
    "if __name__ == '__main__':\n",
    "    app1.run_server(debug=True, port = 8053)"
   ]
  },
  {
   "cell_type": "markdown",
   "id": "755d6fdb-3f18-4736-a240-86cab8758bc9",
   "metadata": {},
   "source": [
    "**Example:** Using the FLATLY Theme"
   ]
  },
  {
   "cell_type": "code",
   "execution_count": 3,
   "id": "96195d74-5e2e-4ac7-9e7f-0510e07c802d",
   "metadata": {},
   "outputs": [
    {
     "data": {
      "text/html": [
       "\n",
       "        <iframe\n",
       "            width=\"100%\"\n",
       "            height=\"650\"\n",
       "            src=\"http://127.0.0.1:8054/\"\n",
       "            frameborder=\"0\"\n",
       "            allowfullscreen\n",
       "            \n",
       "        ></iframe>\n",
       "        "
      ],
      "text/plain": [
       "<IPython.lib.display.IFrame at 0x1a30511afc0>"
      ]
     },
     "metadata": {},
     "output_type": "display_data"
    }
   ],
   "source": [
    "import dash\n",
    "from dash import dcc, html\n",
    "import dash_bootstrap_components as dbc\n",
    "from dash.dependencies import Input, Output\n",
    "\n",
    "# Initialize the Dash app with the FLATLY Bootstrap theme\n",
    "app2 = dash.Dash(__name__, external_stylesheets=[dbc.themes.FLATLY])\n",
    "\n",
    "# layout\n",
    "app2.layout = dbc.Container([\n",
    "    # Header Row\n",
    "    dbc.Row(dbc.Col(html.H1(\"FLATLY Themed App\", className='text-center mt-5', style={'color': '#2C3E50'}))),\n",
    "    # Input and Button Row\n",
    "    dbc.Row(dbc.Col([\n",
    "        dbc.Input(id='input-text', type='text', placeholder='Enter text', className='mb-3', style={'backgroundColor': '#ECF0F1', 'color': '#2C3E50'}),\n",
    "        dbc.Button('Submit', id='submit-button', color='primary', className='mb-3'),\n",
    "        html.Div(id='output-div', style={'color': '#2C3E50'})\n",
    "    ], width=6), justify='center')\n",
    "])\n",
    "\n",
    "\n",
    "@app2.callback(\n",
    "    Output('output-div', 'children'),\n",
    "    [Input('submit-button', 'n_clicks')],\n",
    "    [dash.dependencies.State('input-text', 'value')]\n",
    ")\n",
    "def update_output(n_clicks, value):\n",
    "    if n_clicks:\n",
    "        return f'You entered: {value}'\n",
    "    return ''\n",
    "\n",
    "\n",
    "if __name__ == '__main__':\n",
    "    app2.run_server(debug=True, port = 8054)"
   ]
  },
  {
   "cell_type": "code",
   "execution_count": null,
   "id": "cb6a5bfa-4cd7-4fa2-8858-1b5707307f1d",
   "metadata": {},
   "outputs": [],
   "source": []
  }
 ],
 "metadata": {
  "kernelspec": {
   "display_name": "Python 3 (ipykernel)",
   "language": "python",
   "name": "python3"
  },
  "language_info": {
   "codemirror_mode": {
    "name": "ipython",
    "version": 3
   },
   "file_extension": ".py",
   "mimetype": "text/x-python",
   "name": "python",
   "nbconvert_exporter": "python",
   "pygments_lexer": "ipython3",
   "version": "3.12.3"
  }
 },
 "nbformat": 4,
 "nbformat_minor": 5
}
