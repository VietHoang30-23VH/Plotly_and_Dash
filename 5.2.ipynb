{
 "cells": [
  {
   "cell_type": "markdown",
   "id": "5780fc72-8ae8-43eb-90d8-72854e727c09",
   "metadata": {},
   "source": [
    "## Using Pandas for Data Processing\n",
    "\n",
    "**Introduction to Using Pandas for Data Processing**\n",
    "\n",
    "Pandas is a powerful library for data manipulation and analysis in Python. We will cover basic data processing tasks such as filtering, grouping, and aggregating data.\n",
    "\n",
    "**1. Filtering Data**\n",
    "\n",
    "Filtering data involves selecting a subset of the data based on certain conditions.\n",
    "\n",
    "**Example: Filtering Data**\n",
    "\n",
    "Let's look at the code to filter data using Pandas:"
   ]
  },
  {
   "cell_type": "code",
   "execution_count": 1,
   "id": "a6a5e215-e1c9-42a0-915a-e28ab186d6c0",
   "metadata": {},
   "outputs": [],
   "source": [
    "import dash\n",
    "from dash import dcc\n",
    "from dash import html\n",
    "import pandas as pd"
   ]
  },
  {
   "cell_type": "code",
   "execution_count": 2,
   "id": "bc227826-e3a2-4e7c-b47a-1e3c68efd6da",
   "metadata": {},
   "outputs": [],
   "source": [
    "df = pd.read_csv('data.csv')"
   ]
  },
  {
   "cell_type": "code",
   "execution_count": 3,
   "id": "45f4e60a-2602-4e74-b738-87c1cc510229",
   "metadata": {},
   "outputs": [
    {
     "data": {
      "text/html": [
       "<div>\n",
       "<style scoped>\n",
       "    .dataframe tbody tr th:only-of-type {\n",
       "        vertical-align: middle;\n",
       "    }\n",
       "\n",
       "    .dataframe tbody tr th {\n",
       "        vertical-align: top;\n",
       "    }\n",
       "\n",
       "    .dataframe thead th {\n",
       "        text-align: right;\n",
       "    }\n",
       "</style>\n",
       "<table border=\"1\" class=\"dataframe\">\n",
       "  <thead>\n",
       "    <tr style=\"text-align: right;\">\n",
       "      <th></th>\n",
       "      <th>Column 1</th>\n",
       "      <th>Column 2</th>\n",
       "    </tr>\n",
       "  </thead>\n",
       "  <tbody>\n",
       "    <tr>\n",
       "      <th>0</th>\n",
       "      <td>1</td>\n",
       "      <td>10</td>\n",
       "    </tr>\n",
       "    <tr>\n",
       "      <th>1</th>\n",
       "      <td>2</td>\n",
       "      <td>20</td>\n",
       "    </tr>\n",
       "    <tr>\n",
       "      <th>2</th>\n",
       "      <td>3</td>\n",
       "      <td>30</td>\n",
       "    </tr>\n",
       "    <tr>\n",
       "      <th>3</th>\n",
       "      <td>4</td>\n",
       "      <td>40</td>\n",
       "    </tr>\n",
       "    <tr>\n",
       "      <th>4</th>\n",
       "      <td>5</td>\n",
       "      <td>50</td>\n",
       "    </tr>\n",
       "  </tbody>\n",
       "</table>\n",
       "</div>"
      ],
      "text/plain": [
       "   Column 1  Column 2\n",
       "0         1        10\n",
       "1         2        20\n",
       "2         3        30\n",
       "3         4        40\n",
       "4         5        50"
      ]
     },
     "execution_count": 3,
     "metadata": {},
     "output_type": "execute_result"
    }
   ],
   "source": [
    "df"
   ]
  },
  {
   "cell_type": "code",
   "execution_count": 4,
   "id": "dd218445-9dc9-4173-bb23-7a4d5522ff7e",
   "metadata": {},
   "outputs": [],
   "source": [
    "filtered_df = df[df['Column 1'] == 3]"
   ]
  },
  {
   "cell_type": "code",
   "execution_count": 5,
   "id": "4255e805-0a57-42e0-b2ce-100374df061b",
   "metadata": {},
   "outputs": [
    {
     "data": {
      "text/html": [
       "<div>\n",
       "<style scoped>\n",
       "    .dataframe tbody tr th:only-of-type {\n",
       "        vertical-align: middle;\n",
       "    }\n",
       "\n",
       "    .dataframe tbody tr th {\n",
       "        vertical-align: top;\n",
       "    }\n",
       "\n",
       "    .dataframe thead th {\n",
       "        text-align: right;\n",
       "    }\n",
       "</style>\n",
       "<table border=\"1\" class=\"dataframe\">\n",
       "  <thead>\n",
       "    <tr style=\"text-align: right;\">\n",
       "      <th></th>\n",
       "      <th>Column 1</th>\n",
       "      <th>Column 2</th>\n",
       "    </tr>\n",
       "  </thead>\n",
       "  <tbody>\n",
       "    <tr>\n",
       "      <th>2</th>\n",
       "      <td>3</td>\n",
       "      <td>30</td>\n",
       "    </tr>\n",
       "  </tbody>\n",
       "</table>\n",
       "</div>"
      ],
      "text/plain": [
       "   Column 1  Column 2\n",
       "2         3        30"
      ]
     },
     "execution_count": 5,
     "metadata": {},
     "output_type": "execute_result"
    }
   ],
   "source": [
    "filtered_df"
   ]
  },
  {
   "cell_type": "markdown",
   "id": "59aa8349-9588-44c1-a9bb-9a84ff9b0254",
   "metadata": {},
   "source": [
    "**2. Grouping Data**\n",
    "\n",
    "Grouping data involves splitting the data into groups based on some criteria and then applying a function to each group.\n",
    "\n",
    "**Example: Grouping Data**\n",
    "\n",
    "Here's the code to group data using Pandas:"
   ]
  },
  {
   "cell_type": "code",
   "execution_count": 6,
   "id": "188fac7d-8d0e-4189-80c0-b9a32ccdecca",
   "metadata": {},
   "outputs": [],
   "source": [
    "# Group data and calculate the mean\n",
    "grouped_df = df.groupby('Column 1').mean()"
   ]
  },
  {
   "cell_type": "code",
   "execution_count": 7,
   "id": "2aaaa77f-b981-4711-9413-bac8ae5fcaaa",
   "metadata": {},
   "outputs": [
    {
     "data": {
      "text/html": [
       "<div>\n",
       "<style scoped>\n",
       "    .dataframe tbody tr th:only-of-type {\n",
       "        vertical-align: middle;\n",
       "    }\n",
       "\n",
       "    .dataframe tbody tr th {\n",
       "        vertical-align: top;\n",
       "    }\n",
       "\n",
       "    .dataframe thead th {\n",
       "        text-align: right;\n",
       "    }\n",
       "</style>\n",
       "<table border=\"1\" class=\"dataframe\">\n",
       "  <thead>\n",
       "    <tr style=\"text-align: right;\">\n",
       "      <th></th>\n",
       "      <th>Column 2</th>\n",
       "    </tr>\n",
       "    <tr>\n",
       "      <th>Column 1</th>\n",
       "      <th></th>\n",
       "    </tr>\n",
       "  </thead>\n",
       "  <tbody>\n",
       "    <tr>\n",
       "      <th>1</th>\n",
       "      <td>10.0</td>\n",
       "    </tr>\n",
       "    <tr>\n",
       "      <th>2</th>\n",
       "      <td>20.0</td>\n",
       "    </tr>\n",
       "    <tr>\n",
       "      <th>3</th>\n",
       "      <td>30.0</td>\n",
       "    </tr>\n",
       "    <tr>\n",
       "      <th>4</th>\n",
       "      <td>40.0</td>\n",
       "    </tr>\n",
       "    <tr>\n",
       "      <th>5</th>\n",
       "      <td>50.0</td>\n",
       "    </tr>\n",
       "  </tbody>\n",
       "</table>\n",
       "</div>"
      ],
      "text/plain": [
       "          Column 2\n",
       "Column 1          \n",
       "1             10.0\n",
       "2             20.0\n",
       "3             30.0\n",
       "4             40.0\n",
       "5             50.0"
      ]
     },
     "execution_count": 7,
     "metadata": {},
     "output_type": "execute_result"
    }
   ],
   "source": [
    "grouped_df"
   ]
  },
  {
   "cell_type": "markdown",
   "id": "d966a260-5d40-4289-9fe6-3df12e4de3fb",
   "metadata": {},
   "source": [
    "**3. Aggregating Data**\n",
    "\n",
    "Aggregating data involves applying aggregate functions to the data, such as sum, mean, or count.\n",
    "\n",
    "**Example: Aggregating Data**\n",
    "\n",
    "Here's the code to aggregate data using Pandas:"
   ]
  },
  {
   "cell_type": "code",
   "execution_count": 8,
   "id": "fc778b6e-78ee-40b4-8442-e1c42bd328b9",
   "metadata": {},
   "outputs": [],
   "source": [
    "# Aggregate data\n",
    "aggregated_df = df.agg({'Column 1': 'sum', 'Column 2': 'mean'})"
   ]
  },
  {
   "cell_type": "code",
   "execution_count": 13,
   "id": "57fc59c2-e175-49e5-897b-638d0d3301d4",
   "metadata": {},
   "outputs": [
    {
     "data": {
      "text/plain": [
       "Column 1    15.0\n",
       "Column 2    30.0\n",
       "dtype: float64"
      ]
     },
     "execution_count": 13,
     "metadata": {},
     "output_type": "execute_result"
    }
   ],
   "source": [
    "aggregated_df"
   ]
  },
  {
   "cell_type": "code",
   "execution_count": null,
   "id": "67c6cbeb-55c7-4448-b63d-61ed004a9a79",
   "metadata": {},
   "outputs": [],
   "source": []
  }
 ],
 "metadata": {
  "kernelspec": {
   "display_name": "Python 3 (ipykernel)",
   "language": "python",
   "name": "python3"
  },
  "language_info": {
   "codemirror_mode": {
    "name": "ipython",
    "version": 3
   },
   "file_extension": ".py",
   "mimetype": "text/x-python",
   "name": "python",
   "nbconvert_exporter": "python",
   "pygments_lexer": "ipython3",
   "version": "3.12.3"
  }
 },
 "nbformat": 4,
 "nbformat_minor": 5
}
