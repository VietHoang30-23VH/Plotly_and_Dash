{
 "cells": [
  {
   "cell_type": "markdown",
   "id": "6508605c-b4f4-421b-92fe-8048fbb68e69",
   "metadata": {},
   "source": [
    "### Tabs and Multi-page Apps\n",
    "\n",
    "These features help organize your content and provide a better user experience by dividing information into manageable sections.\n",
    "\n",
    "**1. Using Tabs**\n",
    "\n",
    "Tabs allow you to organize content into different sections within a single page, making it easier for users to navigate.\n",
    "\n",
    "**Example: Tabs**\n",
    "\n",
    "The following code demonstrates how to create tabs in Dash."
   ]
  },
  {
   "cell_type": "code",
   "execution_count": 1,
   "id": "fc8d938e-e76c-4c30-9cec-374efb58a9a7",
   "metadata": {},
   "outputs": [],
   "source": [
    "import dash\n",
    "from dash import dcc\n",
    "from dash import html\n",
    "import plotly.graph_objs as go\n",
    "from dash.dependencies import Input, Output\n"
   ]
  },
  {
   "cell_type": "code",
   "execution_count": 2,
   "id": "1a4a9922-e81f-4a7b-af17-728108e17199",
   "metadata": {},
   "outputs": [],
   "source": [
    "\n",
    "app3 = dash.Dash(__name__)\n",
    "\n",
    "app3.layout = html.Div([\n",
    "    dcc.Tabs(id='tabs-example', value='tab-1', children=[\n",
    "        dcc.Tab(label='Tab 1', value='tab-1'),\n",
    "        dcc.Tab(label='Tab 2', value='tab-2')\n",
    "    ]),\n",
    "    html.Div(id='tabs-content')\n",
    "])\n",
    "\n",
    "@app3.callback(\n",
    "    Output('tabs-content', 'children'),\n",
    "    [Input('tabs-example', 'value')]\n",
    ")\n",
    "def render_content(tab):\n",
    "    if tab == 'tab-1':\n",
    "        return html.Div([html.H3('Content of Tab 1')])\n",
    "    elif tab == 'tab-2':\n",
    "        return html.Div([html.H3('Content of Tab 2')])"
   ]
  },
  {
   "cell_type": "code",
   "execution_count": 3,
   "id": "eac951e7-eca6-4ee1-b267-a0a86be59337",
   "metadata": {},
   "outputs": [
    {
     "data": {
      "text/html": [
       "\n",
       "        <iframe\n",
       "            width=\"100%\"\n",
       "            height=\"650\"\n",
       "            src=\"http://127.0.0.1:8053/\"\n",
       "            frameborder=\"0\"\n",
       "            allowfullscreen\n",
       "            \n",
       "        ></iframe>\n",
       "        "
      ],
      "text/plain": [
       "<IPython.lib.display.IFrame at 0x18bdd8d5af0>"
      ]
     },
     "metadata": {},
     "output_type": "display_data"
    }
   ],
   "source": [
    "if __name__ == '__main__':\n",
    "    app3.run_server(debug=True, port = 8053)\n"
   ]
  },
  {
   "cell_type": "markdown",
   "id": "79bf4b73-d5c9-45ca-9db2-0a6d6213e5c6",
   "metadata": {},
   "source": [
    "**Explanation of the Code**\n",
    "\n",
    "1. **Creating the Layout**:\n",
    "   - `dcc.Tabs(id='tabs-example', value='tab-1', children=[...])`: Creates a Tabs component with two tabs.\n",
    "   - `html.Div(id='tabs-content')`: Placeholder `div` for the content of the selected tab.\n",
    "\n",
    "2. **Callback for Tabs**:\n",
    "   - `@app.callback(Output('tabs-content', 'children'), [Input('tabs-example', 'value')])`: Updates the content `div` based on the selected tab.\n",
    "   - `def render_content(tab)`: Renders the content for the selected tab."
   ]
  },
  {
   "cell_type": "markdown",
   "id": "2a16f06e-26bf-417a-bf08-2e4b0deca7ab",
   "metadata": {},
   "source": [
    "**2. Multi-page Apps**\n",
    "\n",
    "**Explanation of Multi-page Apps**\n",
    "\n",
    "Multi-page applications allow you to split your Dash app into multiple pages, providing a more structured and scalable way to organize content.\n",
    "\n",
    "**Example: Multi-page App**\n",
    "\n",
    "The following code demonstrates how to create a multi-page application in Dash."
   ]
  },
  {
   "cell_type": "code",
   "execution_count": 4,
   "id": "6713ebc3-4ab0-4ac1-a7d5-a45458389b6c",
   "metadata": {},
   "outputs": [],
   "source": [
    "app4 = dash.Dash(__name__)\n",
    "\n",
    "app4.layout = html.Div([\n",
    "    dcc.Location(id='url', refresh=False),\n",
    "    html.Div(id='page-content')\n",
    "])\n",
    "\n",
    "index_page = html.Div([\n",
    "    html.H1('Index Page'),\n",
    "    dcc.Link('Go to Page 1', href='/page-1'),\n",
    "    html.Br(),\n",
    "    dcc.Link\n",
    "\n",
    "('Go to Page 2', href='/page-2')\n",
    "])\n",
    "\n",
    "page_1_layout = html.Div([\n",
    "    html.H1('Page 1'),\n",
    "    dcc.Link('Go to Index', href='/'),\n",
    "    html.Br(),\n",
    "    dcc.Link('Go to Page 2', href='/page-2')\n",
    "])\n",
    "page_2_layout = html.Div([\n",
    "    html.H1('Page 2'),\n",
    "    dcc.Link('Go to Index', href='/'),\n",
    "    html.Br(),\n",
    "    dcc.Link('Go to Page 1', href='/page-1')\n",
    "])\n",
    "\n",
    "@app4.callback(Output('page-content', 'children'),\n",
    "              [Input('url', 'pathname')])\n",
    "def display_page(pathname):\n",
    "    if pathname == '/page-1':\n",
    "        return page_1_layout\n",
    "    elif pathname == '/page-2':\n",
    "        return page_2_layout\n",
    "    else:\n",
    "        return index_page"
   ]
  },
  {
   "cell_type": "code",
   "execution_count": 5,
   "id": "4b5a4b1e-478f-48a9-a463-83346e5b2aed",
   "metadata": {},
   "outputs": [
    {
     "data": {
      "text/html": [
       "\n",
       "        <iframe\n",
       "            width=\"100%\"\n",
       "            height=\"650\"\n",
       "            src=\"http://127.0.0.1:8054/\"\n",
       "            frameborder=\"0\"\n",
       "            allowfullscreen\n",
       "            \n",
       "        ></iframe>\n",
       "        "
      ],
      "text/plain": [
       "<IPython.lib.display.IFrame at 0x18bdd8d5af0>"
      ]
     },
     "metadata": {},
     "output_type": "display_data"
    }
   ],
   "source": [
    "if __name__ == '__main__':\n",
    "    app4.run_server(debug=True, port = 8054)\n"
   ]
  },
  {
   "cell_type": "markdown",
   "id": "6eac59b3-9daa-4cc6-a8e2-b922970b2d94",
   "metadata": {},
   "source": [
    "**Explanation of the Code**\n",
    "\n",
    "1. **Creating the Layout**:\n",
    "   - `dcc.Location(id='url', refresh=False)`: Tracks the current URL.\n",
    "   - `html.Div(id='page-content')`: Placeholder `div` for page content.\n",
    "\n",
    "2. **Defining Page Layouts**:\n",
    "   - `index_page`, `page_1_layout`, `page_2_layout`: Define the content for the index page and two additional pages.\n",
    "\n",
    "3. **Callback for Multi-page Navigation**:\n",
    "   - `@app.callback(Output('page-content', 'children'), [Input('url', 'pathname')])`: Updates the `page-content` `div` based on the URL.\n",
    "   - `def display_page(pathname)`: Returns the appropriate page layout based on the URL."
   ]
  },
  {
   "cell_type": "code",
   "execution_count": null,
   "id": "5dadd414-a80e-4ce0-946f-a6ab78996112",
   "metadata": {},
   "outputs": [],
   "source": []
  }
 ],
 "metadata": {
  "kernelspec": {
   "display_name": "Python 3 (ipykernel)",
   "language": "python",
   "name": "python3"
  },
  "language_info": {
   "codemirror_mode": {
    "name": "ipython",
    "version": 3
   },
   "file_extension": ".py",
   "mimetype": "text/x-python",
   "name": "python",
   "nbconvert_exporter": "python",
   "pygments_lexer": "ipython3",
   "version": "3.12.3"
  }
 },
 "nbformat": 4,
 "nbformat_minor": 5
}
