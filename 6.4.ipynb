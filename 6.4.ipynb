{
 "cells": [
  {
   "cell_type": "markdown",
   "id": "1dbce522-461e-4f1f-b300-c339bbfdfafe",
   "metadata": {},
   "source": [
    "#### User Authentication\n",
    "\n",
    "User authentication is the process of verifying the identity of a user before granting access to the application. It is a critical aspect of application security.\n",
    "\n",
    "**4.1 Importance of User Authentication**\n",
    "\n",
    "- **Security**: Protects sensitive data and application resources from unauthorized access.\n",
    "- **Personalization**: Allows personalized experiences by recognizing individual users.\n",
    "- **Access Control**: Ensures that users can only access resources and perform actions that they are authorized to.\n",
    "\n",
    "**4.2 Methods of Authentication**\n",
    "\n",
    "- **Password-Based Authentication**: Users provide a username and password to log in.\n",
    "- **Multi-Factor Authentication (MFA)**: Adds an extra layer of security by requiring additional verification steps.\n",
    "- **OAuth and Third-Party Authentication**: Allows users to log in using credentials from other services (e.g., Google, Facebook).\n",
    "\n",
    "**4.3 Best Practices in User Authentication**\n",
    "\n",
    "- **Strong Password Policies**: Enforce the use of strong, unique passwords.\n",
    "- **Encryption**: Use encryption to protect credentials during transmission and storage.\n",
    "- **Session Management**: Securely manage user sessions and implement proper session expiration.\n",
    "\n",
    "**Example**: Implementing basic user authentication in a Dash application using dash-auth."
   ]
  },
  {
   "cell_type": "code",
   "execution_count": 1,
   "id": "af23c4f2-39a3-4b99-828f-d8f01f466053",
   "metadata": {},
   "outputs": [
    {
     "name": "stdout",
     "output_type": "stream",
     "text": [
      "Collecting dash-auth\n",
      "  Downloading dash_auth-2.3.0-py3-none-any.whl.metadata (10 kB)\n",
      "Requirement already satisfied: dash>=1.1.1 in e:\\5g_dashboard\\mydashenv\\lib\\site-packages (from dash-auth) (2.17.1)\n",
      "Requirement already satisfied: flask in e:\\5g_dashboard\\mydashenv\\lib\\site-packages (from dash-auth) (3.0.3)\n",
      "Requirement already satisfied: werkzeug in e:\\5g_dashboard\\mydashenv\\lib\\site-packages (from dash-auth) (3.0.6)\n",
      "Requirement already satisfied: plotly>=5.0.0 in e:\\5g_dashboard\\mydashenv\\lib\\site-packages (from dash>=1.1.1->dash-auth) (5.22.0)\n",
      "Requirement already satisfied: dash-html-components==2.0.0 in e:\\5g_dashboard\\mydashenv\\lib\\site-packages (from dash>=1.1.1->dash-auth) (2.0.0)\n",
      "Requirement already satisfied: dash-core-components==2.0.0 in e:\\5g_dashboard\\mydashenv\\lib\\site-packages (from dash>=1.1.1->dash-auth) (2.0.0)\n",
      "Requirement already satisfied: dash-table==5.0.0 in e:\\5g_dashboard\\mydashenv\\lib\\site-packages (from dash>=1.1.1->dash-auth) (5.0.0)\n",
      "Requirement already satisfied: importlib-metadata in e:\\5g_dashboard\\mydashenv\\lib\\site-packages (from dash>=1.1.1->dash-auth) (8.7.0)\n",
      "Requirement already satisfied: typing-extensions>=4.1.1 in e:\\5g_dashboard\\mydashenv\\lib\\site-packages (from dash>=1.1.1->dash-auth) (4.13.2)\n",
      "Requirement already satisfied: requests in e:\\5g_dashboard\\mydashenv\\lib\\site-packages (from dash>=1.1.1->dash-auth) (2.32.3)\n",
      "Requirement already satisfied: retrying in e:\\5g_dashboard\\mydashenv\\lib\\site-packages (from dash>=1.1.1->dash-auth) (1.3.4)\n",
      "Requirement already satisfied: nest-asyncio in e:\\5g_dashboard\\mydashenv\\lib\\site-packages (from dash>=1.1.1->dash-auth) (1.6.0)\n",
      "Requirement already satisfied: setuptools in e:\\5g_dashboard\\mydashenv\\lib\\site-packages (from dash>=1.1.1->dash-auth) (80.4.0)\n",
      "Requirement already satisfied: Jinja2>=3.1.2 in e:\\5g_dashboard\\mydashenv\\lib\\site-packages (from flask->dash-auth) (3.1.6)\n",
      "Requirement already satisfied: itsdangerous>=2.1.2 in e:\\5g_dashboard\\mydashenv\\lib\\site-packages (from flask->dash-auth) (2.2.0)\n",
      "Requirement already satisfied: click>=8.1.3 in e:\\5g_dashboard\\mydashenv\\lib\\site-packages (from flask->dash-auth) (8.2.0)\n",
      "Requirement already satisfied: blinker>=1.6.2 in e:\\5g_dashboard\\mydashenv\\lib\\site-packages (from flask->dash-auth) (1.9.0)\n",
      "Requirement already satisfied: MarkupSafe>=2.1.1 in e:\\5g_dashboard\\mydashenv\\lib\\site-packages (from werkzeug->dash-auth) (3.0.2)\n",
      "Requirement already satisfied: colorama in e:\\5g_dashboard\\mydashenv\\lib\\site-packages (from click>=8.1.3->flask->dash-auth) (0.4.6)\n",
      "Requirement already satisfied: tenacity>=6.2.0 in e:\\5g_dashboard\\mydashenv\\lib\\site-packages (from plotly>=5.0.0->dash>=1.1.1->dash-auth) (9.1.2)\n",
      "Requirement already satisfied: packaging in e:\\5g_dashboard\\mydashenv\\lib\\site-packages (from plotly>=5.0.0->dash>=1.1.1->dash-auth) (25.0)\n",
      "Requirement already satisfied: zipp>=3.20 in e:\\5g_dashboard\\mydashenv\\lib\\site-packages (from importlib-metadata->dash>=1.1.1->dash-auth) (3.21.0)\n",
      "Requirement already satisfied: charset-normalizer<4,>=2 in e:\\5g_dashboard\\mydashenv\\lib\\site-packages (from requests->dash>=1.1.1->dash-auth) (3.4.2)\n",
      "Requirement already satisfied: idna<4,>=2.5 in e:\\5g_dashboard\\mydashenv\\lib\\site-packages (from requests->dash>=1.1.1->dash-auth) (3.10)\n",
      "Requirement already satisfied: urllib3<3,>=1.21.1 in e:\\5g_dashboard\\mydashenv\\lib\\site-packages (from requests->dash>=1.1.1->dash-auth) (2.4.0)\n",
      "Requirement already satisfied: certifi>=2017.4.17 in e:\\5g_dashboard\\mydashenv\\lib\\site-packages (from requests->dash>=1.1.1->dash-auth) (2025.4.26)\n",
      "Requirement already satisfied: six>=1.7.0 in e:\\5g_dashboard\\mydashenv\\lib\\site-packages (from retrying->dash>=1.1.1->dash-auth) (1.17.0)\n",
      "Downloading dash_auth-2.3.0-py3-none-any.whl (14 kB)\n",
      "Installing collected packages: dash-auth\n",
      "Successfully installed dash-auth-2.3.0\n"
     ]
    },
    {
     "name": "stderr",
     "output_type": "stream",
     "text": [
      "\n",
      "[notice] A new release of pip is available: 24.0 -> 25.1.1\n",
      "[notice] To update, run: python.exe -m pip install --upgrade pip\n"
     ]
    }
   ],
   "source": [
    "!pip install dash-auth"
   ]
  },
  {
   "cell_type": "code",
   "execution_count": 3,
   "id": "43daa558-cfc9-46db-a663-cb8a7a6f2e35",
   "metadata": {},
   "outputs": [
    {
     "ename": "Exception",
     "evalue": "Login Required",
     "output_type": "error",
     "traceback": [
      "\u001b[31m---------------------------------------------------------------------------\u001b[39m",
      "\u001b[31mException\u001b[39m                                 Traceback (most recent call last)",
      "\u001b[36mCell\u001b[39m\u001b[36m \u001b[39m\u001b[32mIn[3]\u001b[39m\u001b[32m, line 34\u001b[39m\n\u001b[32m     18\u001b[39m app.layout = html.Div([\n\u001b[32m     19\u001b[39m     html.H1(\u001b[33m'\u001b[39m\u001b[33mUser Authentication Example\u001b[39m\u001b[33m'\u001b[39m),\n\u001b[32m     20\u001b[39m     dcc.Graph(\n\u001b[32m   (...)\u001b[39m\u001b[32m     30\u001b[39m     )\n\u001b[32m     31\u001b[39m ])\n\u001b[32m     33\u001b[39m \u001b[38;5;28;01mif\u001b[39;00m \u001b[34m__name__\u001b[39m == \u001b[33m'\u001b[39m\u001b[33m__main__\u001b[39m\u001b[33m'\u001b[39m:\n\u001b[32m---> \u001b[39m\u001b[32m34\u001b[39m     \u001b[43mapp\u001b[49m\u001b[43m.\u001b[49m\u001b[43mrun_server\u001b[49m\u001b[43m(\u001b[49m\u001b[43mdebug\u001b[49m\u001b[43m=\u001b[49m\u001b[38;5;28;43;01mTrue\u001b[39;49;00m\u001b[43m,\u001b[49m\u001b[43m \u001b[49m\u001b[43mport\u001b[49m\u001b[43m=\u001b[49m\u001b[32;43m8044\u001b[39;49m\u001b[43m)\u001b[49m\n",
      "\u001b[36mFile \u001b[39m\u001b[32mE:\\5G_dashboard\\mydashenv\\Lib\\site-packages\\dash\\dash.py:2277\u001b[39m, in \u001b[36mDash.run_server\u001b[39m\u001b[34m(self, *args, **kwargs)\u001b[39m\n\u001b[32m   2271\u001b[39m \u001b[38;5;28;01mdef\u001b[39;00m\u001b[38;5;250m \u001b[39m\u001b[34mrun_server\u001b[39m(\u001b[38;5;28mself\u001b[39m, *args, **kwargs):\n\u001b[32m   2272\u001b[39m \u001b[38;5;250m    \u001b[39m\u001b[33;03m\"\"\"`run_server` is a deprecated alias of `run` and may be removed in a\u001b[39;00m\n\u001b[32m   2273\u001b[39m \u001b[33;03m    future version. We recommend using `app.run` instead.\u001b[39;00m\n\u001b[32m   2274\u001b[39m \n\u001b[32m   2275\u001b[39m \u001b[33;03m    See `app.run` for usage information.\u001b[39;00m\n\u001b[32m   2276\u001b[39m \u001b[33;03m    \"\"\"\u001b[39;00m\n\u001b[32m-> \u001b[39m\u001b[32m2277\u001b[39m     \u001b[38;5;28;43mself\u001b[39;49m\u001b[43m.\u001b[49m\u001b[43mrun\u001b[49m\u001b[43m(\u001b[49m\u001b[43m*\u001b[49m\u001b[43margs\u001b[49m\u001b[43m,\u001b[49m\u001b[43m \u001b[49m\u001b[43m*\u001b[49m\u001b[43m*\u001b[49m\u001b[43mkwargs\u001b[49m\u001b[43m)\u001b[49m\n",
      "\u001b[36mFile \u001b[39m\u001b[32mE:\\5G_dashboard\\mydashenv\\Lib\\site-packages\\dash\\dash.py:2168\u001b[39m, in \u001b[36mDash.run\u001b[39m\u001b[34m(self, host, port, proxy, debug, jupyter_mode, jupyter_width, jupyter_height, jupyter_server_url, dev_tools_ui, dev_tools_props_check, dev_tools_serve_dev_bundles, dev_tools_hot_reload, dev_tools_hot_reload_interval, dev_tools_hot_reload_watch_interval, dev_tools_hot_reload_max_retry, dev_tools_silence_routes_logging, dev_tools_prune_errors, **flask_run_options)\u001b[39m\n\u001b[32m   2165\u001b[39m             extra_files.append(path)\n\u001b[32m   2167\u001b[39m \u001b[38;5;28;01mif\u001b[39;00m jupyter_dash.active:\n\u001b[32m-> \u001b[39m\u001b[32m2168\u001b[39m     \u001b[43mjupyter_dash\u001b[49m\u001b[43m.\u001b[49m\u001b[43mrun_app\u001b[49m\u001b[43m(\u001b[49m\n\u001b[32m   2169\u001b[39m \u001b[43m        \u001b[49m\u001b[38;5;28;43mself\u001b[39;49m\u001b[43m,\u001b[49m\n\u001b[32m   2170\u001b[39m \u001b[43m        \u001b[49m\u001b[43mmode\u001b[49m\u001b[43m=\u001b[49m\u001b[43mjupyter_mode\u001b[49m\u001b[43m,\u001b[49m\n\u001b[32m   2171\u001b[39m \u001b[43m        \u001b[49m\u001b[43mwidth\u001b[49m\u001b[43m=\u001b[49m\u001b[43mjupyter_width\u001b[49m\u001b[43m,\u001b[49m\n\u001b[32m   2172\u001b[39m \u001b[43m        \u001b[49m\u001b[43mheight\u001b[49m\u001b[43m=\u001b[49m\u001b[43mjupyter_height\u001b[49m\u001b[43m,\u001b[49m\n\u001b[32m   2173\u001b[39m \u001b[43m        \u001b[49m\u001b[43mhost\u001b[49m\u001b[43m=\u001b[49m\u001b[43mhost\u001b[49m\u001b[43m,\u001b[49m\n\u001b[32m   2174\u001b[39m \u001b[43m        \u001b[49m\u001b[43mport\u001b[49m\u001b[43m=\u001b[49m\u001b[43mport\u001b[49m\u001b[43m,\u001b[49m\n\u001b[32m   2175\u001b[39m \u001b[43m        \u001b[49m\u001b[43mserver_url\u001b[49m\u001b[43m=\u001b[49m\u001b[43mjupyter_server_url\u001b[49m\u001b[43m,\u001b[49m\n\u001b[32m   2176\u001b[39m \u001b[43m    \u001b[49m\u001b[43m)\u001b[49m\n\u001b[32m   2177\u001b[39m \u001b[38;5;28;01melse\u001b[39;00m:\n\u001b[32m   2178\u001b[39m     \u001b[38;5;28mself\u001b[39m.server.run(host=host, port=port, debug=debug, **flask_run_options)\n",
      "\u001b[36mFile \u001b[39m\u001b[32mE:\\5G_dashboard\\mydashenv\\Lib\\site-packages\\dash\\_jupyter.py:404\u001b[39m, in \u001b[36mJupyterDash.run_app\u001b[39m\u001b[34m(self, app, mode, width, height, host, port, server_url)\u001b[39m\n\u001b[32m    402\u001b[39m     display(HTML(msg))\n\u001b[32m    403\u001b[39m \u001b[38;5;28;01melse\u001b[39;00m:\n\u001b[32m--> \u001b[39m\u001b[32m404\u001b[39m     \u001b[38;5;28;01mraise\u001b[39;00m final_error\n",
      "\u001b[36mFile \u001b[39m\u001b[32mE:\\5G_dashboard\\mydashenv\\Lib\\site-packages\\dash\\_jupyter.py:391\u001b[39m, in \u001b[36mJupyterDash.run_app\u001b[39m\u001b[34m(self, app, mode, width, height, host, port, server_url)\u001b[39m\n\u001b[32m    388\u001b[39m         \u001b[38;5;28;01mraise\u001b[39;00m err\n\u001b[32m    390\u001b[39m \u001b[38;5;28;01mtry\u001b[39;00m:\n\u001b[32m--> \u001b[39m\u001b[32m391\u001b[39m     \u001b[43mwait_for_app\u001b[49m\u001b[43m(\u001b[49m\u001b[43m)\u001b[49m\n\u001b[32m    393\u001b[39m     \u001b[38;5;28;01mif\u001b[39;00m \u001b[38;5;28mself\u001b[39m.in_colab:\n\u001b[32m    394\u001b[39m         JupyterDash._display_in_colab(dashboard_url, port, mode, width, height)\n",
      "\u001b[36mFile \u001b[39m\u001b[32mE:\\5G_dashboard\\mydashenv\\Lib\\site-packages\\retrying.py:56\u001b[39m, in \u001b[36mretry.<locals>.wrap.<locals>.wrapped_f\u001b[39m\u001b[34m(*args, **kw)\u001b[39m\n\u001b[32m     54\u001b[39m \u001b[38;5;129m@six\u001b[39m.wraps(f)\n\u001b[32m     55\u001b[39m \u001b[38;5;28;01mdef\u001b[39;00m\u001b[38;5;250m \u001b[39m\u001b[34mwrapped_f\u001b[39m(*args, **kw):\n\u001b[32m---> \u001b[39m\u001b[32m56\u001b[39m     \u001b[38;5;28;01mreturn\u001b[39;00m \u001b[43mRetrying\u001b[49m\u001b[43m(\u001b[49m\u001b[43m*\u001b[49m\u001b[43mdargs\u001b[49m\u001b[43m,\u001b[49m\u001b[43m \u001b[49m\u001b[43m*\u001b[49m\u001b[43m*\u001b[49m\u001b[43mdkw\u001b[49m\u001b[43m)\u001b[49m\u001b[43m.\u001b[49m\u001b[43mcall\u001b[49m\u001b[43m(\u001b[49m\u001b[43mf\u001b[49m\u001b[43m,\u001b[49m\u001b[43m \u001b[49m\u001b[43m*\u001b[49m\u001b[43margs\u001b[49m\u001b[43m,\u001b[49m\u001b[43m \u001b[49m\u001b[43m*\u001b[49m\u001b[43m*\u001b[49m\u001b[43mkw\u001b[49m\u001b[43m)\u001b[49m\n",
      "\u001b[36mFile \u001b[39m\u001b[32mE:\\5G_dashboard\\mydashenv\\Lib\\site-packages\\retrying.py:266\u001b[39m, in \u001b[36mRetrying.call\u001b[39m\u001b[34m(self, fn, *args, **kwargs)\u001b[39m\n\u001b[32m    263\u001b[39m \u001b[38;5;28;01mif\u001b[39;00m \u001b[38;5;28mself\u001b[39m.stop(attempt_number, delay_since_first_attempt_ms):\n\u001b[32m    264\u001b[39m     \u001b[38;5;28;01mif\u001b[39;00m \u001b[38;5;129;01mnot\u001b[39;00m \u001b[38;5;28mself\u001b[39m._wrap_exception \u001b[38;5;129;01mand\u001b[39;00m attempt.has_exception:\n\u001b[32m    265\u001b[39m         \u001b[38;5;66;03m# get() on an attempt with an exception should cause it to be raised, but raise just in case\u001b[39;00m\n\u001b[32m--> \u001b[39m\u001b[32m266\u001b[39m         \u001b[38;5;28;01mraise\u001b[39;00m \u001b[43mattempt\u001b[49m\u001b[43m.\u001b[49m\u001b[43mget\u001b[49m\u001b[43m(\u001b[49m\u001b[43m)\u001b[49m\n\u001b[32m    267\u001b[39m     \u001b[38;5;28;01melse\u001b[39;00m:\n\u001b[32m    268\u001b[39m         \u001b[38;5;28;01mraise\u001b[39;00m RetryError(attempt)\n",
      "\u001b[36mFile \u001b[39m\u001b[32mE:\\5G_dashboard\\mydashenv\\Lib\\site-packages\\retrying.py:301\u001b[39m, in \u001b[36mAttempt.get\u001b[39m\u001b[34m(self, wrap_exception)\u001b[39m\n\u001b[32m    299\u001b[39m         \u001b[38;5;28;01mraise\u001b[39;00m RetryError(\u001b[38;5;28mself\u001b[39m)\n\u001b[32m    300\u001b[39m     \u001b[38;5;28;01melse\u001b[39;00m:\n\u001b[32m--> \u001b[39m\u001b[32m301\u001b[39m         \u001b[43msix\u001b[49m\u001b[43m.\u001b[49m\u001b[43mreraise\u001b[49m\u001b[43m(\u001b[49m\u001b[38;5;28;43mself\u001b[39;49m\u001b[43m.\u001b[49m\u001b[43mvalue\u001b[49m\u001b[43m[\u001b[49m\u001b[32;43m0\u001b[39;49m\u001b[43m]\u001b[49m\u001b[43m,\u001b[49m\u001b[43m \u001b[49m\u001b[38;5;28;43mself\u001b[39;49m\u001b[43m.\u001b[49m\u001b[43mvalue\u001b[49m\u001b[43m[\u001b[49m\u001b[32;43m1\u001b[39;49m\u001b[43m]\u001b[49m\u001b[43m,\u001b[49m\u001b[43m \u001b[49m\u001b[38;5;28;43mself\u001b[39;49m\u001b[43m.\u001b[49m\u001b[43mvalue\u001b[49m\u001b[43m[\u001b[49m\u001b[32;43m2\u001b[39;49m\u001b[43m]\u001b[49m\u001b[43m)\u001b[49m\n\u001b[32m    302\u001b[39m \u001b[38;5;28;01melse\u001b[39;00m:\n\u001b[32m    303\u001b[39m     \u001b[38;5;28;01mreturn\u001b[39;00m \u001b[38;5;28mself\u001b[39m.value\n",
      "\u001b[36mFile \u001b[39m\u001b[32mE:\\5G_dashboard\\mydashenv\\Lib\\site-packages\\six.py:724\u001b[39m, in \u001b[36mreraise\u001b[39m\u001b[34m(tp, value, tb)\u001b[39m\n\u001b[32m    722\u001b[39m     \u001b[38;5;28;01mif\u001b[39;00m value.__traceback__ \u001b[38;5;129;01mis\u001b[39;00m \u001b[38;5;129;01mnot\u001b[39;00m tb:\n\u001b[32m    723\u001b[39m         \u001b[38;5;28;01mraise\u001b[39;00m value.with_traceback(tb)\n\u001b[32m--> \u001b[39m\u001b[32m724\u001b[39m     \u001b[38;5;28;01mraise\u001b[39;00m value\n\u001b[32m    725\u001b[39m \u001b[38;5;28;01mfinally\u001b[39;00m:\n\u001b[32m    726\u001b[39m     value = \u001b[38;5;28;01mNone\u001b[39;00m\n",
      "\u001b[36mFile \u001b[39m\u001b[32mE:\\5G_dashboard\\mydashenv\\Lib\\site-packages\\retrying.py:251\u001b[39m, in \u001b[36mRetrying.call\u001b[39m\u001b[34m(self, fn, *args, **kwargs)\u001b[39m\n\u001b[32m    248\u001b[39m     \u001b[38;5;28mself\u001b[39m._before_attempts(attempt_number)\n\u001b[32m    250\u001b[39m \u001b[38;5;28;01mtry\u001b[39;00m:\n\u001b[32m--> \u001b[39m\u001b[32m251\u001b[39m     attempt = Attempt(\u001b[43mfn\u001b[49m\u001b[43m(\u001b[49m\u001b[43m*\u001b[49m\u001b[43margs\u001b[49m\u001b[43m,\u001b[49m\u001b[43m \u001b[49m\u001b[43m*\u001b[49m\u001b[43m*\u001b[49m\u001b[43mkwargs\u001b[49m\u001b[43m)\u001b[49m, attempt_number, \u001b[38;5;28;01mFalse\u001b[39;00m)\n\u001b[32m    252\u001b[39m \u001b[38;5;28;01mexcept\u001b[39;00m:\n\u001b[32m    253\u001b[39m     tb = sys.exc_info()\n",
      "\u001b[36mFile \u001b[39m\u001b[32mE:\\5G_dashboard\\mydashenv\\Lib\\site-packages\\dash\\_jupyter.py:378\u001b[39m, in \u001b[36mJupyterDash.run_app.<locals>.wait_for_app\u001b[39m\u001b[34m()\u001b[39m\n\u001b[32m    376\u001b[39m res = req.content.decode()\n\u001b[32m    377\u001b[39m \u001b[38;5;28;01mif\u001b[39;00m req.status_code != \u001b[32m200\u001b[39m:\n\u001b[32m--> \u001b[39m\u001b[32m378\u001b[39m     \u001b[38;5;28;01mraise\u001b[39;00m \u001b[38;5;167;01mException\u001b[39;00m(res)\n\u001b[32m    380\u001b[39m \u001b[38;5;28;01mif\u001b[39;00m res != \u001b[33m\"\u001b[39m\u001b[33mAlive\u001b[39m\u001b[33m\"\u001b[39m:\n\u001b[32m    381\u001b[39m     url = \u001b[33mf\u001b[39m\u001b[33m\"\u001b[39m\u001b[33mhttp://\u001b[39m\u001b[38;5;132;01m{\u001b[39;00mhost\u001b[38;5;132;01m}\u001b[39;00m\u001b[33m:\u001b[39m\u001b[38;5;132;01m{\u001b[39;00mport\u001b[38;5;132;01m}\u001b[39;00m\u001b[33m\"\u001b[39m\n",
      "\u001b[31mException\u001b[39m: Login Required"
     ]
    }
   ],
   "source": [
    "import dash\n",
    "from dash import dcc, html\n",
    "from dash.dependencies import Input, Output\n",
    "import dash_auth\n",
    "\n",
    "# Sample users\n",
    "VALID_USERNAME_PASSWORD_PAIRS = {\n",
    "    'testuser': 'testpassword'\n",
    "}\n",
    "\n",
    "# Initialize Dash\n",
    "app = dash.Dash(__name__)\n",
    "auth = dash_auth.BasicAuth(\n",
    "    app,\n",
    "    VALID_USERNAME_PASSWORD_PAIRS\n",
    ")\n",
    "\n",
    "app.layout = html.Div([\n",
    "    html.H1('User Authentication Example'),\n",
    "    dcc.Graph(\n",
    "        id='example-graph',\n",
    "        figure={\n",
    "            'data': [\n",
    "                {'x': [1, 2, 3], 'y': [4, 1, 2], 'type': 'line', 'name': 'SF'},\n",
    "            ],\n",
    "            'layout': {\n",
    "                'title': 'Dash Data Visualization'\n",
    "            }\n",
    "        }\n",
    "    )\n",
    "])\n",
    "\n",
    "if __name__ == '__main__':\n",
    "    app.run_server(debug=True, port=8044)\n"
   ]
  }
 ],
 "metadata": {
  "kernelspec": {
   "display_name": "Python 3 (ipykernel)",
   "language": "python",
   "name": "python3"
  },
  "language_info": {
   "codemirror_mode": {
    "name": "ipython",
    "version": 3
   },
   "file_extension": ".py",
   "mimetype": "text/x-python",
   "name": "python",
   "nbconvert_exporter": "python",
   "pygments_lexer": "ipython3",
   "version": "3.12.3"
  }
 },
 "nbformat": 4,
 "nbformat_minor": 5
}
