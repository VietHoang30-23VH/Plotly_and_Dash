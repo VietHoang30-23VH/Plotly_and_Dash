{
 "cells": [
  {
   "cell_type": "markdown",
   "id": "5af4fe62-055d-4cda-9a85-1c3f3f2fb6da",
   "metadata": {},
   "source": [
    "### File Upload and Download\n",
    "\n",
    "These functionalities are essential for applications that need to process user data or provide downloadable content.\n",
    "\n",
    "**1. File Upload**\n",
    "\n",
    "File uploads allow users to upload files from their local machine to the application for processing.\n",
    "\n",
    "**Example: File Upload**\n",
    "\n",
    "The following code demonstrates how to create a file upload component in Dash."
   ]
  },
  {
   "cell_type": "code",
   "execution_count": 1,
   "id": "10efa66c-3b9a-4d0e-b80c-2dd40c94bbb2",
   "metadata": {},
   "outputs": [],
   "source": [
    "import dash\n",
    "from dash import dcc, html\n",
    "from dash.dependencies import Input, Output, State\n",
    "import base64\n",
    "import io"
   ]
  },
  {
   "cell_type": "code",
   "execution_count": 2,
   "id": "4c58c064-215a-478d-b639-983869f79eb5",
   "metadata": {},
   "outputs": [],
   "source": [
    "app5 = dash.Dash(__name__)\n",
    "\n",
    "app5.layout = html.Div([\n",
    "    dcc.Upload(\n",
    "        id='upload-data',\n",
    "        children=html.Div([\n",
    "            'Drag and Drop or ',\n",
    "            html.A('Select Files')\n",
    "        ]),\n",
    "        style={\n",
    "            'width': '100%',\n",
    "            'height': '60px',\n",
    "            'lineHeight': '60px',\n",
    "            'borderWidth': '1px',\n",
    "            'borderStyle': 'dashed',\n",
    "            'borderRadius': '5px',\n",
    "            'textAlign': 'center',\n",
    "            'margin': '10px'\n",
    "        },\n",
    "        multiple=True\n",
    "    ),\n",
    "    html.Div(id='output-data-upload')\n",
    "])\n",
    "def parse_contents(contents, filename):\n",
    "    content_type, content_string = contents.split(',')\n",
    "    decoded = base64.b64decode(content_string)\n",
    "    return html.Div([\n",
    "        html.H5(filename),\n",
    "        html.Hr(),\n",
    "        html.Pre(decoded[:200].decode('utf-8'))\n",
    "    ])\n",
    "\n",
    "@app5.callback(Output('output-data-upload', 'children'),\n",
    "              [Input('upload-data', 'contents')],\n",
    "              [State('upload-data', 'filename')])\n",
    "def update_output(list_of_contents, list_of_names):\n",
    "    if list_of_contents is not None:\n",
    "        children = [\n",
    "            parse_contents(c, n) for c, n in zip(list_of_contents, list_of_names)\n",
    "        ]\n",
    "        return children"
   ]
  },
  {
   "cell_type": "code",
   "execution_count": 3,
   "id": "6af0b012-cd52-4fe9-9e51-0a6c84393742",
   "metadata": {},
   "outputs": [
    {
     "data": {
      "text/html": [
       "\n",
       "        <iframe\n",
       "            width=\"100%\"\n",
       "            height=\"650\"\n",
       "            src=\"http://127.0.0.1:8055/\"\n",
       "            frameborder=\"0\"\n",
       "            allowfullscreen\n",
       "            \n",
       "        ></iframe>\n",
       "        "
      ],
      "text/plain": [
       "<IPython.lib.display.IFrame at 0x1cd03fb3530>"
      ]
     },
     "metadata": {},
     "output_type": "display_data"
    }
   ],
   "source": [
    "if __name__ == '__main__':\n",
    "    app5.run_server(debug=True, port = 8055)"
   ]
  },
  {
   "cell_type": "markdown",
   "id": "6103b223-1a03-495a-8980-30370ec15131",
   "metadata": {},
   "source": [
    "**Explanation of the Code**\n",
    "\n",
    "1. **Creating the Layout**:\n",
    "   - `dcc.Upload(...)`: Creates a file upload component with a specified ID and styling. The `multiple=True` attribute allows multiple files to be uploaded.\n",
    "   - `html.Div(id='output-data-upload')`: Placeholder `div` for displaying uploaded file contents.\n",
    "\n",
    "2. **Callback for File Upload**:\n",
    "   - `@app.callback(Output('output-data-upload', 'children'), [Input('upload-data', 'contents')], [State('upload-data', 'filename')])`: Updates the `output-data-upload` `div` with the contents of the uploaded files.\n",
    "   - `def update_output(list_of_contents, list_of_names)`: Parses and displays the contents of the uploaded files.\n",
    "\n",
    "3. **Parsing File Contents**:\n",
    "   - `parse_contents(contents, filename)`: Decodes the uploaded file contents and returns an HTML `div` with the file name and a preview of the contents.)"
   ]
  },
  {
   "cell_type": "markdown",
   "id": "b86f441f-0626-4770-baa9-a211e4d86c52",
   "metadata": {},
   "source": [
    "**2. File Download**\n",
    "\n",
    "File downloads allow users to download files generated or processed by the application.\n",
    "\n",
    "**Example: File Download**\n",
    "\n",
    "The following code demonstrates how to create a file download link in Dash.\n",
    "\n",
    "```python"
   ]
  },
  {
   "cell_type": "code",
   "execution_count": 4,
   "id": "3757c8ef-5223-4f16-9f6c-baedca4b6fac",
   "metadata": {},
   "outputs": [
    {
     "data": {
      "text/html": [
       "\n",
       "        <iframe\n",
       "            width=\"100%\"\n",
       "            height=\"650\"\n",
       "            src=\"http://127.0.0.1:8056/\"\n",
       "            frameborder=\"0\"\n",
       "            allowfullscreen\n",
       "            \n",
       "        ></iframe>\n",
       "        "
      ],
      "text/plain": [
       "<IPython.lib.display.IFrame at 0x1cd0a51aae0>"
      ]
     },
     "metadata": {},
     "output_type": "display_data"
    }
   ],
   "source": [
    "\n",
    "import pandas as pd\n",
    "\n",
    "app6 = dash.Dash(__name__)\n",
    "\n",
    "app6.layout = html.Div([\n",
    "    html.Button(\"Download Data\", id=\"btn_download\"),\n",
    "    dcc.Download(id=\"download-dataframe-csv\")\n",
    "])\n",
    "\n",
    "@app6.callback(\n",
    "    Output(\"download-dataframe-csv\", \"data\"),\n",
    "    Input(\"btn_download\", \"n_clicks\"),\n",
    "    prevent_initial_call=True,\n",
    ")\n",
    "def func(n_clicks):\n",
    "    df = pd.DataFrame({\"Column 1\": [\"A\", \"B\", \"C\"], \"Column 2\": [1, 2, 3]})\n",
    "    return dcc.send_data_frame(df.to_csv, \"mydf.csv\")\n",
    "\n",
    "if __name__ == '__main__':\n",
    "    app6.run_server(debug=True, port = 8056)"
   ]
  },
  {
   "cell_type": "code",
   "execution_count": null,
   "id": "98b8a375-26a5-4a55-b3b9-dc0b029a53d3",
   "metadata": {},
   "outputs": [],
   "source": []
  }
 ],
 "metadata": {
  "kernelspec": {
   "display_name": "Python 3 (ipykernel)",
   "language": "python",
   "name": "python3"
  },
  "language_info": {
   "codemirror_mode": {
    "name": "ipython",
    "version": 3
   },
   "file_extension": ".py",
   "mimetype": "text/x-python",
   "name": "python",
   "nbconvert_exporter": "python",
   "pygments_lexer": "ipython3",
   "version": "3.12.3"
  }
 },
 "nbformat": 4,
 "nbformat_minor": 5
}
