{
 "cells": [
  {
   "cell_type": "markdown",
   "id": "243c83b2-bcb4-401f-809e-f8e32d88ce4e",
   "metadata": {},
   "source": [
    "# 2. Interactive Health Dashboard with Real-World Data\n",
    "\n",
    "Let's create a health dashboard using a publicly available dataset. For this example, we'll use a dataset from kaggle. \n",
    "\n",
    "Dataset: https://www.kaggle.com/datasets/ashudata/covid19dataset\n",
    "\n",
    "**Key Components:**\n",
    "- **Global Overview**: A line chart showing the trend of confirmed COVID-19 cases worldwide over time.\n",
    "- **Country Comparison**: An interactive tab where users can select multiple countries to compare their COVID-19 case trends.\n",
    "- **Deaths and Recoveries**: A line chart comparing global deaths and recoveries over time.\n",
    "- **Active Cases**: An area chart showing the trend of active cases across the globe.\n",
    "\n",
    "**Example: Health Dashboard on Covid-19 Dataset**\n",
    "\n",
    "First, download the dataset from the Kaggle and save it as `COVID_Data.csv`. You can download such datasets from Kaggle.\n",
    "\n",
    "here is the link to the:\n",
    "\n",
    "[Kaggle Covid-19 Dataset](https://www.kaggle.com/datasets/ashudata/covid19dataset)\n",
    "\n",
    "Now, let's create the dashboard:"
   ]
  },
  {
   "cell_type": "code",
   "execution_count": 5,
   "id": "2e7821b7-b880-4400-b475-955a10cc0890",
   "metadata": {},
   "outputs": [
    {
     "name": "stdout",
     "output_type": "stream",
     "text": [
      "   Unnamed: 0      Country       Date  Confirmed  Death  newConfirmed  \\\n",
      "0           1  Afghanistan 2019-12-31          0      0             0   \n",
      "1           2  Afghanistan 2020-01-01          0      0             0   \n",
      "2           3  Afghanistan 2020-01-02          0      0             0   \n",
      "3           4  Afghanistan 2020-01-03          0      0             0   \n",
      "4           5  Afghanistan 2020-01-04          0      0             0   \n",
      "\n",
      "   newDeath  \n",
      "0         0  \n",
      "1         0  \n",
      "2         0  \n",
      "3         0  \n",
      "4         0  \n"
     ]
    }
   ],
   "source": [
    "import dash\n",
    "from dash import dcc, html\n",
    "import dash_bootstrap_components as dbc\n",
    "from dash.dependencies import Input, Output\n",
    "import pandas as pd\n",
    "import plotly.express as px\n",
    "\n",
    "# Load the COVID-19 dataset\n",
    "df = pd.read_csv('COVID_Data.csv')\n",
    "\n",
    "# Initialize the Dash app\n",
    "app = dash.Dash(__name__, external_stylesheets=[dbc.themes.BOOTSTRAP])\n",
    "\n",
    "app.title = 'COVID-19 Health Dashboard'\n",
    "\n",
    "\n",
    "\n",
    "# Convert 'Date' column to datetime\n",
    "df['Date'] = pd.to_datetime(df['Date'])\n",
    "\n",
    "# Check the structure of the dataset\n",
    "print(df.head())\n",
    "\n",
    "# If necessary, aggregate data by country and date (depending on dataset structure)\n",
    "country_df = df.groupby(['Country', 'Date']).sum().reset_index()\n",
    "\n",
    "# Aggregating data for global overview\n",
    "global_df = df.groupby('Date').sum().reset_index()\n"
   ]
  },
  {
   "cell_type": "code",
   "execution_count": 6,
   "id": "a68bcef4-7c5a-4ac4-b090-c1276c85e676",
   "metadata": {},
   "outputs": [
    {
     "data": {
      "text/html": [
       "\n",
       "        <iframe\n",
       "            width=\"100%\"\n",
       "            height=\"650\"\n",
       "            src=\"http://127.0.0.1:8053/\"\n",
       "            frameborder=\"0\"\n",
       "            allowfullscreen\n",
       "            \n",
       "        ></iframe>\n",
       "        "
      ],
      "text/plain": [
       "<IPython.lib.display.IFrame at 0x1dbbe20b200>"
      ]
     },
     "metadata": {},
     "output_type": "display_data"
    }
   ],
   "source": [
    "\n",
    "\n",
    "# Define the layout with multiple tabs for different visualizations\n",
    "app.layout = dbc.Container([\n",
    "    dbc.Row([\n",
    "        dbc.Col(html.H1(\"COVID-19 Health Dashboard\", className=\"text-center text-primary mb-4\"), width=12)\n",
    "    ]),\n",
    "    \n",
    "    dcc.Tabs([\n",
    "        dcc.Tab(label='Global Overview', children=[\n",
    "            dcc.Graph(id='global-overview-graph', \n",
    "                      figure=px.line(global_df, x='Date', y='Confirmed', \n",
    "                                     title='Global Confirmed Cases Over Time'))\n",
    "        ]),\n",
    "        dcc.Tab(label='Country Comparison', children=[\n",
    "            html.Div([\n",
    "                html.Label('Select Countries:'),\n",
    "                dcc.Dropdown(id='country-dropdown', \n",
    "                             options=[{'label': country, 'value': country} for country in country_df['Country'].unique()],\n",
    "                             value=['United States', 'India', 'Brazil'], multi=True)\n",
    "            ]),\n",
    "            dcc.Graph(id='country-comparison-graph')\n",
    "        ]),\n",
    "        dcc.Tab(label='Deaths Analysis', children=[\n",
    "            dcc.Graph(id='deaths-analysis-graph', \n",
    "                      figure=px.line(country_df, x='Date', y='Death', color='Country', \n",
    "                                     title='Deaths Over Time'))\n",
    "        ]),\n",
    "        dcc.Tab(label='New Cases', children=[\n",
    "            dcc.Graph(id='new-cases-graph', \n",
    "                      figure=px.bar(global_df, x='Date', y='newConfirmed', \n",
    "                                    title='Global New Confirmed Cases Over Time'))\n",
    "        ]),\n",
    "        dcc.Tab(label='New Deaths', children=[\n",
    "            dcc.Graph(id='new-deaths-graph', \n",
    "                      figure=px.bar(global_df, x='Date', y='newDeath', \n",
    "                                    title='Global New Deaths Over Time'))\n",
    "        ])\n",
    "    ])\n",
    "])\n",
    "\n",
    "@app.callback(\n",
    "    Output('country-comparison-graph', 'figure'),\n",
    "    [Input('country-dropdown', 'value')]\n",
    ")\n",
    "def update_country_comparison(selected_countries):\n",
    "    filtered_df = country_df[country_df['Country'].isin(selected_countries)]\n",
    "    fig = px.line(filtered_df, x='Date', y='Confirmed', color='Country', \n",
    "                  title='Confirmed Cases Comparison')\n",
    "    return fig\n",
    "\n",
    "\n",
    "if __name__ == '__main__':\n",
    "    app.run_server(debug=True, port = 8053)"
   ]
  },
  {
   "cell_type": "markdown",
   "id": "e68f50d4-c507-4b79-af75-f339fed9da9d",
   "metadata": {},
   "source": [
    "This dashboard gives a comprehensive overview of COVID-19 data, with interactive features that allow users to explore different aspects of the pandemic's impact globally."
   ]
  },
  {
   "cell_type": "code",
   "execution_count": null,
   "id": "e9e1936a-b8f7-4310-a98f-2c1d11766b4d",
   "metadata": {},
   "outputs": [],
   "source": []
  }
 ],
 "metadata": {
  "kernelspec": {
   "display_name": "Python 3 (ipykernel)",
   "language": "python",
   "name": "python3"
  },
  "language_info": {
   "codemirror_mode": {
    "name": "ipython",
    "version": 3
   },
   "file_extension": ".py",
   "mimetype": "text/x-python",
   "name": "python",
   "nbconvert_exporter": "python",
   "pygments_lexer": "ipython3",
   "version": "3.12.3"
  }
 },
 "nbformat": 4,
 "nbformat_minor": 5
}
