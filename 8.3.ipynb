{
 "cells": [
  {
   "cell_type": "markdown",
   "id": "0aa8a10a-235b-4f99-842f-214eff5368c4",
   "metadata": {},
   "source": [
    "## 3. Animating Dashboards\n",
    "\n",
    "Animations in dashboards can significantly enhance the user experience by making the interface more interactive, providing visual feedback, and helping to highlight changes in data. Here are three types of animations commonly used in Dash applications: CSS Animations, JavaScript Animations, and Plotly Animations.\n",
    "\n",
    "**3.1 CSS Animations**\n",
    "\n",
    "CSS animations allow you to animate HTML elements without using JavaScript or Flash. They are defined using the `@keyframes` rule, which specifies the animation's style at various points during the cycle.\n",
    "\n",
    "**Example:**\n",
    "The following example animates the shape color of a `div` element."
   ]
  },
  {
   "cell_type": "code",
   "execution_count": null,
   "id": "755d39ea-941e-4b6a-8555-f785e6caf45c",
   "metadata": {},
   "outputs": [],
   "source": [
    "import dash\n",
    "from dash import html\n",
    "import dash_bootstrap_components as dbc\n",
    "\n",
    "# Initialize the Dash app\n",
    "app = dash.Dash(__name__, external_stylesheets=[dbc.themes.BOOTSTRAP])\n",
    "\n",
    "# Define the layout with embedded CSS\n",
    "app.layout = html.Div([\n",
    "    # Add a style block for the animation using raw HTML\n",
    "    html.Div([\n",
    "        html.Div(id='animated-square', style={\n",
    "            'width': '100px',\n",
    "            'height': '100px',\n",
    "            'background-color': 'blue',\n",
    "            'animation': 'changeColor 5s infinite'\n",
    "        }),\n",
    "        # Embed the CSS directly using an HTML style tag\n",
    "        html.Script('''\n",
    "        var style = document.createElement('style');\n",
    "        style.type = 'text/css';\n",
    "        style.innerHTML = `\n",
    "        @keyframes changeColor {\n",
    "            0% {background-color: blue;}\n",
    "            50% {background-color: red;}\n",
    "            100% {background-color: blue;}\n",
    "        }\n",
    "        #animated-square {\n",
    "            animation: changeColor 5s infinite;\n",
    "        }\n",
    "        `;\n",
    "        document.getElementsByTagName('head')[0].appendChild(style);\n",
    "        ''')\n",
    "    ])\n",
    "])\n",
    "\n",
    "# Run the Dash app\n",
    "if __name__ == '__main__':\n",
    "    app.run_server(debug=True)\n"
   ]
  },
  {
   "cell_type": "markdown",
   "id": "6e5c9b87-ead1-4a03-83f8-bc522a2e1054",
   "metadata": {},
   "source": [
    "In the example above, the `div` with the class `animated-div` changes its background color from blue to red to blue over a period of 5 seconds, repeatedly."
   ]
  },
  {
   "cell_type": "markdown",
   "id": "683e755f-a23b-4e72-8a92-dac4286cc2a6",
   "metadata": {},
   "source": [
    "**3.2 JavaScript Animations**\n",
    "\n",
    "JavaScript animations allow for more complex and controlled animations compared to CSS animations. Libraries like jQuery or GreenSock (GSAP) can be used to create these animations.\n",
    "\n",
    "**Example:**\n"
   ]
  },
  {
   "cell_type": "markdown",
   "id": "38ec8eba-a963-460d-bed9-394edf543762",
   "metadata": {},
   "source": [
    "1. **Create the JavaScript File:**\n",
    "\n",
    "   In the `assets` folder Interactive Dashboards, create a file named `custom.js`"
   ]
  },
  {
   "cell_type": "markdown",
   "id": "5138e1aa-8be2-42c8-a241-1f95a0a4a1fe",
   "metadata": {},
   "source": [
    "2. **Add JavaScript for Animation:**\n",
    "\n",
    "   Open `custom.js` and add the following JavaScript code:\n",
    "\n",
    "   ```javascript\n",
    "   document.addEventListener('DOMContentLoaded', function() {\n",
    "       let intervalComponent = document.querySelector('#interval');\n",
    "\n",
    "       if (intervalComponent) {\n",
    "           new MutationObserver(() => {\n",
    "               let animateButton = document.querySelector('#animate-button');\n",
    "               let animatedDiv = document.querySelector('#animated-div');\n",
    "\n",
    "               if (animateButton && animatedDiv) {\n",
    "                   animateButton.addEventListener('click', () => {\n",
    "                       $(\"#animated-div\").animate({height: \"200px\"}, 1000);\n",
    "                   });\n",
    "               }\n",
    "           }).observe(intervalComponent, { attributes: true });\n",
    "       }\n",
    "   });"
   ]
  },
  {
   "cell_type": "code",
   "execution_count": null,
   "id": "bb5f0e28-294c-481d-b451-58deefdbc2e3",
   "metadata": {},
   "outputs": [],
   "source": [
    "import dash\n",
    "from dash import dcc, html\n",
    "from dash.dependencies import Input, Output\n",
    "import dash_bootstrap_components as dbc\n",
    "\n",
    "app1 = dash.Dash(__name__, external_stylesheets=[dbc.themes.BOOTSTRAP])\n",
    "\n",
    "app1.layout = html.Div([\n",
    "    html.H1(\"JavaScript Animation Example\"),\n",
    "    html.Div(id='animated-div', style={'width': '200px', 'height': '100px', 'backgroundColor': 'blue', 'margin': '20px'}),\n",
    "    html.Button('Animate', id='animate-button', n_clicks=0),\n",
    "    dcc.Interval(id='interval', interval=1000, n_intervals=0, max_intervals=1)\n",
    "])\n",
    "\n",
    "@app1.callback(\n",
    "    Output('interval', 'max_intervals'),\n",
    "    [Input('animate-button', 'n_clicks')]\n",
    ")\n",
    "def trigger_animation(n_clicks):\n",
    "    if n_clicks > 0:\n",
    "        return 1  # Start the interval\n",
    "    return 0  # Do not start the interval\n",
    "\n",
    "if __name__ == '__main__':\n",
    "    app1.run_server(debug=True, port = 8053)"
   ]
  },
  {
   "cell_type": "markdown",
   "id": "38b14972-1ccc-4b94-9252-204ae0726d55",
   "metadata": {},
   "source": [
    "**3.3 Plotly Animations**\n",
    "\n",
    "Plotly, the graphing library used by Dash, has built-in support for animating graphs. This is particularly useful for data visualization, as it can help illustrate changes over time or other dynamic datasets.\n",
    "\n",
    "**Example:**\n",
    "The following example uses Plotly to animate a scatter plot: The `dcc.Interval` component triggers an update to the scatter plot every second, and the `animation_frame` parameter of Plotly Express is used to animate the graph over the `time` column in the dataframe.\n"
   ]
  },
  {
   "cell_type": "code",
   "execution_count": null,
   "id": "7921717f-a553-4524-ac38-cb5c8f977cb5",
   "metadata": {},
   "outputs": [],
   "source": [
    "import dash\n",
    "from dash import dcc, html\n",
    "from dash.dependencies import Input, Output\n",
    "import dash_bootstrap_components as dbc\n",
    "import plotly.express as px\n",
    "import pandas as pd\n",
    "\n",
    "# Create sample data\n",
    "df = pd.DataFrame({\n",
    "    'time': [1, 2, 3, 4, 5],\n",
    "    'x': [1, 2, 3, 4, 5],\n",
    "    'y': [10, 11, 12, 13, 14]\n",
    "})\n",
    "\n",
    "# Initialize Dash app\n",
    "app2 = dash.Dash(__name__)\n",
    "\n",
    "app2.layout = html.Div([\n",
    "    html.H1(\"Plotly Animation Example\"),\n",
    "    dcc.Graph(id='animated-graph'),\n",
    "    dcc.Interval(id='interval-component', interval=1000, n_intervals=0)\n",
    "])\n",
    "\n",
    "@app2.callback(\n",
    "    Output('animated-graph', 'figure'),\n",
    "    Input('interval-component', 'n_intervals')\n",
    ")\n",
    "def update_graph(n):\n",
    "    fig = px.scatter(df, x='x', y='y', animation_frame='time', range_x=[0, 6], range_y=[9, 15])\n",
    "    return fig\n",
    "\n",
    "if __name__ == '__main__':\n",
    "    app2.run_server(debug=True, port = 8054)"
   ]
  },
  {
   "cell_type": "code",
   "execution_count": null,
   "id": "6a0618c9-bb52-4de5-afdd-2aa640c4a2f2",
   "metadata": {},
   "outputs": [],
   "source": []
  },
  {
   "cell_type": "markdown",
   "id": "c554cdf2-62a6-4bb8-b06e-54ad98883622",
   "metadata": {},
   "source": [
    "Each type of animation serves different purposes and is suited to different kinds of tasks:\n",
    "\n",
    "- **CSS Animations** are great for simple transitions and effects.\n",
    "- **JavaScript Animations** offer more control and complexity for interactive elements.\n",
    "- **Plotly Animations** are excellent for animating data visualizations.\n",
    "\n",
    "By incorporating these animations into your Dash applications, you can enhance user engagement, provide visual feedback, and make complex data more understandable."
   ]
  },
  {
   "cell_type": "code",
   "execution_count": null,
   "id": "8e35633a-6e48-4528-bf36-09c80b172f5d",
   "metadata": {},
   "outputs": [],
   "source": []
  }
 ],
 "metadata": {
  "kernelspec": {
   "display_name": "Python 3 (ipykernel)",
   "language": "python",
   "name": "python3"
  },
  "language_info": {
   "codemirror_mode": {
    "name": "ipython",
    "version": 3
   },
   "file_extension": ".py",
   "mimetype": "text/x-python",
   "name": "python",
   "nbconvert_exporter": "python",
   "pygments_lexer": "ipython3",
   "version": "3.12.3"
  }
 },
 "nbformat": 4,
 "nbformat_minor": 5
}
