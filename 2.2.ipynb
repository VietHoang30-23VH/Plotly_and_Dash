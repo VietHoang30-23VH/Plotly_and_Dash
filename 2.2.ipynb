{
 "cells": [
  {
   "cell_type": "markdown",
   "id": "87f792b4-4d6d-4e3e-92f0-172e1fe2abf8",
   "metadata": {},
   "source": [
    "**Adding Interactivity**"
   ]
  },
  {
   "cell_type": "markdown",
   "id": "a9027cac-f218-4dc6-81f0-d971528f8a02",
   "metadata": {},
   "source": [
    "1. Understanding Callbacks\n",
    "\n",
    "Callbacks in Dash are Python functions that are automatically called when an input component’s property changes. \n",
    "They allow you to update the output components dynamically based on user interactions.\n",
    "\n",
    "Basic Callback Structure\n",
    "\n",
    "A callback function in Dash typically follows this structure:\n"
   ]
  },
  {
   "cell_type": "markdown",
   "id": "27419fd4-75c0-40db-b5bc-a0baf5460a26",
   "metadata": {},
   "source": [
    "Example: Updating Text Based on Dropdown Selection\n",
    "\n",
    "Let's create a simple interactive dashboard where the text displayed changes based on a dropdown selection."
   ]
  },
  {
   "cell_type": "code",
   "execution_count": 5,
   "id": "0b310d74-da11-4f28-91e7-c2a8fa2e431e",
   "metadata": {},
   "outputs": [
    {
     "data": {
      "text/html": [
       "\n",
       "        <iframe\n",
       "            width=\"100%\"\n",
       "            height=\"650\"\n",
       "            src=\"http://127.0.0.1:8051/\"\n",
       "            frameborder=\"0\"\n",
       "            allowfullscreen\n",
       "            \n",
       "        ></iframe>\n",
       "        "
      ],
      "text/plain": [
       "<IPython.lib.display.IFrame at 0x22052312b70>"
      ]
     },
     "metadata": {},
     "output_type": "display_data"
    }
   ],
   "source": [
    "import dash\n",
    "import dash.dcc as dcc\n",
    "import dash.html as html\n",
    "from dash.dependencies import Input, Output\n",
    "\n",
    "# Initialize the Dash app\n",
    "app = dash.Dash(__name__)\n",
    "\n",
    "# Define the layout\n",
    "app.layout = html.Div([\n",
    "    html.H1('Interactive Dashboard'),\n",
    "    dcc.Dropdown(\n",
    "        id='my-dropdown',\n",
    "        options=[\n",
    "            {'label': 'Option 1', 'value': 'opt1'},\n",
    "            {'label': 'Option 2', 'value': 'opt2'}\n",
    "        ],\n",
    "        value='opt1'  # Default value\n",
    "    ),\n",
    "    html.Div(id='output-div')  # Placeholder for the output\n",
    "])\n",
    "\n",
    "# Define the callback\n",
    "@app.callback(\n",
    "    Output('output-div', 'children'),\n",
    "    [Input('my-dropdown', 'value')]\n",
    ")\n",
    "def update_output_div(selected_value):\n",
    "    return f'You have selected {selected_value}'\n",
    "\n",
    "# Run the app\n",
    "if __name__ == '__main__':\n",
    "    app.run_server(debug=True, port=8051)"
   ]
  },
  {
   "cell_type": "code",
   "execution_count": null,
   "id": "9c0f7d38-6794-4f55-8514-d24c044b4777",
   "metadata": {},
   "outputs": [],
   "source": []
  },
  {
   "cell_type": "markdown",
   "id": "13bc1d17-1880-49f2-889d-eef6cd543593",
   "metadata": {},
   "source": [
    "2. Interacting with Graphs\n",
    "\n",
    "Dash also allows you to create interactive graphs. Let’s enhance our example to update a graph based on dropdown selection.\n",
    "\n",
    "Example: Updating a Graph Based on Dropdown Selection\n"
   ]
  },
  {
   "cell_type": "code",
   "execution_count": 8,
   "id": "d7593683-7b09-4cd3-b782-4338220237b0",
   "metadata": {
    "scrolled": true
   },
   "outputs": [
    {
     "data": {
      "text/html": [
       "\n",
       "        <iframe\n",
       "            width=\"100%\"\n",
       "            height=\"650\"\n",
       "            src=\"http://127.0.0.1:8051/\"\n",
       "            frameborder=\"0\"\n",
       "            allowfullscreen\n",
       "            \n",
       "        ></iframe>\n",
       "        "
      ],
      "text/plain": [
       "<IPython.lib.display.IFrame at 0x220543a33b0>"
      ]
     },
     "metadata": {},
     "output_type": "display_data"
    }
   ],
   "source": [
    "import plotly.graph_objs as go\n",
    "import dash\n",
    "import dash.dcc as dcc\n",
    "import dash.html as html\n",
    "from dash.dependencies import Input, Output\n",
    "\n",
    "\n",
    "app = dash.Dash(__name__)\n",
    "\n",
    "app.layout = html.Div([\n",
    "    html.H1('Interactive Dashboard with Graph'),\n",
    "    dcc.Dropdown(\n",
    "        id='graph-dropdown',\n",
    "        options=[\n",
    "            {'label': 'Option 1', 'value': 'opt1'},\n",
    "            {'label': 'Option 2', 'value': 'opt2'}\n",
    "        ],\n",
    "        value='opt1'  # Default value\n",
    "    ),\n",
    "    dcc.Graph(id='example-graph')  # Graph component\n",
    "])\n",
    "\n",
    "@app.callback(\n",
    "    Output('example-graph', 'figure'),\n",
    "    [Input('graph-dropdown', 'value')]\n",
    ")\n",
    "def update_graph(selected_value):\n",
    "    if selected_value == 'opt1':\n",
    "        data = [\n",
    "            go.Bar(x=[1, 2, 3], y=[4, 1, 2], name='Option 1 Data')\n",
    "        ]\n",
    "    else:\n",
    "        data = [\n",
    "            go.Bar(x=[1, 2, 3], y=[2, 4, 5], name='Option 2 Data')\n",
    "        ]\n",
    "    \n",
    "    return {\n",
    "        'data': data,\n",
    "        'layout': go.Layout(title='Example Graph')\n",
    "    }\n",
    "\n",
    "if __name__ == '__main__':\n",
    "    app.run_server(debug=True, port=8051)"
   ]
  },
  {
   "cell_type": "code",
   "execution_count": null,
   "id": "d9ae5fab-11ea-4e57-9a53-946daed56088",
   "metadata": {},
   "outputs": [],
   "source": []
  },
  {
   "cell_type": "code",
   "execution_count": null,
   "id": "151ec0db-25a0-4b33-a657-2d5a01d2b2a2",
   "metadata": {},
   "outputs": [],
   "source": []
  }
 ],
 "metadata": {
  "kernelspec": {
   "display_name": "Python 3 (ipykernel)",
   "language": "python",
   "name": "python3"
  },
  "language_info": {
   "codemirror_mode": {
    "name": "ipython",
    "version": 3
   },
   "file_extension": ".py",
   "mimetype": "text/x-python",
   "name": "python",
   "nbconvert_exporter": "python",
   "pygments_lexer": "ipython3",
   "version": "3.12.3"
  }
 },
 "nbformat": 4,
 "nbformat_minor": 5
}
