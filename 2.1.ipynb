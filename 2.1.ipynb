{
 "cells": [
  {
   "cell_type": "markdown",
   "id": "98992126-2b66-415a-ac32-adc690835aa0",
   "metadata": {},
   "source": [
    "**Dash Layout Basics**"
   ]
  },
  {
   "cell_type": "markdown",
   "id": "6b262d5c-444a-4de1-81dd-425aaa3cedf1",
   "metadata": {},
   "source": [
    "1. HTML Divisions (html.Div)\n",
    "\n",
    "HTML divisions (Div) in Dash serve as containers that help organize and structure your dashboard's layout. \n",
    "They are versatile and can hold text, graphs, tables, and other components."
   ]
  },
  {
   "cell_type": "markdown",
   "id": "5076f9c0-dc73-4dfe-9ada-93f4e1629d11",
   "metadata": {},
   "source": [
    "Creating a Basic Layout with html.Div"
   ]
  },
  {
   "cell_type": "code",
   "execution_count": 3,
   "id": "63d89a41-bb70-441a-944d-69acca473e4c",
   "metadata": {},
   "outputs": [
    {
     "name": "stdout",
     "output_type": "stream",
     "text": [
      "Requirement already satisfied: jupyterlab in e:\\5g_dashboard\\mydashenv\\lib\\site-packages (4.4.2)\n",
      "Requirement already satisfied: dash in e:\\5g_dashboard\\mydashenv\\lib\\site-packages (2.17.1)\n",
      "Requirement already satisfied: dash-core-components in e:\\5g_dashboard\\mydashenv\\lib\\site-packages (2.0.0)\n",
      "Requirement already satisfied: dash-html-components in e:\\5g_dashboard\\mydashenv\\lib\\site-packages (2.0.0)\n",
      "Collecting jupyter-dash\n",
      "  Downloading jupyter_dash-0.4.2-py3-none-any.whl.metadata (3.6 kB)\n",
      "Requirement already satisfied: async-lru>=1.0.0 in e:\\5g_dashboard\\mydashenv\\lib\\site-packages (from jupyterlab) (2.0.5)\n",
      "Requirement already satisfied: httpx>=0.25.0 in e:\\5g_dashboard\\mydashenv\\lib\\site-packages (from jupyterlab) (0.28.1)\n",
      "Requirement already satisfied: ipykernel>=6.5.0 in e:\\5g_dashboard\\mydashenv\\lib\\site-packages (from jupyterlab) (6.29.5)\n",
      "Requirement already satisfied: jinja2>=3.0.3 in e:\\5g_dashboard\\mydashenv\\lib\\site-packages (from jupyterlab) (3.1.6)\n",
      "Requirement already satisfied: jupyter-core in e:\\5g_dashboard\\mydashenv\\lib\\site-packages (from jupyterlab) (5.7.2)\n",
      "Requirement already satisfied: jupyter-lsp>=2.0.0 in e:\\5g_dashboard\\mydashenv\\lib\\site-packages (from jupyterlab) (2.2.5)\n",
      "Requirement already satisfied: jupyter-server<3,>=2.4.0 in e:\\5g_dashboard\\mydashenv\\lib\\site-packages (from jupyterlab) (2.15.0)\n",
      "Requirement already satisfied: jupyterlab-server<3,>=2.27.1 in e:\\5g_dashboard\\mydashenv\\lib\\site-packages (from jupyterlab) (2.27.3)\n",
      "Requirement already satisfied: notebook-shim>=0.2 in e:\\5g_dashboard\\mydashenv\\lib\\site-packages (from jupyterlab) (0.2.4)\n",
      "Requirement already satisfied: packaging in e:\\5g_dashboard\\mydashenv\\lib\\site-packages (from jupyterlab) (25.0)\n",
      "Requirement already satisfied: setuptools>=41.1.0 in e:\\5g_dashboard\\mydashenv\\lib\\site-packages (from jupyterlab) (80.4.0)\n",
      "Requirement already satisfied: tornado>=6.2.0 in e:\\5g_dashboard\\mydashenv\\lib\\site-packages (from jupyterlab) (6.4.2)\n",
      "Requirement already satisfied: traitlets in e:\\5g_dashboard\\mydashenv\\lib\\site-packages (from jupyterlab) (5.14.3)\n",
      "Requirement already satisfied: Flask<3.1,>=1.0.4 in e:\\5g_dashboard\\mydashenv\\lib\\site-packages (from dash) (3.0.3)\n",
      "Requirement already satisfied: Werkzeug<3.1 in e:\\5g_dashboard\\mydashenv\\lib\\site-packages (from dash) (3.0.6)\n",
      "Requirement already satisfied: plotly>=5.0.0 in e:\\5g_dashboard\\mydashenv\\lib\\site-packages (from dash) (5.22.0)\n",
      "Requirement already satisfied: dash-table==5.0.0 in e:\\5g_dashboard\\mydashenv\\lib\\site-packages (from dash) (5.0.0)\n",
      "Requirement already satisfied: importlib-metadata in e:\\5g_dashboard\\mydashenv\\lib\\site-packages (from dash) (8.7.0)\n",
      "Requirement already satisfied: typing-extensions>=4.1.1 in e:\\5g_dashboard\\mydashenv\\lib\\site-packages (from dash) (4.13.2)\n",
      "Requirement already satisfied: requests in e:\\5g_dashboard\\mydashenv\\lib\\site-packages (from dash) (2.32.3)\n",
      "Requirement already satisfied: retrying in e:\\5g_dashboard\\mydashenv\\lib\\site-packages (from dash) (1.3.4)\n",
      "Requirement already satisfied: nest-asyncio in e:\\5g_dashboard\\mydashenv\\lib\\site-packages (from dash) (1.6.0)\n",
      "Requirement already satisfied: ipython in e:\\5g_dashboard\\mydashenv\\lib\\site-packages (from jupyter-dash) (9.2.0)\n",
      "Collecting ansi2html (from jupyter-dash)\n",
      "  Downloading ansi2html-1.9.2-py3-none-any.whl.metadata (3.7 kB)\n",
      "Requirement already satisfied: itsdangerous>=2.1.2 in e:\\5g_dashboard\\mydashenv\\lib\\site-packages (from Flask<3.1,>=1.0.4->dash) (2.2.0)\n",
      "Requirement already satisfied: click>=8.1.3 in e:\\5g_dashboard\\mydashenv\\lib\\site-packages (from Flask<3.1,>=1.0.4->dash) (8.2.0)\n",
      "Requirement already satisfied: blinker>=1.6.2 in e:\\5g_dashboard\\mydashenv\\lib\\site-packages (from Flask<3.1,>=1.0.4->dash) (1.9.0)\n",
      "Requirement already satisfied: anyio in e:\\5g_dashboard\\mydashenv\\lib\\site-packages (from httpx>=0.25.0->jupyterlab) (4.9.0)\n",
      "Requirement already satisfied: certifi in e:\\5g_dashboard\\mydashenv\\lib\\site-packages (from httpx>=0.25.0->jupyterlab) (2025.4.26)\n",
      "Requirement already satisfied: httpcore==1.* in e:\\5g_dashboard\\mydashenv\\lib\\site-packages (from httpx>=0.25.0->jupyterlab) (1.0.9)\n",
      "Requirement already satisfied: idna in e:\\5g_dashboard\\mydashenv\\lib\\site-packages (from httpx>=0.25.0->jupyterlab) (3.10)\n",
      "Requirement already satisfied: h11>=0.16 in e:\\5g_dashboard\\mydashenv\\lib\\site-packages (from httpcore==1.*->httpx>=0.25.0->jupyterlab) (0.16.0)\n",
      "Requirement already satisfied: comm>=0.1.1 in e:\\5g_dashboard\\mydashenv\\lib\\site-packages (from ipykernel>=6.5.0->jupyterlab) (0.2.2)\n",
      "Requirement already satisfied: debugpy>=1.6.5 in e:\\5g_dashboard\\mydashenv\\lib\\site-packages (from ipykernel>=6.5.0->jupyterlab) (1.8.14)\n",
      "Requirement already satisfied: jupyter-client>=6.1.12 in e:\\5g_dashboard\\mydashenv\\lib\\site-packages (from ipykernel>=6.5.0->jupyterlab) (8.6.3)\n",
      "Requirement already satisfied: matplotlib-inline>=0.1 in e:\\5g_dashboard\\mydashenv\\lib\\site-packages (from ipykernel>=6.5.0->jupyterlab) (0.1.7)\n",
      "Requirement already satisfied: psutil in e:\\5g_dashboard\\mydashenv\\lib\\site-packages (from ipykernel>=6.5.0->jupyterlab) (7.0.0)\n",
      "Requirement already satisfied: pyzmq>=24 in e:\\5g_dashboard\\mydashenv\\lib\\site-packages (from ipykernel>=6.5.0->jupyterlab) (26.4.0)\n",
      "Requirement already satisfied: colorama in e:\\5g_dashboard\\mydashenv\\lib\\site-packages (from ipython->jupyter-dash) (0.4.6)\n",
      "Requirement already satisfied: decorator in e:\\5g_dashboard\\mydashenv\\lib\\site-packages (from ipython->jupyter-dash) (5.2.1)\n",
      "Requirement already satisfied: ipython-pygments-lexers in e:\\5g_dashboard\\mydashenv\\lib\\site-packages (from ipython->jupyter-dash) (1.1.1)\n",
      "Requirement already satisfied: jedi>=0.16 in e:\\5g_dashboard\\mydashenv\\lib\\site-packages (from ipython->jupyter-dash) (0.19.2)\n",
      "Requirement already satisfied: prompt_toolkit<3.1.0,>=3.0.41 in e:\\5g_dashboard\\mydashenv\\lib\\site-packages (from ipython->jupyter-dash) (3.0.51)\n",
      "Requirement already satisfied: pygments>=2.4.0 in e:\\5g_dashboard\\mydashenv\\lib\\site-packages (from ipython->jupyter-dash) (2.19.1)\n",
      "Requirement already satisfied: stack_data in e:\\5g_dashboard\\mydashenv\\lib\\site-packages (from ipython->jupyter-dash) (0.6.3)\n",
      "Requirement already satisfied: MarkupSafe>=2.0 in e:\\5g_dashboard\\mydashenv\\lib\\site-packages (from jinja2>=3.0.3->jupyterlab) (3.0.2)\n",
      "Requirement already satisfied: platformdirs>=2.5 in e:\\5g_dashboard\\mydashenv\\lib\\site-packages (from jupyter-core->jupyterlab) (4.3.8)\n",
      "Requirement already satisfied: pywin32>=300 in e:\\5g_dashboard\\mydashenv\\lib\\site-packages (from jupyter-core->jupyterlab) (310)\n",
      "Requirement already satisfied: argon2-cffi>=21.1 in e:\\5g_dashboard\\mydashenv\\lib\\site-packages (from jupyter-server<3,>=2.4.0->jupyterlab) (23.1.0)\n",
      "Requirement already satisfied: jupyter-events>=0.11.0 in e:\\5g_dashboard\\mydashenv\\lib\\site-packages (from jupyter-server<3,>=2.4.0->jupyterlab) (0.12.0)\n",
      "Requirement already satisfied: jupyter-server-terminals>=0.4.4 in e:\\5g_dashboard\\mydashenv\\lib\\site-packages (from jupyter-server<3,>=2.4.0->jupyterlab) (0.5.3)\n",
      "Requirement already satisfied: nbconvert>=6.4.4 in e:\\5g_dashboard\\mydashenv\\lib\\site-packages (from jupyter-server<3,>=2.4.0->jupyterlab) (7.16.6)\n",
      "Requirement already satisfied: nbformat>=5.3.0 in e:\\5g_dashboard\\mydashenv\\lib\\site-packages (from jupyter-server<3,>=2.4.0->jupyterlab) (5.10.4)\n",
      "Requirement already satisfied: overrides>=5.0 in e:\\5g_dashboard\\mydashenv\\lib\\site-packages (from jupyter-server<3,>=2.4.0->jupyterlab) (7.7.0)\n",
      "Requirement already satisfied: prometheus-client>=0.9 in e:\\5g_dashboard\\mydashenv\\lib\\site-packages (from jupyter-server<3,>=2.4.0->jupyterlab) (0.21.1)\n",
      "Requirement already satisfied: pywinpty>=2.0.1 in e:\\5g_dashboard\\mydashenv\\lib\\site-packages (from jupyter-server<3,>=2.4.0->jupyterlab) (2.0.15)\n",
      "Requirement already satisfied: send2trash>=1.8.2 in e:\\5g_dashboard\\mydashenv\\lib\\site-packages (from jupyter-server<3,>=2.4.0->jupyterlab) (1.8.3)\n",
      "Requirement already satisfied: terminado>=0.8.3 in e:\\5g_dashboard\\mydashenv\\lib\\site-packages (from jupyter-server<3,>=2.4.0->jupyterlab) (0.18.1)\n",
      "Requirement already satisfied: websocket-client>=1.7 in e:\\5g_dashboard\\mydashenv\\lib\\site-packages (from jupyter-server<3,>=2.4.0->jupyterlab) (1.8.0)\n",
      "Requirement already satisfied: babel>=2.10 in e:\\5g_dashboard\\mydashenv\\lib\\site-packages (from jupyterlab-server<3,>=2.27.1->jupyterlab) (2.17.0)\n",
      "Requirement already satisfied: json5>=0.9.0 in e:\\5g_dashboard\\mydashenv\\lib\\site-packages (from jupyterlab-server<3,>=2.27.1->jupyterlab) (0.12.0)\n",
      "Requirement already satisfied: jsonschema>=4.18.0 in e:\\5g_dashboard\\mydashenv\\lib\\site-packages (from jupyterlab-server<3,>=2.27.1->jupyterlab) (4.23.0)\n",
      "Requirement already satisfied: tenacity>=6.2.0 in e:\\5g_dashboard\\mydashenv\\lib\\site-packages (from plotly>=5.0.0->dash) (9.1.2)\n",
      "Requirement already satisfied: charset-normalizer<4,>=2 in e:\\5g_dashboard\\mydashenv\\lib\\site-packages (from requests->dash) (3.4.2)\n",
      "Requirement already satisfied: urllib3<3,>=1.21.1 in e:\\5g_dashboard\\mydashenv\\lib\\site-packages (from requests->dash) (2.4.0)\n",
      "Requirement already satisfied: zipp>=3.20 in e:\\5g_dashboard\\mydashenv\\lib\\site-packages (from importlib-metadata->dash) (3.21.0)\n",
      "Requirement already satisfied: six>=1.7.0 in e:\\5g_dashboard\\mydashenv\\lib\\site-packages (from retrying->dash) (1.17.0)\n",
      "Requirement already satisfied: sniffio>=1.1 in e:\\5g_dashboard\\mydashenv\\lib\\site-packages (from anyio->httpx>=0.25.0->jupyterlab) (1.3.1)\n",
      "Requirement already satisfied: argon2-cffi-bindings in e:\\5g_dashboard\\mydashenv\\lib\\site-packages (from argon2-cffi>=21.1->jupyter-server<3,>=2.4.0->jupyterlab) (21.2.0)\n",
      "Requirement already satisfied: parso<0.9.0,>=0.8.4 in e:\\5g_dashboard\\mydashenv\\lib\\site-packages (from jedi>=0.16->ipython->jupyter-dash) (0.8.4)\n",
      "Requirement already satisfied: attrs>=22.2.0 in e:\\5g_dashboard\\mydashenv\\lib\\site-packages (from jsonschema>=4.18.0->jupyterlab-server<3,>=2.27.1->jupyterlab) (25.3.0)\n",
      "Requirement already satisfied: jsonschema-specifications>=2023.03.6 in e:\\5g_dashboard\\mydashenv\\lib\\site-packages (from jsonschema>=4.18.0->jupyterlab-server<3,>=2.27.1->jupyterlab) (2025.4.1)\n",
      "Requirement already satisfied: referencing>=0.28.4 in e:\\5g_dashboard\\mydashenv\\lib\\site-packages (from jsonschema>=4.18.0->jupyterlab-server<3,>=2.27.1->jupyterlab) (0.36.2)\n",
      "Requirement already satisfied: rpds-py>=0.7.1 in e:\\5g_dashboard\\mydashenv\\lib\\site-packages (from jsonschema>=4.18.0->jupyterlab-server<3,>=2.27.1->jupyterlab) (0.24.0)\n",
      "Requirement already satisfied: python-dateutil>=2.8.2 in e:\\5g_dashboard\\mydashenv\\lib\\site-packages (from jupyter-client>=6.1.12->ipykernel>=6.5.0->jupyterlab) (2.9.0.post0)\n",
      "Requirement already satisfied: python-json-logger>=2.0.4 in e:\\5g_dashboard\\mydashenv\\lib\\site-packages (from jupyter-events>=0.11.0->jupyter-server<3,>=2.4.0->jupyterlab) (3.3.0)\n",
      "Requirement already satisfied: pyyaml>=5.3 in e:\\5g_dashboard\\mydashenv\\lib\\site-packages (from jupyter-events>=0.11.0->jupyter-server<3,>=2.4.0->jupyterlab) (6.0.2)\n",
      "Requirement already satisfied: rfc3339-validator in e:\\5g_dashboard\\mydashenv\\lib\\site-packages (from jupyter-events>=0.11.0->jupyter-server<3,>=2.4.0->jupyterlab) (0.1.4)\n",
      "Requirement already satisfied: rfc3986-validator>=0.1.1 in e:\\5g_dashboard\\mydashenv\\lib\\site-packages (from jupyter-events>=0.11.0->jupyter-server<3,>=2.4.0->jupyterlab) (0.1.1)\n",
      "Requirement already satisfied: beautifulsoup4 in e:\\5g_dashboard\\mydashenv\\lib\\site-packages (from nbconvert>=6.4.4->jupyter-server<3,>=2.4.0->jupyterlab) (4.13.4)\n",
      "Requirement already satisfied: bleach!=5.0.0 in e:\\5g_dashboard\\mydashenv\\lib\\site-packages (from bleach[css]!=5.0.0->nbconvert>=6.4.4->jupyter-server<3,>=2.4.0->jupyterlab) (6.2.0)\n",
      "Requirement already satisfied: defusedxml in e:\\5g_dashboard\\mydashenv\\lib\\site-packages (from nbconvert>=6.4.4->jupyter-server<3,>=2.4.0->jupyterlab) (0.7.1)\n",
      "Requirement already satisfied: jupyterlab-pygments in e:\\5g_dashboard\\mydashenv\\lib\\site-packages (from nbconvert>=6.4.4->jupyter-server<3,>=2.4.0->jupyterlab) (0.3.0)\n",
      "Requirement already satisfied: mistune<4,>=2.0.3 in e:\\5g_dashboard\\mydashenv\\lib\\site-packages (from nbconvert>=6.4.4->jupyter-server<3,>=2.4.0->jupyterlab) (3.1.3)\n",
      "Requirement already satisfied: nbclient>=0.5.0 in e:\\5g_dashboard\\mydashenv\\lib\\site-packages (from nbconvert>=6.4.4->jupyter-server<3,>=2.4.0->jupyterlab) (0.10.2)\n",
      "Requirement already satisfied: pandocfilters>=1.4.1 in e:\\5g_dashboard\\mydashenv\\lib\\site-packages (from nbconvert>=6.4.4->jupyter-server<3,>=2.4.0->jupyterlab) (1.5.1)\n",
      "Requirement already satisfied: fastjsonschema>=2.15 in e:\\5g_dashboard\\mydashenv\\lib\\site-packages (from nbformat>=5.3.0->jupyter-server<3,>=2.4.0->jupyterlab) (2.21.1)\n",
      "Requirement already satisfied: wcwidth in e:\\5g_dashboard\\mydashenv\\lib\\site-packages (from prompt_toolkit<3.1.0,>=3.0.41->ipython->jupyter-dash) (0.2.13)\n",
      "Requirement already satisfied: executing>=1.2.0 in e:\\5g_dashboard\\mydashenv\\lib\\site-packages (from stack_data->ipython->jupyter-dash) (2.2.0)\n",
      "Requirement already satisfied: asttokens>=2.1.0 in e:\\5g_dashboard\\mydashenv\\lib\\site-packages (from stack_data->ipython->jupyter-dash) (3.0.0)\n",
      "Requirement already satisfied: pure-eval in e:\\5g_dashboard\\mydashenv\\lib\\site-packages (from stack_data->ipython->jupyter-dash) (0.2.3)\n",
      "Requirement already satisfied: webencodings in e:\\5g_dashboard\\mydashenv\\lib\\site-packages (from bleach!=5.0.0->bleach[css]!=5.0.0->nbconvert>=6.4.4->jupyter-server<3,>=2.4.0->jupyterlab) (0.5.1)\n",
      "Requirement already satisfied: tinycss2<1.5,>=1.1.0 in e:\\5g_dashboard\\mydashenv\\lib\\site-packages (from bleach[css]!=5.0.0->nbconvert>=6.4.4->jupyter-server<3,>=2.4.0->jupyterlab) (1.4.0)\n",
      "Requirement already satisfied: fqdn in e:\\5g_dashboard\\mydashenv\\lib\\site-packages (from jsonschema[format-nongpl]>=4.18.0->jupyter-events>=0.11.0->jupyter-server<3,>=2.4.0->jupyterlab) (1.5.1)\n",
      "Requirement already satisfied: isoduration in e:\\5g_dashboard\\mydashenv\\lib\\site-packages (from jsonschema[format-nongpl]>=4.18.0->jupyter-events>=0.11.0->jupyter-server<3,>=2.4.0->jupyterlab) (20.11.0)\n",
      "Requirement already satisfied: jsonpointer>1.13 in e:\\5g_dashboard\\mydashenv\\lib\\site-packages (from jsonschema[format-nongpl]>=4.18.0->jupyter-events>=0.11.0->jupyter-server<3,>=2.4.0->jupyterlab) (3.0.0)\n",
      "Requirement already satisfied: uri-template in e:\\5g_dashboard\\mydashenv\\lib\\site-packages (from jsonschema[format-nongpl]>=4.18.0->jupyter-events>=0.11.0->jupyter-server<3,>=2.4.0->jupyterlab) (1.3.0)\n",
      "Requirement already satisfied: webcolors>=24.6.0 in e:\\5g_dashboard\\mydashenv\\lib\\site-packages (from jsonschema[format-nongpl]>=4.18.0->jupyter-events>=0.11.0->jupyter-server<3,>=2.4.0->jupyterlab) (24.11.1)\n",
      "Requirement already satisfied: cffi>=1.0.1 in e:\\5g_dashboard\\mydashenv\\lib\\site-packages (from argon2-cffi-bindings->argon2-cffi>=21.1->jupyter-server<3,>=2.4.0->jupyterlab) (1.17.1)\n",
      "Requirement already satisfied: soupsieve>1.2 in e:\\5g_dashboard\\mydashenv\\lib\\site-packages (from beautifulsoup4->nbconvert>=6.4.4->jupyter-server<3,>=2.4.0->jupyterlab) (2.7)\n",
      "Requirement already satisfied: pycparser in e:\\5g_dashboard\\mydashenv\\lib\\site-packages (from cffi>=1.0.1->argon2-cffi-bindings->argon2-cffi>=21.1->jupyter-server<3,>=2.4.0->jupyterlab) (2.22)\n",
      "Requirement already satisfied: arrow>=0.15.0 in e:\\5g_dashboard\\mydashenv\\lib\\site-packages (from isoduration->jsonschema[format-nongpl]>=4.18.0->jupyter-events>=0.11.0->jupyter-server<3,>=2.4.0->jupyterlab) (1.3.0)\n",
      "Requirement already satisfied: types-python-dateutil>=2.8.10 in e:\\5g_dashboard\\mydashenv\\lib\\site-packages (from arrow>=0.15.0->isoduration->jsonschema[format-nongpl]>=4.18.0->jupyter-events>=0.11.0->jupyter-server<3,>=2.4.0->jupyterlab) (2.9.0.20241206)\n",
      "Downloading jupyter_dash-0.4.2-py3-none-any.whl (23 kB)\n",
      "Downloading ansi2html-1.9.2-py3-none-any.whl (17 kB)\n",
      "Installing collected packages: ansi2html, jupyter-dash\n",
      "Successfully installed ansi2html-1.9.2 jupyter-dash-0.4.2\n"
     ]
    },
    {
     "name": "stderr",
     "output_type": "stream",
     "text": [
      "\n",
      "[notice] A new release of pip is available: 24.0 -> 25.1.1\n",
      "[notice] To update, run: python.exe -m pip install --upgrade pip\n"
     ]
    }
   ],
   "source": [
    "!pip install jupyterlab dash dash-core-components dash-html-components jupyter-dash"
   ]
  },
  {
   "cell_type": "code",
   "execution_count": 8,
   "id": "80aaa1b9-982e-4ef3-8ecd-fa735adccce5",
   "metadata": {},
   "outputs": [],
   "source": [
    "from jupyter_dash import JupyterDash\n",
    "import dash_core_components as dcc\n",
    "import dash_html_components as html\n",
    "from dash.dependencies import Input,Output\n",
    "import plotly.graph_objs as go"
   ]
  },
  {
   "cell_type": "code",
   "execution_count": 9,
   "id": "e68d501e-4770-4fcf-8c85-40e8f192797f",
   "metadata": {},
   "outputs": [],
   "source": [
    "import dash \n",
    "from dash import html\n",
    "import dash_html_components as html\n",
    "from  dash import dcc\n",
    "app = dash.Dash(__name__)"
   ]
  },
  {
   "cell_type": "code",
   "execution_count": 12,
   "id": "a50ffcbe-82c1-42f1-a27a-a692221166a3",
   "metadata": {},
   "outputs": [
    {
     "data": {
      "text/html": [
       "\n",
       "        <iframe\n",
       "            width=\"100%\"\n",
       "            height=\"650\"\n",
       "            src=\"http://127.0.0.1:8050/\"\n",
       "            frameborder=\"0\"\n",
       "            allowfullscreen\n",
       "            \n",
       "        ></iframe>\n",
       "        "
      ],
      "text/plain": [
       "<IPython.lib.display.IFrame at 0x29acdfb37a0>"
      ]
     },
     "metadata": {},
     "output_type": "display_data"
    }
   ],
   "source": [
    "app.layout = html.Div([\n",
    "    html.H1('Dashboard Monitoring 5G traffic'),\n",
    "    html.Div('Welcome to our Dashboard.'),\n",
    "    html.Div([\n",
    "        html.Label('Dropdown:'),\n",
    "        dcc.Dropdown(\n",
    "            options=[\n",
    "                {'label':'Option 1','value':'opt1'},\n",
    "                {'label':'Option 2','value':'opt2'}\n",
    "            ],\n",
    "            value='opt1'\n",
    "        )\n",
    "    ]),\n",
    "    html.Div([\n",
    "        html.Label('Graph:'),\n",
    "        dcc.Graph(\n",
    "            figure={\n",
    "                'data':[\n",
    "                   {'x':[1,2,3], 'y':[4,1,2], 'type':'bar','name':'SF'},\n",
    "                   {'x':[1,2,3], 'y':[2,4,5], 'type':'bar','name':'NYC'}\n",
    "                ],\n",
    "                'layout':{\n",
    "                    'tittle': 'Bar chart Example'\n",
    "                }\n",
    "            }\n",
    "        )\n",
    "    ])\n",
    "])\n",
    "if __name__ == '__main__':\n",
    "    app.run_server(debug=True)"
   ]
  },
  {
   "cell_type": "markdown",
   "id": "69b4f7bb-a494-485b-a5ba-2dec3d8cfc58",
   "metadata": {},
   "source": [
    "html.Div Components:\n",
    "\n",
    "Heading (html.H1): Provides a large heading for the dashboard.\n",
    "Text Content (html.Div): Displays introductory text.\n",
    "Dropdown (dcc.Dropdown): Interactive component for selecting options.\n",
    "Graph (dcc.Graph): Displays a bar chart using Plotly."
   ]
  },
  {
   "cell_type": "markdown",
   "id": "1326bee2-e359-447d-9035-6d9cc2663ef9",
   "metadata": {},
   "source": [
    "2. Core Components (dash_core_components)\n",
    "\n",
    "Dash core components (dcc) provide interactive components that enable users to input data, visualize data, and interact with the dashboard."
   ]
  },
  {
   "cell_type": "markdown",
   "id": "d7feddea-ec92-4215-89d2-0ed16f32cd8c",
   "metadata": {},
   "source": [
    "Incorporating Core Components"
   ]
  },
  {
   "cell_type": "code",
   "execution_count": 17,
   "id": "496cbb3b-5ab0-451d-b3cc-07909ee02aea",
   "metadata": {},
   "outputs": [],
   "source": [
    "app = dash.Dash(__name__)"
   ]
  },
  {
   "cell_type": "code",
   "execution_count": 20,
   "id": "3efd3b20-737d-4aed-8d01-1f8a7e787837",
   "metadata": {},
   "outputs": [
    {
     "data": {
      "text/html": [
       "\n",
       "        <iframe\n",
       "            width=\"100%\"\n",
       "            height=\"650\"\n",
       "            src=\"http://127.0.0.1:8050/\"\n",
       "            frameborder=\"0\"\n",
       "            allowfullscreen\n",
       "            \n",
       "        ></iframe>\n",
       "        "
      ],
      "text/plain": [
       "<IPython.lib.display.IFrame at 0x29acbdea900>"
      ]
     },
     "metadata": {},
     "output_type": "display_data"
    }
   ],
   "source": [
    "app.layout = html.Div([\n",
    "    html.H1('Option choosing - Interactive dashboard'),\n",
    "    dcc.Dropdown(\n",
    "        options=[\n",
    "            {'label':'Option 1','value':'opt1'},\n",
    "            {'label':'Option 2','value':'opt2'}\n",
    "        ],\n",
    "        value='opt1',\n",
    "        id='dropdown'\n",
    "    ),\n",
    "    html.Div(id='out-container')\n",
    "])\n",
    "@app.callback(\n",
    "    dash.dependencies.Output('out-container','children'),\n",
    "    [dash.dependencies.Input('dropdown','value')]\n",
    ")\n",
    "def update_output(value):\n",
    "    return f'You have selected {value}.'\n",
    "if __name__=='__main__':\n",
    "    app.run_server(debug=True)"
   ]
  },
  {
   "cell_type": "code",
   "execution_count": null,
   "id": "d7150913-5fe2-4122-aef7-62fdf85b8c16",
   "metadata": {},
   "outputs": [],
   "source": []
  },
  {
   "cell_type": "code",
   "execution_count": null,
   "id": "75331eac-ec68-49d4-92cf-ad71f07b86df",
   "metadata": {},
   "outputs": [],
   "source": []
  },
  {
   "cell_type": "markdown",
   "id": "0ac33222-71d8-47f9-8c7d-b65b95e7fa20",
   "metadata": {},
   "source": [
    "Core Components:\n",
    "\n",
    "Dropdown (dcc.Dropdown): Allows users to select options.\n",
    "Callback (@app.callback): Updates the output based on user interaction with the dropdown.\n",
    "Conclusion"
   ]
  },
  {
   "cell_type": "code",
   "execution_count": null,
   "id": "daa05a00-92d1-4fbf-83ab-5138e1a99a68",
   "metadata": {},
   "outputs": [],
   "source": []
  },
  {
   "cell_type": "code",
   "execution_count": null,
   "id": "e4b8947d-626a-42b4-aa3a-db40234a2d53",
   "metadata": {},
   "outputs": [],
   "source": []
  }
 ],
 "metadata": {
  "kernelspec": {
   "display_name": "Python 3 (ipykernel)",
   "language": "python",
   "name": "python3"
  },
  "language_info": {
   "codemirror_mode": {
    "name": "ipython",
    "version": 3
   },
   "file_extension": ".py",
   "mimetype": "text/x-python",
   "name": "python",
   "nbconvert_exporter": "python",
   "pygments_lexer": "ipython3",
   "version": "3.12.3"
  }
 },
 "nbformat": 4,
 "nbformat_minor": 5
}
