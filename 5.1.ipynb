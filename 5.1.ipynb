{
 "cells": [
  {
   "cell_type": "markdown",
   "id": "a855a927-7c5e-469f-9096-9644e10b53f5",
   "metadata": {},
   "source": [
    "## Reading Data\n",
    "\n",
    "**Introduction to Reading Data**\n",
    "\n",
    "Proper data integration is essential for building effective data-driven applications. We will cover how to read data from CSV files, Excel files, and JSON files.\n",
    "\n",
    "**1. Reading CSV Files**\n",
    "\n",
    "CSV (Comma Separated Values) files are one of the most common data formats. They are simple to read and write, making them ideal for data exchange.\n",
    "\n",
    "**Example: Reading CSV Files**\n",
    "\n",
    "Let's look at the code to read a CSV file in Dash:"
   ]
  },
  {
   "cell_type": "code",
   "execution_count": 1,
   "id": "59e48055-26cb-4010-9804-46eae054e7c8",
   "metadata": {},
   "outputs": [],
   "source": [
    "import dash\n",
    "from dash import dcc\n",
    "from dash import html\n",
    "import pandas as pd"
   ]
  },
  {
   "cell_type": "code",
   "execution_count": 3,
   "id": "2fc2fcc9-e41b-4163-aca9-0c7fd5344404",
   "metadata": {},
   "outputs": [
    {
     "data": {
      "text/html": [
       "\n",
       "        <iframe\n",
       "            width=\"100%\"\n",
       "            height=\"650\"\n",
       "            src=\"http://127.0.0.1:8050/\"\n",
       "            frameborder=\"0\"\n",
       "            allowfullscreen\n",
       "            \n",
       "        ></iframe>\n",
       "        "
      ],
      "text/plain": [
       "<IPython.lib.display.IFrame at 0x2524e978d70>"
      ]
     },
     "metadata": {},
     "output_type": "display_data"
    }
   ],
   "source": [
    "app = dash.Dash(__name__)\n",
    "\n",
    "# Read data from a CSV file\n",
    "df = pd.read_csv('data.csv')\n",
    "\n",
    "app.layout = html.Div([\n",
    "    html.H1('Reading CSV Files Example'),\n",
    "    dcc.Graph(\n",
    "        figure={\n",
    "            'data': [\n",
    "                {'x': df['Column 1'], 'y': df['Column 2'], 'type': 'line', 'name': 'Data'}\n",
    "            ],\n",
    "            'layout': {\n",
    "                'title': 'CSV Data Plot'\n",
    "            }\n",
    "        }\n",
    "    )\n",
    "])\n",
    "\n",
    "if __name__ == '__main__':\n",
    "    app.run_server(debug=True)"
   ]
  },
  {
   "cell_type": "markdown",
   "id": "a6d15f73-29e2-41e5-a5b2-6d27f36f8e4c",
   "metadata": {},
   "source": [
    "**2. Reading Excel Files**\n",
    "\n",
    "Excel files are widely used for data storage and analysis. They can contain multiple sheets, making them more complex than CSV files.\n",
    "\n",
    "**Example: Reading Excel Files**\n",
    "\n",
    "Here's the code to read an Excel file in Dash:"
   ]
  },
  {
   "cell_type": "code",
   "execution_count": 8,
   "id": "aaa81f79-ce5e-4dba-988d-851b5ed81fb7",
   "metadata": {},
   "outputs": [
    {
     "name": "stdout",
     "output_type": "stream",
     "text": [
      "Collecting openpyxl\n",
      "  Downloading openpyxl-3.1.5-py2.py3-none-any.whl.metadata (2.5 kB)\n",
      "Collecting et-xmlfile (from openpyxl)\n",
      "  Downloading et_xmlfile-2.0.0-py3-none-any.whl.metadata (2.7 kB)\n",
      "Downloading openpyxl-3.1.5-py2.py3-none-any.whl (250 kB)\n",
      "   ---------------------------------------- 0.0/250.9 kB ? eta -:--:--\n",
      "   - -------------------------------------- 10.2/250.9 kB ? eta -:--:--\n",
      "   ---- ---------------------------------- 30.7/250.9 kB 435.7 kB/s eta 0:00:01\n",
      "   ----------- --------------------------- 71.7/250.9 kB 653.6 kB/s eta 0:00:01\n",
      "   --------------------------- ------------ 174.1/250.9 kB 1.1 MB/s eta 0:00:01\n",
      "   ---------------------------------------- 250.9/250.9 kB 1.3 MB/s eta 0:00:00\n",
      "Downloading et_xmlfile-2.0.0-py3-none-any.whl (18 kB)\n",
      "Installing collected packages: et-xmlfile, openpyxl\n",
      "Successfully installed et-xmlfile-2.0.0 openpyxl-3.1.5\n"
     ]
    },
    {
     "name": "stderr",
     "output_type": "stream",
     "text": [
      "\n",
      "[notice] A new release of pip is available: 24.0 -> 25.1.1\n",
      "[notice] To update, run: python.exe -m pip install --upgrade pip\n"
     ]
    }
   ],
   "source": [
    "!pip install openpyxl"
   ]
  },
  {
   "cell_type": "code",
   "execution_count": 11,
   "id": "2c5c5dbd-f959-4cb5-9cd5-a76341933a59",
   "metadata": {},
   "outputs": [],
   "source": [
    "import dash\n",
    "from dash import dcc\n",
    "from dash import html\n",
    "import pandas as pd\n",
    "import openpyxl"
   ]
  },
  {
   "cell_type": "code",
   "execution_count": 13,
   "id": "121aa62a-04a0-409f-933c-4570c81f9b1f",
   "metadata": {},
   "outputs": [
    {
     "data": {
      "text/html": [
       "\n",
       "        <iframe\n",
       "            width=\"100%\"\n",
       "            height=\"650\"\n",
       "            src=\"http://127.0.0.1:8050/\"\n",
       "            frameborder=\"0\"\n",
       "            allowfullscreen\n",
       "            \n",
       "        ></iframe>\n",
       "        "
      ],
      "text/plain": [
       "<IPython.lib.display.IFrame at 0x252516e92b0>"
      ]
     },
     "metadata": {},
     "output_type": "display_data"
    }
   ],
   "source": [
    "app1 = dash.Dash(__name__)\n",
    "\n",
    "df = pd.read_excel('data.xlsx', sheet_name='data')\n",
    "\n",
    "app1.layout = html.Div([\n",
    "    html.H1('Reading CSV Files Example'),\n",
    "    dcc.Graph(\n",
    "        figure={\n",
    "            'data': [\n",
    "                {'x': df['Column 1'], 'y': df['Column 2'], 'type': 'line', 'name': 'Data'}\n",
    "            ],\n",
    "            'layout': {\n",
    "                'title': 'CSV Data Plot'\n",
    "            }\n",
    "        }\n",
    "    )\n",
    "])\n",
    "\n",
    "if __name__ == '__main__':\n",
    "    app1.run_server(debug=True)"
   ]
  },
  {
   "cell_type": "markdown",
   "id": "5fb0dc9b-b49a-410d-ad68-b6f5573a9301",
   "metadata": {},
   "source": [
    "**3. Reading JSON Files**\n",
    "\n",
    "JSON (JavaScript Object Notation) files are commonly used for data interchange, especially with web APIs. They are lightweight and easy to read.\n",
    "\n",
    "**Example: Reading JSON Files**\n",
    "\n",
    "Here's the code to read a JSON file in Dash:"
   ]
  },
  {
   "cell_type": "code",
   "execution_count": 14,
   "id": "d63809e1-8572-4f74-94c7-74e49963446c",
   "metadata": {},
   "outputs": [],
   "source": [
    "import dash\n",
    "from dash import dcc\n",
    "from dash import html\n",
    "import pandas as pd\n",
    "import openpyxl"
   ]
  },
  {
   "cell_type": "code",
   "execution_count": 16,
   "id": "dd421cb7-c967-4e30-bb75-efd9165c434f",
   "metadata": {},
   "outputs": [
    {
     "data": {
      "text/html": [
       "\n",
       "        <iframe\n",
       "            width=\"100%\"\n",
       "            height=\"650\"\n",
       "            src=\"http://127.0.0.1:8050/\"\n",
       "            frameborder=\"0\"\n",
       "            allowfullscreen\n",
       "            \n",
       "        ></iframe>\n",
       "        "
      ],
      "text/plain": [
       "<IPython.lib.display.IFrame at 0x2525197cda0>"
      ]
     },
     "metadata": {},
     "output_type": "display_data"
    }
   ],
   "source": [
    "app2 = dash.Dash(__name__)\n",
    "df = pd.read_json('data.json')\n",
    "app2.layout = html.Div([\n",
    "    html.H1('Reading CSV Files Example'),\n",
    "    dcc.Graph(\n",
    "        figure={\n",
    "            'data': [\n",
    "                {'x': df['Column 1'], 'y': df['Column 2'], 'type': 'line', 'name': 'Data'}\n",
    "            ],\n",
    "            'layout': {\n",
    "                'title': 'CSV Data Plot'\n",
    "            }\n",
    "        }\n",
    "    )\n",
    "])\n",
    "\n",
    "if __name__ == '__main__':\n",
    "    app2.run_server(debug=True)"
   ]
  }
 ],
 "metadata": {
  "kernelspec": {
   "display_name": "Python 3 (ipykernel)",
   "language": "python",
   "name": "python3"
  },
  "language_info": {
   "codemirror_mode": {
    "name": "ipython",
    "version": 3
   },
   "file_extension": ".py",
   "mimetype": "text/x-python",
   "name": "python",
   "nbconvert_exporter": "python",
   "pygments_lexer": "ipython3",
   "version": "3.12.3"
  }
 },
 "nbformat": 4,
 "nbformat_minor": 5
}
