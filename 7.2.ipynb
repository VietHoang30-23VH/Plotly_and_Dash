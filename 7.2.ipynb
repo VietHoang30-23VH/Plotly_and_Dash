{
 "cells": [
  {
   "cell_type": "markdown",
   "id": "aec8cf7c-8a80-4423-9e3d-37a0146a4116",
   "metadata": {},
   "source": [
    "## Dynamic Layouts\n",
    "\n",
    "Dynamic layouts in Dash allow for the creation of flexible and responsive user interfaces that can change based on user interactions or other conditions. This enhances the user experience by making the interface more intuitive and interactive. Dynamic layouts are particularly useful for creating dashboards that need to update in real-time based on the user's actions.\n",
    "\n",
    "Dynamic layouts can be achieved using Dash callbacks to conditionally update the layout of the application. By defining different layouts and updating the layout based on user inputs or other triggers, you can create a more engaging and responsive user experience.\n",
    "\n",
    "**Concepts**:\n",
    "- **Conditional Rendering**: Displaying different components or layouts based on certain conditions.\n",
    "- **Callbacks**: Used to update the layout dynamically.\n",
    "\n",
    "**Example: Creating Dynamic Layouts in Dash**"
   ]
  },
  {
   "cell_type": "code",
   "execution_count": 1,
   "id": "72375710-bf2f-42cd-9749-cd70b1fd6a9b",
   "metadata": {},
   "outputs": [],
   "source": [
    "import dash\n",
    "from dash import dcc, html\n",
    "from dash.dependencies import Input, Output"
   ]
  },
  {
   "cell_type": "code",
   "execution_count": 2,
   "id": "fda66b43-a414-4675-8d81-6aac5006c3ab",
   "metadata": {},
   "outputs": [
    {
     "data": {
      "text/html": [
       "\n",
       "        <iframe\n",
       "            width=\"100%\"\n",
       "            height=\"650\"\n",
       "            src=\"http://127.0.0.1:8062/\"\n",
       "            frameborder=\"0\"\n",
       "            allowfullscreen\n",
       "            \n",
       "        ></iframe>\n",
       "        "
      ],
      "text/plain": [
       "<IPython.lib.display.IFrame at 0x13b0a6980e0>"
      ]
     },
     "metadata": {},
     "output_type": "display_data"
    }
   ],
   "source": [
    "# Initialize the Dash app\n",
    "app = dash.Dash(__name__)\n",
    "\n",
    "# Define different layouts\n",
    "layout1 = html.Div([\n",
    "    html.H2(\"Layout 1\"),\n",
    "    dcc.Graph(\n",
    "        id='graph1',\n",
    "        figure={\n",
    "            'data': [\n",
    "                {'x': [1, 2, 3], 'y': [4, 1, 2], 'type': 'line', 'name': 'SF'},\n",
    "            ],\n",
    "            'layout': {\n",
    "                'title': 'Line Graph'\n",
    "            }\n",
    "        }\n",
    "    )\n",
    "])\n",
    "\n",
    "layout2 = html.Div([\n",
    "    html.H2(\"Layout 2\"),\n",
    "    dcc.Graph(\n",
    "        id='graph2',\n",
    "        figure={\n",
    "            'data': [\n",
    "                {'x': ['A', 'B', 'C'], 'y': [4, 1, 2], 'type': 'bar', 'name': 'NYC'},\n",
    "            ],\n",
    "            'layout': {\n",
    "                'title': 'Bar Chart'\n",
    "            }\n",
    "        }\n",
    "    )\n",
    "])\n",
    "\n",
    "# Define the main layout\n",
    "app.layout = html.Div([\n",
    "    html.H1(\"Dynamic Layout Example\"),\n",
    "    dcc.Dropdown(\n",
    "        id='layout-dropdown',\n",
    "        options=[\n",
    "            {'label': 'Show Layout 1', 'value': 'layout1'},\n",
    "            {'label': 'Show Layout 2', 'value': 'layout2'}\n",
    "        ],\n",
    "        value='layout1',  # default value\n",
    "        style={'margin': '10px', 'padding': '10px', 'borderRadius': '5px'}\n",
    "    ),\n",
    "    html.Div(id='layout-container')\n",
    "])\n",
    "\n",
    "# Callback to update the layout based on dropdown selection\n",
    "@app.callback(\n",
    "    Output('layout-container', 'children'),\n",
    "    [Input('layout-dropdown', 'value')]\n",
    ")\n",
    "def display_layout(selected_layout):\n",
    "    if selected_layout == 'layout1':\n",
    "        return layout1\n",
    "    elif selected_layout == 'layout2':\n",
    "        return layout2\n",
    "    else:\n",
    "        return html.Div(\"Select a layout from the dropdown.\")\n",
    "\n",
    "# Run the server\n",
    "if __name__ == '__main__':\n",
    "    app.run_server(debug=True, port = 8062)\n"
   ]
  },
  {
   "cell_type": "code",
   "execution_count": null,
   "id": "af28c8f4-be24-453b-a645-2677c1912834",
   "metadata": {},
   "outputs": [],
   "source": []
  }
 ],
 "metadata": {
  "kernelspec": {
   "display_name": "Python 3 (ipykernel)",
   "language": "python",
   "name": "python3"
  },
  "language_info": {
   "codemirror_mode": {
    "name": "ipython",
    "version": 3
   },
   "file_extension": ".py",
   "mimetype": "text/x-python",
   "name": "python",
   "nbconvert_exporter": "python",
   "pygments_lexer": "ipython3",
   "version": "3.12.3"
  }
 },
 "nbformat": 4,
 "nbformat_minor": 5
}
