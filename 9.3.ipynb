{
 "cells": [
  {
   "cell_type": "markdown",
   "id": "b6529ea0-6e38-4ace-8ad1-dad073e83e28",
   "metadata": {},
   "source": [
    "# 3. Sales Dashboard with Real-World Data\n",
    "\n",
    "We'll use a publicly available sales dataset. You can download a sales dataset from Kaggle:\n",
    "\n",
    "[Sales Dataset on Kaggle](https://www.kaggle.com/kyanyoga/sample-sales-data)\n",
    "\n",
    "#### Example of Sales Dashboard\n",
    "\n",
    "Write the code below in a python file"
   ]
  },
  {
   "cell_type": "markdown",
   "id": "f62b4385-bebe-465f-bd1c-09a36f3e29a5",
   "metadata": {},
   "source": [
    "\n",
    "```python\n",
    "import dash\n",
    "from dash import dcc, html\n",
    "from dash.dependencies import Input, Output\n",
    "import pandas as pd\n",
    "import plotly.express as px\n",
    "\n",
    "# Initialize the Dash app\n",
    "app = dash.Dash(__name__)\n",
    "\n",
    "# Load the sales dataset\n",
    "df_sales = pd.read_csv('sales_data_sample.csv', encoding='ISO-8859-1')\n",
    "\n",
    "# Define the layout\n",
    "app.layout = html.Div([\n",
    "    html.H1(\"Advanced Sales Dashboard\", style={'textAlign': 'center'}),\n",
    "    \n",
    "    dcc.Dropdown(\n",
    "        id='country-dropdown',\n",
    "        options=[{'label': country, 'value': country} for country in df_sales['COUNTRY'].unique()],\n",
    "        value=df_sales['COUNTRY'].iloc[0],\n",
    "        style={'width': '50%', 'margin': 'auto'}\n",
    "    ),\n",
    "    \n",
    "    dcc.Graph(id='sales-trend-chart'),\n",
    "    dcc.Graph(id='sales-distribution-chart'),\n",
    "    dcc.Graph(id='product-performance-chart')\n",
    "])\n",
    "\n",
    "@app.callback(\n",
    "    [Output('sales-trend-chart', 'figure'),\n",
    "     Output('sales-distribution-chart', 'figure'),\n",
    "     Output('product-performance-chart', 'figure')],\n",
    "    [Input('country-dropdown', 'value')]\n",
    ")\n",
    "def update_charts(selected_country):\n",
    "    # Filter data for the selected country\n",
    "    df_filtered = df_sales[df_sales['COUNTRY'] == selected_country]\n",
    "    \n",
    "    # Sales trend chart - Assuming ORDERDATE represents Date and SALES represents Sales\n",
    "    sales_trend_fig = px.line(df_filtered, x='ORDERDATE', y='SALES', title=f'Sales Trend in {selected_country}')\n",
    "    \n",
    "    # Sales distribution chart - Assuming PRODUCTLINE represents Product category\n",
    "    sales_distribution_fig = px.pie(df_filtered, names='PRODUCTLINE', values='SALES', title=f'Sales Distribution in {selected_country}')\n",
    "    \n",
    "    # Product performance chart - Same as Sales Distribution but in bar format\n",
    "    product_performance_fig = px.bar(df_filtered, x='PRODUCTLINE', y='SALES', title=f'Product Performance in {selected_country}')\n",
    "    \n",
    "    return sales_trend_fig, sales_distribution_fig, product_performance_fig\n",
    "\n",
    "if __name__ == '__main__':\n",
    "    app.run_server(debug=True)\n"
   ]
  },
  {
   "cell_type": "code",
   "execution_count": null,
   "id": "d3027b6e-53cb-4bd1-9874-bedb3b4af7a5",
   "metadata": {},
   "outputs": [],
   "source": []
  }
 ],
 "metadata": {
  "kernelspec": {
   "display_name": "Python 3 (ipykernel)",
   "language": "python",
   "name": "python3"
  },
  "language_info": {
   "codemirror_mode": {
    "name": "ipython",
    "version": 3
   },
   "file_extension": ".py",
   "mimetype": "text/x-python",
   "name": "python",
   "nbconvert_exporter": "python",
   "pygments_lexer": "ipython3",
   "version": "3.12.3"
  }
 },
 "nbformat": 4,
 "nbformat_minor": 5
}
