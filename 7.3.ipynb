{
 "cells": [
  {
   "cell_type": "markdown",
   "id": "4687e183-2182-4ed1-8b86-b9fe49c52660",
   "metadata": {},
   "source": [
    "## Performance Optimization\n",
    "\n",
    "Performance optimization ensures that Dash applications run smoothly and efficiently, even with large datasets or complex interactions. Optimizing performance is essential for maintaining a responsive and user-friendly interface. Techniques for performance optimization in Dash include minimizing the number of callbacks, reducing the size of the data processed, and using efficient data structures and algorithms.\n",
    "\n",
    "**Key Concepts**:\n",
    "- **Minimizing Callbacks**: Reducing the number of callbacks to avoid unnecessary processing.\n",
    "- **Efficient Data Handling**: Using data structures and algorithms that minimize processing time.\n",
    "- **Asynchronous Processing**: Performing tasks in the background to avoid blocking the main application.\n",
    "\n",
    "**Example: Performance Optimization in Dash**\n"
   ]
  },
  {
   "cell_type": "code",
   "execution_count": 1,
   "id": "f5d15384-8176-452e-823c-f9134a1f194e",
   "metadata": {},
   "outputs": [
    {
     "name": "stdout",
     "output_type": "stream",
     "text": [
      "Collecting cachetools\n",
      "  Downloading cachetools-5.5.2-py3-none-any.whl.metadata (5.4 kB)\n",
      "Downloading cachetools-5.5.2-py3-none-any.whl (10 kB)\n",
      "Installing collected packages: cachetools\n",
      "Successfully installed cachetools-5.5.2\n"
     ]
    },
    {
     "name": "stderr",
     "output_type": "stream",
     "text": [
      "\n",
      "[notice] A new release of pip is available: 24.0 -> 25.1.1\n",
      "[notice] To update, run: python.exe -m pip install --upgrade pip\n"
     ]
    }
   ],
   "source": [
    "!pip install cachetools"
   ]
  },
  {
   "cell_type": "markdown",
   "id": "cfe6d4f1-1c6b-4174-a4d8-10383a8573f5",
   "metadata": {},
   "source": [
    "**Unoptimized code**"
   ]
  },
  {
   "cell_type": "code",
   "execution_count": 2,
   "id": "061699cf-98e2-4080-b08f-ac8e87339146",
   "metadata": {},
   "outputs": [
    {
     "data": {
      "text/html": [
       "\n",
       "        <iframe\n",
       "            width=\"100%\"\n",
       "            height=\"650\"\n",
       "            src=\"http://127.0.0.1:8064/\"\n",
       "            frameborder=\"0\"\n",
       "            allowfullscreen\n",
       "            \n",
       "        ></iframe>\n",
       "        "
      ],
      "text/plain": [
       "<IPython.lib.display.IFrame at 0x1da93ad2ba0>"
      ]
     },
     "metadata": {},
     "output_type": "display_data"
    }
   ],
   "source": [
    "import dash\n",
    "from dash import dcc, html\n",
    "from dash.dependencies import Input, Output\n",
    "import pandas as pd\n",
    "import numpy as np\n",
    "import plotly.express as px\n",
    "import time\n",
    "\n",
    "# Initialize the Dash app\n",
    "app = dash.Dash(__name__)\n",
    "\n",
    "# Generate a large dataset\n",
    "np.random.seed(42)\n",
    "df = pd.DataFrame({\n",
    "    'x': np.random.rand(1000000),\n",
    "    'y': np.random.rand(1000000),\n",
    "    'category': np.random.choice(['A', 'B', 'C'], 1000000)\n",
    "})\n",
    "\n",
    "# Define the layout\n",
    "app.layout = html.Div([\n",
    "    html.H1(\"Unoptimized Performance Example\"),\n",
    "    dcc.Dropdown(\n",
    "        id='category-filter',\n",
    "        options=[{'label': cat, 'value': cat} for cat in df['category'].unique()],\n",
    "        value='A',\n",
    "        style={'margin': '10px', 'padding': '10px', 'borderRadius': '5px'}\n",
    "    ),\n",
    "    dcc.Graph(id='scatter-plot')\n",
    "])\n",
    "\n",
    "@app.callback(\n",
    "    Output('scatter-plot', 'figure'),\n",
    "    Input('category-filter', 'value')\n",
    ")\n",
    "def update_graph(category):\n",
    "    # Simulate a time-consuming task\n",
    "    time.sleep(2)\n",
    "    filtered_df = df[df['category'] == category]\n",
    "    fig = px.scatter(filtered_df, x='x', y='y', title=f'Scatter Plot for Category {category}')\n",
    "    return fig\n",
    "\n",
    "if __name__ == '__main__':\n",
    "    app.run_server(debug=True, port = 8064)\n"
   ]
  },
  {
   "cell_type": "markdown",
   "id": "9894ea23-4b86-4fc8-a65a-09b385c2ee84",
   "metadata": {},
   "source": [
    "**Optimized code**"
   ]
  },
  {
   "cell_type": "code",
   "execution_count": 3,
   "id": "1132fed4-4dd5-4b15-92f9-5901edc4637f",
   "metadata": {},
   "outputs": [
    {
     "data": {
      "text/html": [
       "\n",
       "        <iframe\n",
       "            width=\"100%\"\n",
       "            height=\"650\"\n",
       "            src=\"http://127.0.0.1:8051/\"\n",
       "            frameborder=\"0\"\n",
       "            allowfullscreen\n",
       "            \n",
       "        ></iframe>\n",
       "        "
      ],
      "text/plain": [
       "<IPython.lib.display.IFrame at 0x1da955259a0>"
      ]
     },
     "metadata": {},
     "output_type": "display_data"
    }
   ],
   "source": [
    "import dash\n",
    "from dash import dcc, html\n",
    "from dash.dependencies import Input, Output\n",
    "import pandas as pd\n",
    "import numpy as np\n",
    "import plotly.express as px\n",
    "import time\n",
    "from cachetools import cached, TTLCache\n",
    "import concurrent.futures\n",
    "\n",
    "# Initialize the Dash app\n",
    "app2 = dash.Dash(__name__)\n",
    "\n",
    "# Generate a large dataset\n",
    "np.random.seed(42)\n",
    "df = pd.DataFrame({\n",
    "    'x': np.random.rand(1000000),\n",
    "    'y': np.random.rand(1000000),\n",
    "    'category': np.random.choice(['A', 'B', 'C'], 1000000)\n",
    "})\n",
    "\n",
    "# Memoize the result of expensive computation\n",
    "cache = TTLCache(maxsize=100, ttl=300)\n",
    "\n",
    "@cached(cache)\n",
    "def filter_data(category):\n",
    "    time.sleep(2)  # Simulate a time-consuming task\n",
    "    return df[df['category'] == category]\n",
    "\n",
    "# Define the layout\n",
    "app2.layout = html.Div([\n",
    "    html.H1(\"Optimized Performance Example\"),\n",
    "    dcc.Dropdown(\n",
    "        id='category-filter',\n",
    "        options=[{'label': cat, 'value': cat} for cat in df['category'].unique()],\n",
    "        value='A',\n",
    "        style={'margin': '10px', 'padding': '10px', 'borderRadius': '5px'}\n",
    "    ),\n",
    "    dcc.Graph(id='scatter-plot'),\n",
    "    dcc.Loading(\n",
    "        id='loading',\n",
    "        type='default',\n",
    "        children=[html.Div(id='loading-output')]\n",
    "    )\n",
    "])\n",
    "\n",
    "@app2.callback(\n",
    "    Output('scatter-plot', 'figure'),\n",
    "    Input('category-filter', 'value')\n",
    ")\n",
    "def update_graph(category):\n",
    "    # Use concurrent futures to avoid blocking the main thread\n",
    "    with concurrent.futures.ThreadPoolExecutor() as executor:\n",
    "        future = executor.submit(filter_data, category)\n",
    "        filtered_df = future.result()\n",
    "\n",
    "    # Generate the figure\n",
    "    fig = px.scatter(filtered_df, x='x', y='y', title=f'Scatter Plot for Category {category}')\n",
    "    return fig\n",
    "\n",
    "if __name__ == '__main__':\n",
    "    app2.run_server(debug=True , port = 8051)\n"
   ]
  },
  {
   "cell_type": "code",
   "execution_count": null,
   "id": "3efefed0-8e6b-45a1-8dde-00d90e7b07e9",
   "metadata": {},
   "outputs": [],
   "source": []
  }
 ],
 "metadata": {
  "kernelspec": {
   "display_name": "Python 3 (ipykernel)",
   "language": "python",
   "name": "python3"
  },
  "language_info": {
   "codemirror_mode": {
    "name": "ipython",
    "version": 3
   },
   "file_extension": ".py",
   "mimetype": "text/x-python",
   "name": "python",
   "nbconvert_exporter": "python",
   "pygments_lexer": "ipython3",
   "version": "3.12.3"
  }
 },
 "nbformat": 4,
 "nbformat_minor": 5
}
