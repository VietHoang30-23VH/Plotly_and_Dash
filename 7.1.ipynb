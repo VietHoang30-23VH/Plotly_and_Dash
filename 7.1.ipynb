{
 "cells": [
  {
   "cell_type": "markdown",
   "id": "a7febdf0-3371-4091-906b-6cebc329f978",
   "metadata": {},
   "source": [
    "## State Management\n",
    "\n",
    "State management is a crucial aspect of web application development, including Dash applications. It involves keeping track of the state of various components within the application to ensure a consistent and predictable user experience. In the context of Dash, state management is about maintaining the state of input fields, dropdowns, sliders, and other interactive elements and updating the state of these components based on user interactions or other conditions.\n",
    "\n",
    "In Dash, callbacks are used to manage the state of components. A callback is a function that gets called automatically whenever a specified input changes. The callback can then update the state of other components based on the new input value. This allows for dynamic and interactive behavior in Dash applications without the need for manual state tracking.\n",
    "\n",
    "- **Input and Output**: These are the components whose state will trigger the callback (input) and the components whose state will be updated (output).\n",
    "- **State**: Similar to input, but used to pass the current state of a component to the callback function without triggering the callback.\n",
    "\n",
    "**Example: Managing State with Dash**"
   ]
  },
  {
   "cell_type": "code",
   "execution_count": 1,
   "id": "cf312b9f-1cdf-444d-9788-aafbcac94334",
   "metadata": {},
   "outputs": [],
   "source": [
    "import dash\n",
    "from dash import dcc, html\n",
    "from dash.dependencies import Input, Output, State"
   ]
  },
  {
   "cell_type": "code",
   "execution_count": 2,
   "id": "d74f5655-fbe2-4760-8b24-8907bdc16224",
   "metadata": {},
   "outputs": [
    {
     "data": {
      "text/html": [
       "\n",
       "        <iframe\n",
       "            width=\"100%\"\n",
       "            height=\"650\"\n",
       "            src=\"http://127.0.0.1:8061/\"\n",
       "            frameborder=\"0\"\n",
       "            allowfullscreen\n",
       "            \n",
       "        ></iframe>\n",
       "        "
      ],
      "text/plain": [
       "<IPython.lib.display.IFrame at 0x216f7943110>"
      ]
     },
     "metadata": {},
     "output_type": "display_data"
    }
   ],
   "source": [
    "app = dash.Dash(__name__)\n",
    "\n",
    "app.layout = html.Div([\n",
    "    dcc.Input(id='input', type='text', placeholder='Enter a value', style={'margin': '10px'}),\n",
    "    html.Button('Submit', id='submit-button', n_clicks=0, style={'margin': '10px'}),\n",
    "    html.Div(id='output', style={'margin': '10px'})\n",
    "])\n",
    "\n",
    "@app.callback(\n",
    "    Output('output', 'children'),\n",
    "    [Input('submit-button', 'n_clicks')],\n",
    "    [State('input', 'value')]\n",
    ")\n",
    "def update_output(n_clicks, value):\n",
    "    if n_clicks > 0:\n",
    "        return f'Submitted value: {value}'\n",
    "    return ''\n",
    "\n",
    "if __name__ == '__main__':\n",
    "    app.run_server(debug=True, port= 8061)"
   ]
  },
  {
   "cell_type": "code",
   "execution_count": null,
   "id": "f03485f3-7b7c-4e49-81b3-9dd737931d78",
   "metadata": {},
   "outputs": [],
   "source": []
  }
 ],
 "metadata": {
  "kernelspec": {
   "display_name": "Python 3 (ipykernel)",
   "language": "python",
   "name": "python3"
  },
  "language_info": {
   "codemirror_mode": {
    "name": "ipython",
    "version": 3
   },
   "file_extension": ".py",
   "mimetype": "text/x-python",
   "name": "python",
   "nbconvert_exporter": "python",
   "pygments_lexer": "ipython3",
   "version": "3.12.3"
  }
 },
 "nbformat": 4,
 "nbformat_minor": 5
}
