{
 "cells": [
  {
   "cell_type": "markdown",
   "id": "0b38ace8-0874-48f5-9c5a-2ece821cbb68",
   "metadata": {},
   "source": [
    "## Notifications and Alerts\n",
    "\n",
    "Notifications and alerts are essential for informing users about the status of their actions, errors, or other important events in the application.\n",
    "\n",
    "**2.1 Importance of Notifications and Alerts**\n",
    "\n",
    "- **User Guidance**: Help users understand the outcome of their actions and guide them on what to do next.\n",
    "- **Error Handling**: Inform users about errors and how to resolve them.\n",
    "- **Engagement**: Keep users informed about important updates or changes within the application.\n",
    "\n",
    "**2.2 Types of Notifications**\n",
    "\n",
    "- **Success Notifications**: Inform users of successful actions.\n",
    "- **Error Alerts**: Warn users about errors or issues that need attention.\n",
    "- **Informational Messages**: Provide additional context or information.\n",
    "\n",
    "**2.3 Best Practices in Implementing Notifications**\n",
    "\n",
    "- **Clarity**: Ensure messages are clear and concise.\n",
    "- **Timeliness**: Deliver notifications promptly in response to user actions.\n",
    "- **Non-intrusiveness**: Notifications should be noticeable but not disrupt the user experience.\n",
    "\n",
    "**Example**: Displaying Notifications in Dash."
   ]
  },
  {
   "cell_type": "code",
   "execution_count": 1,
   "id": "6dc10d9b-4917-4a71-9818-6392f4976eea",
   "metadata": {},
   "outputs": [],
   "source": [
    "import dash\n",
    "from dash import dcc, html\n",
    "from dash.dependencies import Input, Output, State"
   ]
  },
  {
   "cell_type": "code",
   "execution_count": 6,
   "id": "e8090746-11e1-4ae0-8df1-eab332038a9b",
   "metadata": {},
   "outputs": [
    {
     "data": {
      "text/html": [
       "\n",
       "        <iframe\n",
       "            width=\"100%\"\n",
       "            height=\"650\"\n",
       "            src=\"http://127.0.0.1:8054/\"\n",
       "            frameborder=\"0\"\n",
       "            allowfullscreen\n",
       "            \n",
       "        ></iframe>\n",
       "        "
      ],
      "text/plain": [
       "<IPython.lib.display.IFrame at 0x18717a38ce0>"
      ]
     },
     "metadata": {},
     "output_type": "display_data"
    }
   ],
   "source": [
    "app2 = dash.Dash(__name__)\n",
    "\n",
    "app2.layout = html.Div([\n",
    "    html.H1('Notifications and Alerts Example', style={'textAlign': 'center', 'color': '#0074D9'}),\n",
    "    html.Button('Show Success', id='success-button', n_clicks=0, style={'margin': '10px', 'padding': '10px 20px', 'backgroundColor': '#28a745', 'color': 'white', 'border': 'none', 'borderRadius': '5px'}),\n",
    "    html.Button('Show Error', id='error-button', n_clicks=0, style={'margin': '10px', 'padding': '10px 20px', 'backgroundColor': '#dc3545', 'color': 'white', 'border': 'none', 'borderRadius': '5px'}),\n",
    "    html.Div(id='notification', style={'marginTop': '20px', 'padding': '10px', 'border': '1px solid #0074D9', 'borderRadius': '5px'})\n",
    "])\n",
    "\n",
    "@app2.callback(\n",
    "    Output('notification', 'children'),\n",
    "    [Input('success-button', 'n_clicks'), Input('error-button', 'n_clicks')]\n",
    ")\n",
    "def show_notification(success_clicks, error_clicks):\n",
    "    if success_clicks > 0:\n",
    "        return html.Div('Action was successful!', style={'color': 'green'})\n",
    "    if error_clicks > 0:\n",
    "        return html.Div('An error occurred.', style={'color': 'red'})\n",
    "    return ''\n",
    "\n",
    "if __name__ == '__main__':\n",
    "    app2.run_server(debug=True, port=8054)"
   ]
  },
  {
   "cell_type": "code",
   "execution_count": null,
   "id": "51f75c82-fab2-4bd9-b79e-e53f470bcb2d",
   "metadata": {},
   "outputs": [],
   "source": []
  }
 ],
 "metadata": {
  "kernelspec": {
   "display_name": "Python 3 (ipykernel)",
   "language": "python",
   "name": "python3"
  },
  "language_info": {
   "codemirror_mode": {
    "name": "ipython",
    "version": 3
   },
   "file_extension": ".py",
   "mimetype": "text/x-python",
   "name": "python",
   "nbconvert_exporter": "python",
   "pygments_lexer": "ipython3",
   "version": "3.12.3"
  }
 },
 "nbformat": 4,
 "nbformat_minor": 5
}
