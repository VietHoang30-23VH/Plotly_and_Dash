{
 "cells": [
  {
   "cell_type": "markdown",
   "id": "61450b39-e6ac-4c29-a624-c97eda8fde78",
   "metadata": {},
   "source": [
    "## Interactive Data Filtering\n",
    "\n",
    "Interactive data filtering allows users to dynamically adjust the data they view, providing a more personalized and relevant experience.\n",
    "\n",
    "**3.1 Importance of Interactive Data Filtering**\n",
    "\n",
    "- **User Empowerment**: Empowers users to explore data on their terms.\n",
    "- **Efficiency**: Helps users quickly find relevant information without navigating through multiple pages or views.\n",
    "- **Customization**: Allows users to customize their data views according to their preferences.\n",
    "\n",
    "**3.2 Types of Data Filters**\n",
    "\n",
    "- **Dropdown Filters**: Allow selection from predefined options.\n",
    "- **Range Sliders**: Enable filtering based on numerical ranges.\n",
    "- **Checkboxes**: Allow multiple selections for categorical data.\n",
    "\n",
    "**3.3 Best Practices in Implementing Data Filtering**\n",
    "\n",
    "- **Intuitive Design**: Ensure filters are easy to use and understand.\n",
    "- **Performance**: Optimize filtering processes to handle large datasets efficiently.\n",
    "- **Real-Time Feedback**: Provide immediate updates to the displayed data as filters are applied.\n",
    "\n",
    "**Example**: Using Dash to implement interactive filters for a dataset."
   ]
  },
  {
   "cell_type": "code",
   "execution_count": 1,
   "id": "3023668e-d069-42af-9ca3-da8b1dc46a1c",
   "metadata": {},
   "outputs": [],
   "source": [
    "import dash\n",
    "from dash import dcc, html\n",
    "from dash.dependencies import Input, Output\n",
    "import pandas as pd"
   ]
  },
  {
   "cell_type": "code",
   "execution_count": 3,
   "id": "dc64627b-0290-4589-a4d7-81d6d5ad4e35",
   "metadata": {},
   "outputs": [
    {
     "data": {
      "text/html": [
       "\n",
       "        <iframe\n",
       "            width=\"100%\"\n",
       "            height=\"650\"\n",
       "            src=\"http://127.0.0.1:8045/\"\n",
       "            frameborder=\"0\"\n",
       "            allowfullscreen\n",
       "            \n",
       "        ></iframe>\n",
       "        "
      ],
      "text/plain": [
       "<IPython.lib.display.IFrame at 0x1b4bf49c380>"
      ]
     },
     "metadata": {},
     "output_type": "display_data"
    }
   ],
   "source": [
    "\n",
    "app3 = dash.Dash(__name__)\n",
    "\n",
    "# Sample data\n",
    "data = {\n",
    "    'Category': ['A', 'A', 'B', 'B', 'C', 'C'],\n",
    "    'Value': [4, 3, 2, 5, 7, 6]\n",
    "}\n",
    "df = pd.DataFrame(data)\n",
    "\n",
    "app3.layout = html.Div([\n",
    "    html.H1('Interactive Data Filtering Example', style={'textAlign': 'center', 'color': '#0074D9'}),\n",
    "    dcc.Dropdown(\n",
    "        id='category-filter',\n",
    "        options=[{'label': cat, 'value': cat} for cat in df['Category'].unique()],\n",
    "        value='A',\n",
    "        style={'margin': '10px', 'padding': '10px', 'borderRadius': '5px'}\n",
    "    ),\n",
    "    dcc.Graph(id='filtered-graph', style={'margin': '10px'})\n",
    "])\n",
    "\n",
    "@app3.callback(\n",
    "    Output('filtered-graph', 'figure'),\n",
    "    [Input('category-filter', 'value')]\n",
    ")\n",
    "def update_graph(selected_category):\n",
    "    filtered_df = df[df['Category'] == selected_category]\n",
    "    return {\n",
    "        'data': [{'x': filtered_df['Category'], 'y': filtered_df['Value'], 'type': 'bar', 'name': selected_category}],\n",
    "        'layout': {'title': f'Values for Category {selected_category}', 'margin': {'l': 40, 'r': 40, 't': 40, 'b': 40}}\n",
    "    }\n",
    "\n",
    "if __name__ == '__main__':\n",
    "    app3.run_server(debug=True, port=8045)\n"
   ]
  },
  {
   "cell_type": "code",
   "execution_count": 5,
   "id": "1326767a-730a-45b0-b95f-8a476d77a02d",
   "metadata": {},
   "outputs": [
    {
     "data": {
      "text/html": [
       "\n",
       "        <iframe\n",
       "            width=\"100%\"\n",
       "            height=\"650\"\n",
       "            src=\"http://127.0.0.1:8046/\"\n",
       "            frameborder=\"0\"\n",
       "            allowfullscreen\n",
       "            \n",
       "        ></iframe>\n",
       "        "
      ],
      "text/plain": [
       "<IPython.lib.display.IFrame at 0x1b4bf3ff170>"
      ]
     },
     "metadata": {},
     "output_type": "display_data"
    }
   ],
   "source": [
    "\n",
    "app4 = dash.Dash(__name__)\n",
    "\n",
    "# Sample data\n",
    "data = {\n",
    "    'Category': ['A', 'A', 'B', 'B', 'C', 'C'],\n",
    "    'Value': [4, 3, 2, 5, 7, 6]\n",
    "}\n",
    "df = pd.DataFrame(data)\n",
    "\n",
    "app4.layout = html.Div([\n",
    "    html.H1('Interactive Data Filtering with Checkboxes Example', style={'textAlign': 'center', 'color': '#0074D9'}),\n",
    "    dcc.Checklist(\n",
    "        id='category-filter',\n",
    "        options=[{'label': cat, 'value': cat} for cat in df['Category'].unique()],\n",
    "        value=['A'],\n",
    "        style={'margin': '10px', 'padding': '10px', 'borderRadius': '5px'}\n",
    "    ),\n",
    "    dcc.Graph(id='filtered-graph', style={'margin': '10px'})\n",
    "])\n",
    "\n",
    "@app4.callback(\n",
    "    Output('filtered-graph', 'figure'),\n",
    "    [Input('category-filter', 'value')]\n",
    ")\n",
    "def update_graph(selected_categories):\n",
    "    filtered_df = df[df['Category'].isin(selected_categories)]\n",
    "    return {\n",
    "        'data': [{'x': filtered_df['Category'], 'y': filtered_df['Value'], 'type': 'bar', 'name': ', '.join(selected_categories)}],\n",
    "        'layout': {'title': f'Values for Categories: {\", \".join(selected_categories)}', 'margin': {'l': 40, 'r': 40, 't': 40, 'b': 40}}\n",
    "    }\n",
    "\n",
    "if __name__ == '__main__':\n",
    "    app4.run_server(debug=True, port =8046)\n"
   ]
  }
 ],
 "metadata": {
  "kernelspec": {
   "display_name": "Python 3 (ipykernel)",
   "language": "python",
   "name": "python3"
  },
  "language_info": {
   "codemirror_mode": {
    "name": "ipython",
    "version": 3
   },
   "file_extension": ".py",
   "mimetype": "text/x-python",
   "name": "python",
   "nbconvert_exporter": "python",
   "pygments_lexer": "ipython3",
   "version": "3.12.3"
  }
 },
 "nbformat": 4,
 "nbformat_minor": 5
}
