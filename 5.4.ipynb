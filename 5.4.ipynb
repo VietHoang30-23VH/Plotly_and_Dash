{
 "cells": [
  {
   "cell_type": "markdown",
   "id": "e5792ccf-912f-4f92-8fe7-2c0383893b27",
   "metadata": {},
   "source": [
    "## Introduction to Using APIs\n",
    "\n",
    "APIs (Application Programming Interfaces) allow you to interact with external services and retrieve data. We will cover how to use the `requests` library to fetch data from an API.\n",
    "\n",
    "**Step-by-Step: Fetching Data from an API**\n",
    "\n",
    "**1. Install Required Libraries**\n",
    "\n",
    "First, you need to install the `requests` library:"
   ]
  },
  {
   "cell_type": "code",
   "execution_count": 1,
   "id": "664000b2-f3cb-43c2-9c86-26ae774aefac",
   "metadata": {},
   "outputs": [
    {
     "name": "stdout",
     "output_type": "stream",
     "text": [
      "Requirement already satisfied: requests in e:\\5g_dashboard\\mydashenv\\lib\\site-packages (2.32.3)\n",
      "Requirement already satisfied: charset-normalizer<4,>=2 in e:\\5g_dashboard\\mydashenv\\lib\\site-packages (from requests) (3.4.2)\n",
      "Requirement already satisfied: idna<4,>=2.5 in e:\\5g_dashboard\\mydashenv\\lib\\site-packages (from requests) (3.10)\n",
      "Requirement already satisfied: urllib3<3,>=1.21.1 in e:\\5g_dashboard\\mydashenv\\lib\\site-packages (from requests) (2.4.0)\n",
      "Requirement already satisfied: certifi>=2017.4.17 in e:\\5g_dashboard\\mydashenv\\lib\\site-packages (from requests) (2025.4.26)\n"
     ]
    },
    {
     "name": "stderr",
     "output_type": "stream",
     "text": [
      "\n",
      "[notice] A new release of pip is available: 24.0 -> 25.1.1\n",
      "[notice] To update, run: python.exe -m pip install --upgrade pip\n"
     ]
    }
   ],
   "source": [
    "!pip install requests"
   ]
  },
  {
   "cell_type": "markdown",
   "id": "6f27c803-5bd9-4f59-87b2-15cbc7c3c122",
   "metadata": {},
   "source": [
    "**2. Import Libraries**\n",
    "\n",
    "Import the necessary libraries in your Python script:"
   ]
  },
  {
   "cell_type": "code",
   "execution_count": 4,
   "id": "fd2cf09b-8963-4e28-a2b6-6a5c17e493b7",
   "metadata": {},
   "outputs": [],
   "source": [
    "import dash\n",
    "from dash import dcc, html\n",
    "import pandas as pd\n",
    "import requests"
   ]
  },
  {
   "cell_type": "markdown",
   "id": "376f566b-04fb-490a-8dba-0ae0e762e29e",
   "metadata": {},
   "source": [
    "**3. Fetch Data from the API**\n",
    "\n",
    "Use the `requests` library to make an HTTP GET request to the API endpoint and process the response:"
   ]
  },
  {
   "cell_type": "code",
   "execution_count": 5,
   "id": "822c3634-c835-4209-8f5b-ecdad1ab02c3",
   "metadata": {},
   "outputs": [],
   "source": [
    "# Fetch data from an API\n",
    "response = requests.get('https://jsonplaceholder.typicode.com/posts')\n",
    "data = response.json()\n",
    "df = pd.DataFrame(data)"
   ]
  },
  {
   "cell_type": "markdown",
   "id": "82de3288-45b4-4fed-9556-469c29226164",
   "metadata": {},
   "source": [
    "**4. Integrate with Dash Application**\n",
    "\n",
    "Integrate the fetched data with your Dash application:"
   ]
  },
  {
   "cell_type": "code",
   "execution_count": 6,
   "id": "0fc77b33-829b-4387-b704-9e5c985dbac5",
   "metadata": {},
   "outputs": [
    {
     "data": {
      "text/html": [
       "\n",
       "        <iframe\n",
       "            width=\"100%\"\n",
       "            height=\"650\"\n",
       "            src=\"http://127.0.0.1:8052/\"\n",
       "            frameborder=\"0\"\n",
       "            allowfullscreen\n",
       "            \n",
       "        ></iframe>\n",
       "        "
      ],
      "text/plain": [
       "<IPython.lib.display.IFrame at 0x2072c280200>"
      ]
     },
     "metadata": {},
     "output_type": "display_data"
    }
   ],
   "source": [
    "# Initialize Dash app\n",
    "app2 = dash.Dash(__name__)\n",
    "\n",
    "app2.layout = html.Div([\n",
    "    html.H1('Fetching Data from API Example'),\n",
    "    dcc.Graph(\n",
    "        figure={\n",
    "            'data': [\n",
    "                {'x': df['id'], 'y': df['userId'], 'type': 'bar', 'name': 'User Posts'}\n",
    "            ],\n",
    "            'layout': {\n",
    "                'title': 'API Data Plot'\n",
    "            }\n",
    "        }\n",
    "    )\n",
    "])\n",
    "\n",
    "if __name__ == '__main__':\n",
    "    app2.run_server(debug=True, port = 8052)\n"
   ]
  },
  {
   "cell_type": "code",
   "execution_count": null,
   "id": "95a4f1b3-ce1a-4d69-bf6d-2c14e2c0c22c",
   "metadata": {},
   "outputs": [],
   "source": []
  }
 ],
 "metadata": {
  "kernelspec": {
   "display_name": "Python 3 (ipykernel)",
   "language": "python",
   "name": "python3"
  },
  "language_info": {
   "codemirror_mode": {
    "name": "ipython",
    "version": 3
   },
   "file_extension": ".py",
   "mimetype": "text/x-python",
   "name": "python",
   "nbconvert_exporter": "python",
   "pygments_lexer": "ipython3",
   "version": "3.12.3"
  }
 },
 "nbformat": 4,
 "nbformat_minor": 5
}
