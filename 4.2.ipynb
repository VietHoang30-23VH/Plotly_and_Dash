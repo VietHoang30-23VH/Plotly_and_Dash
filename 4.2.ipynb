{
 "cells": [
  {
   "cell_type": "markdown",
   "id": "094cf3ff-855c-4e6a-8eee-a13c5bbd56f0",
   "metadata": {},
   "source": [
    "### Graph and DataTable Components\n",
    "\n",
    "These components allow you to display data visually and in tabular formats, making it easier to analyze and interpret complex datasets.\n",
    "\n",
    "**1. Graph Components**\n",
    "\n",
    "Graph components allow you to create various types of charts and visualizations, such as line charts, bar charts, and scatter plots.\n",
    "\n",
    "**Example: Line Chart**\n",
    "\n",
    "The following code demonstrates how to create a line chart in Dash using the Graph component."
   ]
  },
  {
   "cell_type": "code",
   "execution_count": 1,
   "id": "a8c496e0-dfac-4b6e-a1b5-1a611be9949e",
   "metadata": {},
   "outputs": [],
   "source": [
    "import dash\n",
    "from dash import dcc\n",
    "from dash import html\n",
    "import plotly.graph_objs as go\n"
   ]
  },
  {
   "cell_type": "code",
   "execution_count": 7,
   "id": "c30b939a-67e6-45a7-a222-ba331adf2272",
   "metadata": {},
   "outputs": [],
   "source": [
    "app1 = dash.Dash(__name__)\n",
    "\n",
    "app1.layout = html.Div([\n",
    "    dcc.Graph(\n",
    "        id='line-chart',\n",
    "        figure={\n",
    "            'data': [\n",
    "                go.Scatter(x=[1, 2, 3], y=[4, 1, 2], mode='lines', name='Line 1'),\n",
    "                go.Scatter(x=[1, 2, 3], y=[2, 4, 5], mode='lines', name='Line 2')\n",
    "            ],\n",
    "            'layout': go.Layout(title='Line Chart Example')\n",
    "        }\n",
    "    )\n",
    "])"
   ]
  },
  {
   "cell_type": "code",
   "execution_count": 8,
   "id": "ec40c3b6-a253-4083-a2d4-a7b4a889c024",
   "metadata": {},
   "outputs": [
    {
     "data": {
      "text/html": [
       "\n",
       "        <iframe\n",
       "            width=\"100%\"\n",
       "            height=\"650\"\n",
       "            src=\"http://127.0.0.1:8051/\"\n",
       "            frameborder=\"0\"\n",
       "            allowfullscreen\n",
       "            \n",
       "        ></iframe>\n",
       "        "
      ],
      "text/plain": [
       "<IPython.lib.display.IFrame at 0x274b629b620>"
      ]
     },
     "metadata": {},
     "output_type": "display_data"
    }
   ],
   "source": [
    "if __name__ == '__main__':\n",
    "    app1.run_server(debug=True, port = 8051)"
   ]
  },
  {
   "cell_type": "code",
   "execution_count": null,
   "id": "20cd77f7-cb63-49b3-96ff-9de9ce82a59f",
   "metadata": {},
   "outputs": [],
   "source": []
  },
  {
   "cell_type": "markdown",
   "id": "9d465707-76e2-4a2c-aba9-7b8f73e2e3c4",
   "metadata": {},
   "source": [
    "**2. DataTable Components**\n",
    "\n",
    "DataTable components allow you to display and interact with data in a tabular format. They are highly customizable and can handle large datasets efficiently.\n",
    "\n",
    "**Example: DataTable**\n",
    "\n",
    "The following code demonstrates how to create a DataTable in Dash."
   ]
  },
  {
   "cell_type": "code",
   "execution_count": 5,
   "id": "b57b198c-741c-43ac-9e2a-590e8bf0fd4c",
   "metadata": {},
   "outputs": [],
   "source": [
    "from dash import dash_table\n",
    "app2 = dash.Dash(__name__)\n",
    "\n",
    "data = [\n",
    "    {'Column 1': 'A', 'Column 2': 1},\n",
    "    {'Column 1': 'B', 'Column 2': 2},\n",
    "    {'Column 1': 'C', 'Column 2': 3}\n",
    "]\n",
    "\n",
    "app2.layout = html.Div([\n",
    "    dash_table.DataTable(\n",
    "        columns=[{'name': 'Column 1', 'id': 'Column 1'}, {'name': 'Column 2', 'id': 'Column 2'}],\n",
    "        data=data\n",
    "    )\n",
    "])"
   ]
  },
  {
   "cell_type": "code",
   "execution_count": 6,
   "id": "f6fe2f82-7624-4a47-84cd-b949ce4dff98",
   "metadata": {},
   "outputs": [
    {
     "data": {
      "text/html": [
       "\n",
       "        <iframe\n",
       "            width=\"100%\"\n",
       "            height=\"650\"\n",
       "            src=\"http://127.0.0.1:8051/\"\n",
       "            frameborder=\"0\"\n",
       "            allowfullscreen\n",
       "            \n",
       "        ></iframe>\n",
       "        "
      ],
      "text/plain": [
       "<IPython.lib.display.IFrame at 0x274b54a70e0>"
      ]
     },
     "metadata": {},
     "output_type": "display_data"
    }
   ],
   "source": [
    "if __name__ == '__main__':\n",
    "    app2.run_server(debug=True, port = 8051)"
   ]
  },
  {
   "cell_type": "code",
   "execution_count": null,
   "id": "eec78c17-8343-4623-9d0c-999af73ccbdc",
   "metadata": {},
   "outputs": [],
   "source": []
  }
 ],
 "metadata": {
  "kernelspec": {
   "display_name": "Python 3 (ipykernel)",
   "language": "python",
   "name": "python3"
  },
  "language_info": {
   "codemirror_mode": {
    "name": "ipython",
    "version": 3
   },
   "file_extension": ".py",
   "mimetype": "text/x-python",
   "name": "python",
   "nbconvert_exporter": "python",
   "pygments_lexer": "ipython3",
   "version": "3.12.3"
  }
 },
 "nbformat": 4,
 "nbformat_minor": 5
}
