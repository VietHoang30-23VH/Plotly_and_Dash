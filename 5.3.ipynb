{
 "cells": [
  {
   "cell_type": "markdown",
   "id": "c62b108a-963e-49a0-9c5a-0284d3583b23",
   "metadata": {},
   "source": [
    "## Connecting to Databases\n",
    "\n",
    "Connecting to databases allows you to retrieve and store data efficiently. We will cover how to connect to SQL databases using SQLAlchemy.\n",
    "\n",
    "**Step-by-Step: Connecting to SQL Databases**\n",
    "\n",
    "SQL databases are widely used for storing and managing structured data. SQLAlchemy is a popular library for interacting with SQL databases in Python. Here is a step-by-step approach to connecting to a SQL database.\n",
    "\n",
    "**1. Install Required Libraries**\n",
    "\n",
    "First, you need to install SQLAlchemy and a database driver. For this example, we'll use SQLite, which doesn't require a separate server setup."
   ]
  },
  {
   "cell_type": "code",
   "execution_count": 1,
   "id": "e148fc36-8e75-4572-8d74-73b71d0ad5df",
   "metadata": {},
   "outputs": [
    {
     "name": "stdout",
     "output_type": "stream",
     "text": [
      "Collecting sqlalchemy\n",
      "  Downloading sqlalchemy-2.0.40-cp312-cp312-win_amd64.whl.metadata (9.9 kB)\n",
      "Collecting greenlet>=1 (from sqlalchemy)\n",
      "  Downloading greenlet-3.2.2-cp312-cp312-win_amd64.whl.metadata (4.2 kB)\n",
      "Requirement already satisfied: typing-extensions>=4.6.0 in e:\\5g_dashboard\\mydashenv\\lib\\site-packages (from sqlalchemy) (4.13.2)\n",
      "Downloading sqlalchemy-2.0.40-cp312-cp312-win_amd64.whl (2.1 MB)\n",
      "   ---------------------------------------- 0.0/2.1 MB ? eta -:--:--\n",
      "   ---------------------------------------- 0.0/2.1 MB ? eta -:--:--\n",
      "   ---------------------------------------- 0.0/2.1 MB ? eta -:--:--\n",
      "    --------------------------------------- 0.0/2.1 MB 262.6 kB/s eta 0:00:08\n",
      "    --------------------------------------- 0.0/2.1 MB 279.3 kB/s eta 0:00:08\n",
      "   - -------------------------------------- 0.1/2.1 MB 521.8 kB/s eta 0:00:04\n",
      "   --- ------------------------------------ 0.2/2.1 MB 841.6 kB/s eta 0:00:03\n",
      "   ----- ---------------------------------- 0.3/2.1 MB 1.1 MB/s eta 0:00:02\n",
      "   ---------- ----------------------------- 0.5/2.1 MB 1.8 MB/s eta 0:00:01\n",
      "   -------------- ------------------------- 0.8/2.1 MB 2.2 MB/s eta 0:00:01\n",
      "   -------------------- ------------------- 1.1/2.1 MB 2.8 MB/s eta 0:00:01\n",
      "   --------------------------- ------------ 1.5/2.1 MB 3.3 MB/s eta 0:00:01\n",
      "   ---------------------------------- ----- 1.8/2.1 MB 3.8 MB/s eta 0:00:01\n",
      "   ---------------------------------------  2.1/2.1 MB 3.9 MB/s eta 0:00:01\n",
      "   ---------------------------------------- 2.1/2.1 MB 3.8 MB/s eta 0:00:00\n",
      "Downloading greenlet-3.2.2-cp312-cp312-win_amd64.whl (296 kB)\n",
      "   ---------------------------------------- 0.0/296.2 kB ? eta -:--:--\n",
      "   ------------------------------------- - 286.7/296.2 kB 17.3 MB/s eta 0:00:01\n",
      "   ---------------------------------------- 296.2/296.2 kB 6.1 MB/s eta 0:00:00\n",
      "Installing collected packages: greenlet, sqlalchemy\n",
      "Successfully installed greenlet-3.2.2 sqlalchemy-2.0.40\n"
     ]
    },
    {
     "name": "stderr",
     "output_type": "stream",
     "text": [
      "\n",
      "[notice] A new release of pip is available: 24.0 -> 25.1.1\n",
      "[notice] To update, run: python.exe -m pip install --upgrade pip\n"
     ]
    }
   ],
   "source": [
    "!pip install sqlalchemy"
   ]
  },
  {
   "cell_type": "markdown",
   "id": "64bddc0d-92b4-4a10-a580-9762ab7f8f51",
   "metadata": {},
   "source": [
    "**2. Import Libraries**\n",
    "\n",
    "Import the necessary libraries in your Python script:"
   ]
  },
  {
   "cell_type": "code",
   "execution_count": 2,
   "id": "c3625733-d624-41fd-8d24-385ca38de327",
   "metadata": {},
   "outputs": [],
   "source": [
    "from sqlalchemy import create_engine\n",
    "import pandas as pd"
   ]
  },
  {
   "cell_type": "markdown",
   "id": "ef5a52e3-e8a3-4600-ac18-dad186288a8d",
   "metadata": {},
   "source": [
    "**3. Create a Database Engine**\n",
    "\n",
    "Create an engine to connect to the database. For SQLite, this is straightforward:"
   ]
  },
  {
   "cell_type": "code",
   "execution_count": 3,
   "id": "2a9cdb0f-e780-4319-b74a-cda21a615121",
   "metadata": {},
   "outputs": [],
   "source": [
    "# Create an engine to connect to the SQLite database\n",
    "engine = create_engine('sqlite:///data.db')"
   ]
  },
  {
   "cell_type": "markdown",
   "id": "238380cc-d10e-43b9-9a30-0163360734a1",
   "metadata": {},
   "source": [
    "**4. Create a Table and Insert Data**\n",
    "\n",
    "Before reading data, you may need to create a table and insert some data. Here's how to do it:"
   ]
  },
  {
   "cell_type": "code",
   "execution_count": 4,
   "id": "3678c503-cac7-441f-837c-74ea4533f768",
   "metadata": {},
   "outputs": [
    {
     "data": {
      "text/plain": [
       "3"
      ]
     },
     "execution_count": 4,
     "metadata": {},
     "output_type": "execute_result"
    }
   ],
   "source": [
    "# Sample data to insert\n",
    "dataset = {'Column 1': ['A', 'B', 'C'], 'Column 2': [1, 2, 3]}\n",
    "df = pd.DataFrame(dataset)\n",
    "\n",
    "# Write the data to a SQL table\n",
    "df.to_sql('table_name', con=engine, if_exists='replace', index=False)"
   ]
  },
  {
   "cell_type": "markdown",
   "id": "55b42651-8df3-48a7-b79c-150032f06fde",
   "metadata": {},
   "source": [
    "**5. Reading Data from the Database**\n",
    "\n",
    "Now, you can read data from the database using a SQL query:"
   ]
  },
  {
   "cell_type": "code",
   "execution_count": 16,
   "id": "8199f22d-5972-47ac-bf7e-217b35c86fca",
   "metadata": {},
   "outputs": [],
   "source": [
    "# Read data from a SQL database\n",
    "df = pd.read_sql('SELECT * FROM table_name WHERE [Column 2] = 3', engine)"
   ]
  },
  {
   "cell_type": "markdown",
   "id": "eef85b30-b60c-4819-889c-f77ed87780c8",
   "metadata": {},
   "source": [
    "**6. Integrate with Dash Application**\n",
    "\n",
    "Finally, integrate the data with your Dash application:"
   ]
  },
  {
   "cell_type": "code",
   "execution_count": 17,
   "id": "f4c8f00a-e220-40a1-be3c-835350837a21",
   "metadata": {},
   "outputs": [],
   "source": [
    "import dash\n",
    "from dash import dcc\n",
    "from dash import html"
   ]
  },
  {
   "cell_type": "code",
   "execution_count": 18,
   "id": "ce082b63-069c-4b9e-897a-17ee7fefb37c",
   "metadata": {},
   "outputs": [
    {
     "data": {
      "text/html": [
       "\n",
       "        <iframe\n",
       "            width=\"100%\"\n",
       "            height=\"650\"\n",
       "            src=\"http://127.0.0.1:8051/\"\n",
       "            frameborder=\"0\"\n",
       "            allowfullscreen\n",
       "            \n",
       "        ></iframe>\n",
       "        "
      ],
      "text/plain": [
       "<IPython.lib.display.IFrame at 0x1bd0cbf8fe0>"
      ]
     },
     "metadata": {},
     "output_type": "display_data"
    }
   ],
   "source": [
    "app1 = dash.Dash(__name__)\n",
    "\n",
    "app1.layout = html.Div([\n",
    "    html.H1('Reading Data from Database Example'),\n",
    "    dcc.Graph(\n",
    "        figure={\n",
    "            'data': [\n",
    "                {'x': df['Column 1'], 'y': df['Column 2'], 'type': 'line', 'name': 'Database Data'}\n",
    "            ],\n",
    "            'layout': {\n",
    "                'title': 'Database Data Plot'\n",
    "            }\n",
    "        }\n",
    "    )\n",
    "])\n",
    "\n",
    "if __name__ == '__main__':\n",
    "    app1.run_server(debug=True , port = 8051)"
   ]
  },
  {
   "cell_type": "code",
   "execution_count": null,
   "id": "d75a8de0-5874-4a9a-88e7-52075d0bf657",
   "metadata": {},
   "outputs": [],
   "source": []
  }
 ],
 "metadata": {
  "kernelspec": {
   "display_name": "Python 3 (ipykernel)",
   "language": "python",
   "name": "python3"
  },
  "language_info": {
   "codemirror_mode": {
    "name": "ipython",
    "version": 3
   },
   "file_extension": ".py",
   "mimetype": "text/x-python",
   "name": "python",
   "nbconvert_exporter": "python",
   "pygments_lexer": "ipython3",
   "version": "3.12.3"
  }
 },
 "nbformat": 4,
 "nbformat_minor": 5
}
