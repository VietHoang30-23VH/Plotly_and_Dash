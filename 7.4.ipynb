{
 "cells": [
  {
   "cell_type": "markdown",
   "id": "e5d9fda3-4a3c-4a83-a558-de4c7907037d",
   "metadata": {},
   "source": [
    "## Error Handling\n",
    "\n",
    "Error handling ensures that your application can gracefully handle unexpected situations and provide meaningful feedback to the user. This includes managing exceptions, validating inputs, and displaying error messages. Proper error handling improves the robustness and user experience of your application by preventing crashes and guiding users to correct their mistakes.\n"
   ]
  },
  {
   "cell_type": "markdown",
   "id": "90eabd36-ab42-45c5-825f-632867172ab1",
   "metadata": {},
   "source": [
    "**Concepts and Examples**\n",
    "\n",
    "**1. Input Validation**\n",
    "\n",
    "Input validation ensures that user inputs meet expected criteria before processing. This prevents invalid data from causing errors or unexpected behavior in your application.\n",
    "\n",
    "**Error Code (Without Validation):**"
   ]
  },
  {
   "cell_type": "code",
   "execution_count": 1,
   "id": "1ea614cb-8791-4204-9e6a-302cadffb9dd",
   "metadata": {},
   "outputs": [
    {
     "data": {
      "text/html": [
       "\n",
       "        <iframe\n",
       "            width=\"100%\"\n",
       "            height=\"650\"\n",
       "            src=\"http://127.0.0.1:8051/\"\n",
       "            frameborder=\"0\"\n",
       "            allowfullscreen\n",
       "            \n",
       "        ></iframe>\n",
       "        "
      ],
      "text/plain": [
       "<IPython.lib.display.IFrame at 0x1e077a745c0>"
      ]
     },
     "metadata": {},
     "output_type": "display_data"
    }
   ],
   "source": [
    "import dash\n",
    "from dash import dcc, html\n",
    "from dash.dependencies import Input, Output, State\n",
    "\n",
    "app = dash.Dash(__name__)\n",
    "\n",
    "app.layout = html.Div([\n",
    "    dcc.Input(id='input-1', type='text', placeholder='Enter a number', style={'margin': '10px'}),\n",
    "    html.Button('Submit', id='submit-button', n_clicks=0, style={'margin': '10px'}),\n",
    "    html.Div(id='output', style={'color': 'red'})\n",
    "])\n",
    "\n",
    "@app.callback(\n",
    "    Output('output', 'children'),\n",
    "    [Input('submit-button', 'n_clicks')],\n",
    "    [State('input-1', 'value')]\n",
    ")\n",
    "def update_output(n_clicks, input_value):\n",
    "    if n_clicks > 0:\n",
    "        return f'You entered: {input_value}'\n",
    "    return ''\n",
    "\n",
    "if __name__ == '__main__':\n",
    "    app.run_server(debug=True, port= 8051)"
   ]
  },
  {
   "cell_type": "markdown",
   "id": "2bedf89c-84ce-46de-8f0c-c7841f3adf06",
   "metadata": {},
   "source": [
    "**Error Handling Code (With Validation):**"
   ]
  },
  {
   "cell_type": "code",
   "execution_count": 2,
   "id": "1adc4785-693f-44ec-9f1b-48c1ccebdc23",
   "metadata": {},
   "outputs": [
    {
     "data": {
      "text/html": [
       "\n",
       "        <iframe\n",
       "            width=\"100%\"\n",
       "            height=\"650\"\n",
       "            src=\"http://127.0.0.1:8052/\"\n",
       "            frameborder=\"0\"\n",
       "            allowfullscreen\n",
       "            \n",
       "        ></iframe>\n",
       "        "
      ],
      "text/plain": [
       "<IPython.lib.display.IFrame at 0x1e077eef8c0>"
      ]
     },
     "metadata": {},
     "output_type": "display_data"
    }
   ],
   "source": [
    "import dash\n",
    "from dash import dcc, html\n",
    "from dash.dependencies import Input, Output, State\n",
    "\n",
    "app = dash.Dash(__name__)\n",
    "\n",
    "app.layout = html.Div([\n",
    "    dcc.Input(id='input-1', type='text', placeholder='Enter a number', style={'margin': '10px'}),\n",
    "    html.Button('Submit', id='submit-button', n_clicks=0, style={'margin': '10px'}),\n",
    "    html.Div(id='output', style={'color': 'red'})\n",
    "])\n",
    "\n",
    "@app.callback(\n",
    "    Output('output', 'children'),\n",
    "    [Input('submit-button', 'n_clicks')],\n",
    "    [State('input-1', 'value')]\n",
    ")\n",
    "def update_output(n_clicks, input_value):\n",
    "    if n_clicks > 0:\n",
    "        if input_value is None or not input_value.isdigit():\n",
    "            return 'Please enter a valid number.'\n",
    "        return f'You entered: {input_value}'\n",
    "    return ''\n",
    "\n",
    "if __name__ == '__main__':\n",
    "    app.run_server(debug=True, port= 8052)"
   ]
  },
  {
   "cell_type": "markdown",
   "id": "30017c01-633f-4c3f-a2a9-aacf5dde4b75",
   "metadata": {},
   "source": [
    "**2. Exception Handling**\n",
    "\n",
    "Exception handling involves catching and managing errors that occur during execution to prevent the application from crashing.\n",
    "\n",
    "**Error Code (Without Exception Handling):**"
   ]
  },
  {
   "cell_type": "code",
   "execution_count": 3,
   "id": "2edc417f-ebc4-4253-b5cd-021c7da0599f",
   "metadata": {},
   "outputs": [
    {
     "data": {
      "text/html": [
       "\n",
       "        <iframe\n",
       "            width=\"100%\"\n",
       "            height=\"650\"\n",
       "            src=\"http://127.0.0.1:8053/\"\n",
       "            frameborder=\"0\"\n",
       "            allowfullscreen\n",
       "            \n",
       "        ></iframe>\n",
       "        "
      ],
      "text/plain": [
       "<IPython.lib.display.IFrame at 0x1e0775d5ee0>"
      ]
     },
     "metadata": {},
     "output_type": "display_data"
    },
    {
     "name": "stdout",
     "output_type": "stream",
     "text": [
      "---------------------------------------------------------------------------\n",
      "ValueError                                Traceback (most recent call last)\n",
      "Cell In[3], line 20, in update_output(n_clicks=1, input_value='7.2')\n",
      "     13 @app.callback(\n",
      "     14     Output('output', 'children'),\n",
      "     15     [Input('submit-button', 'n_clicks')],\n",
      "     16     [State('input-1', 'value')]\n",
      "     17 )\n",
      "     18 def update_output(n_clicks, input_value):\n",
      "     19     if n_clicks > 0:\n",
      "---> 20         result = 10 / int(input_value)\n",
      "        input_value = '7.2'\n",
      "     21         return f'Result: {result}'\n",
      "     22     return ''\n",
      "\n",
      "ValueError: invalid literal for int() with base 10: '7.2'\n",
      "\n"
     ]
    }
   ],
   "source": [
    "import dash\n",
    "from dash import dcc, html\n",
    "from dash.dependencies import Input, Output, State\n",
    "\n",
    "app = dash.Dash(__name__)\n",
    "\n",
    "app.layout = html.Div([\n",
    "    dcc.Input(id='input-1', type='text', placeholder='Enter a number', style={'margin': '10px'}),\n",
    "    html.Button('Submit', id='submit-button', n_clicks=0, style={'margin': '10px'}),\n",
    "    html.Div(id='output', style={'color': 'red'})\n",
    "])\n",
    "\n",
    "@app.callback(\n",
    "    Output('output', 'children'),\n",
    "    [Input('submit-button', 'n_clicks')],\n",
    "    [State('input-1', 'value')]\n",
    ")\n",
    "def update_output(n_clicks, input_value):\n",
    "    if n_clicks > 0:\n",
    "        result = 10 / int(input_value)\n",
    "        return f'Result: {result}'\n",
    "    return ''\n",
    "\n",
    "if __name__ == '__main__':\n",
    "    app.run_server(debug=True, port = 8053)"
   ]
  },
  {
   "cell_type": "markdown",
   "id": "8700dcd2-f3dc-4c52-9398-70e628fab155",
   "metadata": {},
   "source": [
    "**Error Handling Code (With Exception Handling):**"
   ]
  },
  {
   "cell_type": "code",
   "execution_count": 4,
   "id": "0ad20bd6-981b-4b53-94dd-b92a37e07303",
   "metadata": {},
   "outputs": [
    {
     "data": {
      "text/html": [
       "\n",
       "        <iframe\n",
       "            width=\"100%\"\n",
       "            height=\"650\"\n",
       "            src=\"http://127.0.0.1:8054/\"\n",
       "            frameborder=\"0\"\n",
       "            allowfullscreen\n",
       "            \n",
       "        ></iframe>\n",
       "        "
      ],
      "text/plain": [
       "<IPython.lib.display.IFrame at 0x1e078224320>"
      ]
     },
     "metadata": {},
     "output_type": "display_data"
    }
   ],
   "source": [
    "import dash\n",
    "from dash import dcc, html\n",
    "from dash.dependencies import Input, Output, State\n",
    "\n",
    "app = dash.Dash(__name__)\n",
    "\n",
    "app.layout = html.Div([\n",
    "    dcc.Input(id='input-1', type='text', placeholder='Enter a number', style={'margin': '10px'}),\n",
    "    html.Button('Submit', id='submit-button', n_clicks=0, style={'margin': '10px'}),\n",
    "    html.Div(id='output', style={'color': 'red'})\n",
    "])\n",
    "\n",
    "@app.callback(\n",
    "    Output('output', 'children'),\n",
    "    [Input('submit-button', 'n_clicks')],\n",
    "    [State('input-1', 'value')]\n",
    ")\n",
    "def update_output(n_clicks, input_value):\n",
    "    if n_clicks > 0:\n",
    "        try:\n",
    "            result = 10 / int(input_value)\n",
    "            return f'Result: {result}'\n",
    "        except ZeroDivisionError:\n",
    "            return 'Error: Division by zero is not allowed.'\n",
    "        except ValueError:\n",
    "            return 'Error: Please enter a valid integer.'\n",
    "    return ''\n",
    "\n",
    "if __name__ == '__main__':\n",
    "    app.run_server(debug=True, port = 8054)"
   ]
  },
  {
   "cell_type": "markdown",
   "id": "0f222ea7-dd31-4cc5-ada1-27f8fa071d1c",
   "metadata": {},
   "source": [
    "**3. User Feedback**\n",
    "\n",
    "Providing clear and helpful messages to inform users of errors and how to fix them enhances the user experience.\n",
    "\n",
    "**Error Code (Without User Feedback):**"
   ]
  },
  {
   "cell_type": "code",
   "execution_count": 5,
   "id": "74f603a5-b12a-4183-9024-fa85f645c003",
   "metadata": {},
   "outputs": [
    {
     "data": {
      "text/html": [
       "\n",
       "        <iframe\n",
       "            width=\"100%\"\n",
       "            height=\"650\"\n",
       "            src=\"http://127.0.0.1:8055/\"\n",
       "            frameborder=\"0\"\n",
       "            allowfullscreen\n",
       "            \n",
       "        ></iframe>\n",
       "        "
      ],
      "text/plain": [
       "<IPython.lib.display.IFrame at 0x1e077661e20>"
      ]
     },
     "metadata": {},
     "output_type": "display_data"
    }
   ],
   "source": [
    "import dash\n",
    "from dash import dcc, html\n",
    "from dash.dependencies import Input, Output, State\n",
    "\n",
    "app = dash.Dash(__name__)\n",
    "\n",
    "app.layout = html.Div([\n",
    "    dcc.Input(id='input-1', type='text', placeholder='Enter a number', style={'margin': '10px'}),\n",
    "    html.Button('Submit', id='submit-button', n_clicks=0, style={'margin': '10px'}),\n",
    "    html.Div(id='output', style={'color': 'red'})\n",
    "])\n",
    "\n",
    "@app.callback(\n",
    "    Output('output', 'children'),\n",
    "    [Input('submit-button', 'n_clicks')],\n",
    "    [State('input-1', 'value')]\n",
    ")\n",
    "def update_output(n_clicks, input_value):\n",
    "    if n_clicks > 0:\n",
    "        if input_value is None or not input_value.isdigit():\n",
    "            return 'Error'\n",
    "        try:\n",
    "            result = 10 / int(input_value)\n",
    "            return f'Result: {result}'\n",
    "        except ZeroDivisionError:\n",
    "            return 'Error'\n",
    "        except ValueError:\n",
    "            return 'Error'\n",
    "    return ''\n",
    "\n",
    "if __name__ == '__main__':\n",
    "    app.run_server(debug=True, port = 8055)"
   ]
  },
  {
   "cell_type": "markdown",
   "id": "d5ecf8a3-0c69-441f-9e36-d6b759019727",
   "metadata": {},
   "source": [
    "**Error Handling Code (With User Feedback):**"
   ]
  },
  {
   "cell_type": "code",
   "execution_count": 6,
   "id": "b60b3ef5-59d0-4210-bae0-832aca0ed370",
   "metadata": {},
   "outputs": [
    {
     "data": {
      "text/html": [
       "\n",
       "        <iframe\n",
       "            width=\"100%\"\n",
       "            height=\"650\"\n",
       "            src=\"http://127.0.0.1:8056/\"\n",
       "            frameborder=\"0\"\n",
       "            allowfullscreen\n",
       "            \n",
       "        ></iframe>\n",
       "        "
      ],
      "text/plain": [
       "<IPython.lib.display.IFrame at 0x1e0782278f0>"
      ]
     },
     "metadata": {},
     "output_type": "display_data"
    }
   ],
   "source": [
    "import dash\n",
    "from dash import dcc, html\n",
    "from dash.dependencies import Input, Output, State\n",
    "\n",
    "app = dash.Dash(__name__)\n",
    "\n",
    "app.layout = html.Div([\n",
    "    dcc.Input(id='input-1', type='text', placeholder='Enter a number', style={'margin': '10px'}),\n",
    "    html.Button('Submit', id='submit-button', n_clicks=0, style={'margin': '10px'}),\n",
    "    html.Div(id='output', style={'color': 'red'})\n",
    "])\n",
    "\n",
    "@app.callback(\n",
    "    Output('output', 'children'),\n",
    "    [Input('submit-button', 'n_clicks')],\n",
    "    [State('input-1', 'value')]\n",
    ")\n",
    "def update_output(n_clicks, input_value):\n",
    "    if n_clicks > 0:\n",
    "        if input_value is None or not input_value.isdigit():\n",
    "            return 'Error: Please enter a valid number.'\n",
    "        try:\n",
    "            result = 10 / int(input_value)\n",
    "            return f'Result: {result}'\n",
    "        except ZeroDivisionError:\n",
    "            return 'Error: Division by zero is not allowed.'\n",
    "        except ValueError:\n",
    "            return 'Error: Please enter a valid integer.'\n",
    "    return ''\n",
    "\n",
    "if __name__ == '__main__':\n",
    "    app.run_server(debug=True, port = 8056)"
   ]
  },
  {
   "cell_type": "code",
   "execution_count": null,
   "id": "e1f384c1-87fd-4a41-b189-2d0f701c4976",
   "metadata": {},
   "outputs": [],
   "source": []
  }
 ],
 "metadata": {
  "kernelspec": {
   "display_name": "Python 3 (ipykernel)",
   "language": "python",
   "name": "python3"
  },
  "language_info": {
   "codemirror_mode": {
    "name": "ipython",
    "version": 3
   },
   "file_extension": ".py",
   "mimetype": "text/x-python",
   "name": "python",
   "nbconvert_exporter": "python",
   "pygments_lexer": "ipython3",
   "version": "3.12.3"
  }
 },
 "nbformat": 4,
 "nbformat_minor": 5
}
