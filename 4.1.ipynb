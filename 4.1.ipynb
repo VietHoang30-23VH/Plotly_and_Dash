{
 "cells": [
  {
   "cell_type": "markdown",
   "id": "101e69bf-318c-4368-a563-50e080989267",
   "metadata": {},
   "source": [
    "### Core Components\n",
    "\n",
    "These components are the building blocks of Dash applications and allow you to create interactive and dynamic user interfaces. We will cover some essential core components such as sliders, dropdowns, and input fields.\n",
    "\n",
    "**1. Sliders**\n",
    "\n",
    "Sliders allow users to select a value or range by sliding a handle along a track.\n",
    "\n",
    "**Example: Slider**\n",
    "\n",
    "The following code demonstrates how to create a slider in Dash."
   ]
  },
  {
   "cell_type": "code",
   "execution_count": 1,
   "id": "36c3683e-25f4-4315-8853-a5402782fad5",
   "metadata": {},
   "outputs": [],
   "source": [
    "import dash\n",
    "from dash import dcc\n",
    "from dash import html\n",
    "\n",
    "app = dash.Dash(__name__)\n",
    "\n",
    "app.layout = html.Div([\n",
    "    html.Label('Slider'),\n",
    "    dcc.Slider(\n",
    "        min=0,\n",
    "        max=10,\n",
    "        step=0.5,\n",
    "        value=5,\n",
    "        marks={i: str(i) for i in range(11)}\n",
    "    )\n",
    "])\n",
    "\n"
   ]
  },
  {
   "cell_type": "code",
   "execution_count": 2,
   "id": "6a58f7c0-ad18-49fb-99fa-1d831b5cfeca",
   "metadata": {},
   "outputs": [
    {
     "data": {
      "text/html": [
       "\n",
       "        <iframe\n",
       "            width=\"100%\"\n",
       "            height=\"650\"\n",
       "            src=\"http://127.0.0.1:8050/\"\n",
       "            frameborder=\"0\"\n",
       "            allowfullscreen\n",
       "            \n",
       "        ></iframe>\n",
       "        "
      ],
      "text/plain": [
       "<IPython.lib.display.IFrame at 0x1f3070eb1d0>"
      ]
     },
     "metadata": {},
     "output_type": "display_data"
    }
   ],
   "source": [
    "if __name__ == '__main__':\n",
    "    app.run_server(debug=True)"
   ]
  },
  {
   "cell_type": "markdown",
   "id": "3684b622-d598-4dfd-b981-994141858a6a",
   "metadata": {},
   "source": [
    "**2. Dropdowns**\n",
    "\n",
    "Dropdowns allow users to select a value from a predefined list of options. They are useful for providing a list of choices to the user.\n",
    "\n",
    "**Example: Dropdown**\n",
    "\n",
    "The following code demonstrates how to create a dropdown in Dash."
   ]
  },
  {
   "cell_type": "code",
   "execution_count": 2,
   "id": "3e76a49c-830b-4709-b001-b58cf01d60b3",
   "metadata": {},
   "outputs": [],
   "source": [
    "app.layout = html.Div([\n",
    "    html.Label('Dropdown'),\n",
    "    dcc.Dropdown(\n",
    "        options=[\n",
    "            {'label': 'Option 1', 'value': '1'},\n",
    "            {'label': 'Option 2', 'value': '2'},\n",
    "            {'label': 'Option 3', 'value': '3'}\n",
    "        ],\n",
    "        value='1'\n",
    "    )\n",
    "])"
   ]
  },
  {
   "cell_type": "code",
   "execution_count": 3,
   "id": "69d1649c-3aec-4082-86fb-d713a012c31b",
   "metadata": {},
   "outputs": [
    {
     "data": {
      "text/html": [
       "\n",
       "        <iframe\n",
       "            width=\"100%\"\n",
       "            height=\"650\"\n",
       "            src=\"http://127.0.0.1:8050/\"\n",
       "            frameborder=\"0\"\n",
       "            allowfullscreen\n",
       "            \n",
       "        ></iframe>\n",
       "        "
      ],
      "text/plain": [
       "<IPython.lib.display.IFrame at 0x2f4473cd040>"
      ]
     },
     "metadata": {},
     "output_type": "display_data"
    }
   ],
   "source": [
    "if __name__ == '__main__':\n",
    "    app.run_server(debug=True)"
   ]
  },
  {
   "cell_type": "markdown",
   "id": "cf038088-4790-4396-ae68-450aec57b76b",
   "metadata": {},
   "source": [
    "**3. Input Fields**\n",
    "\n",
    "Input fields allow users to enter data directly into the application. They can be used for various types of input, such as text, numbers, or passwords.\n",
    "\n",
    "**Example: Input Field**\n",
    "\n",
    "The following code demonstrates how to create an input field in Dash."
   ]
  },
  {
   "cell_type": "code",
   "execution_count": 4,
   "id": "41f80b0e-4b25-4958-8582-7bb9e51c8d6f",
   "metadata": {},
   "outputs": [
    {
     "data": {
      "text/html": [
       "\n",
       "        <iframe\n",
       "            width=\"100%\"\n",
       "            height=\"650\"\n",
       "            src=\"http://127.0.0.1:8050/\"\n",
       "            frameborder=\"0\"\n",
       "            allowfullscreen\n",
       "            \n",
       "        ></iframe>\n",
       "        "
      ],
      "text/plain": [
       "<IPython.lib.display.IFrame at 0x2f447b9e270>"
      ]
     },
     "metadata": {},
     "output_type": "display_data"
    }
   ],
   "source": [
    "import dash\n",
    "from dash import dcc\n",
    "from dash import html\n",
    "\n",
    "app = dash.Dash(__name__)\n",
    "\n",
    "\n",
    "app.layout = html.Div([\n",
    "    html.Label('Input Field'),\n",
    "    dcc.Input(\n",
    "        type='text',\n",
    "        value='Default text'\n",
    "    )\n",
    "])\n",
    "if __name__ == '__main__':\n",
    "    app.run_server(debug=True)"
   ]
  },
  {
   "cell_type": "code",
   "execution_count": null,
   "id": "219db066-085a-4791-904d-6902c6a38d3d",
   "metadata": {},
   "outputs": [],
   "source": []
  },
  {
   "cell_type": "code",
   "execution_count": null,
   "id": "ec545a96-663e-4c8e-8d34-0adbb1ee1179",
   "metadata": {},
   "outputs": [],
   "source": []
  }
 ],
 "metadata": {
  "kernelspec": {
   "display_name": "Python 3 (ipykernel)",
   "language": "python",
   "name": "python3"
  },
  "language_info": {
   "codemirror_mode": {
    "name": "ipython",
    "version": 3
   },
   "file_extension": ".py",
   "mimetype": "text/x-python",
   "name": "python",
   "nbconvert_exporter": "python",
   "pygments_lexer": "ipython3",
   "version": "3.12.3"
  }
 },
 "nbformat": 4,
 "nbformat_minor": 5
}
