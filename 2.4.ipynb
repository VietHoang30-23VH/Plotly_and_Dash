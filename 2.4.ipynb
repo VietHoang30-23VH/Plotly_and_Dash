{
 "cells": [
  {
   "cell_type": "markdown",
   "id": "fd1eb4c8-4e3e-4dae-9fa3-00ee1156ba23",
   "metadata": {},
   "source": [
    " **Deploying Dashboards Locally**\n",
    "\n",
    "1. Setting Up the Environment\n",
    "\n",
    "Before deploying your Dash application locally, ensure you have the necessary environment set up. \n",
    "This includes having Python and required libraries installed.\n",
    "\n",
    "Installing Dash and Required Libraries\n",
    "\n",
    "First, install Dash and other required libraries if you haven't already:"
   ]
  },
  {
   "cell_type": "code",
   "execution_count": 1,
   "id": "816c9e3b-3bf7-4152-af06-4d63361568e3",
   "metadata": {},
   "outputs": [
    {
     "name": "stdout",
     "output_type": "stream",
     "text": [
      "Requirement already satisfied: dash in e:\\5g_dashboard\\mydashenv\\lib\\site-packages (2.17.1)\n",
      "Requirement already satisfied: dash-core-components in e:\\5g_dashboard\\mydashenv\\lib\\site-packages (2.0.0)\n",
      "Requirement already satisfied: dash-html-components in e:\\5g_dashboard\\mydashenv\\lib\\site-packages (2.0.0)\n",
      "Requirement already satisfied: plotly in e:\\5g_dashboard\\mydashenv\\lib\\site-packages (5.22.0)\n",
      "Requirement already satisfied: Flask<3.1,>=1.0.4 in e:\\5g_dashboard\\mydashenv\\lib\\site-packages (from dash) (3.0.3)\n",
      "Requirement already satisfied: Werkzeug<3.1 in e:\\5g_dashboard\\mydashenv\\lib\\site-packages (from dash) (3.0.6)\n",
      "Requirement already satisfied: dash-table==5.0.0 in e:\\5g_dashboard\\mydashenv\\lib\\site-packages (from dash) (5.0.0)\n",
      "Requirement already satisfied: importlib-metadata in e:\\5g_dashboard\\mydashenv\\lib\\site-packages (from dash) (8.7.0)\n",
      "Requirement already satisfied: typing-extensions>=4.1.1 in e:\\5g_dashboard\\mydashenv\\lib\\site-packages (from dash) (4.13.2)\n",
      "Requirement already satisfied: requests in e:\\5g_dashboard\\mydashenv\\lib\\site-packages (from dash) (2.32.3)\n",
      "Requirement already satisfied: retrying in e:\\5g_dashboard\\mydashenv\\lib\\site-packages (from dash) (1.3.4)\n",
      "Requirement already satisfied: nest-asyncio in e:\\5g_dashboard\\mydashenv\\lib\\site-packages (from dash) (1.6.0)\n",
      "Requirement already satisfied: setuptools in e:\\5g_dashboard\\mydashenv\\lib\\site-packages (from dash) (80.4.0)\n",
      "Requirement already satisfied: tenacity>=6.2.0 in e:\\5g_dashboard\\mydashenv\\lib\\site-packages (from plotly) (9.1.2)\n",
      "Requirement already satisfied: packaging in e:\\5g_dashboard\\mydashenv\\lib\\site-packages (from plotly) (25.0)\n",
      "Requirement already satisfied: Jinja2>=3.1.2 in e:\\5g_dashboard\\mydashenv\\lib\\site-packages (from Flask<3.1,>=1.0.4->dash) (3.1.6)\n",
      "Requirement already satisfied: itsdangerous>=2.1.2 in e:\\5g_dashboard\\mydashenv\\lib\\site-packages (from Flask<3.1,>=1.0.4->dash) (2.2.0)\n",
      "Requirement already satisfied: click>=8.1.3 in e:\\5g_dashboard\\mydashenv\\lib\\site-packages (from Flask<3.1,>=1.0.4->dash) (8.2.0)\n",
      "Requirement already satisfied: blinker>=1.6.2 in e:\\5g_dashboard\\mydashenv\\lib\\site-packages (from Flask<3.1,>=1.0.4->dash) (1.9.0)\n",
      "Requirement already satisfied: MarkupSafe>=2.1.1 in e:\\5g_dashboard\\mydashenv\\lib\\site-packages (from Werkzeug<3.1->dash) (3.0.2)\n",
      "Requirement already satisfied: zipp>=3.20 in e:\\5g_dashboard\\mydashenv\\lib\\site-packages (from importlib-metadata->dash) (3.21.0)\n",
      "Requirement already satisfied: charset-normalizer<4,>=2 in e:\\5g_dashboard\\mydashenv\\lib\\site-packages (from requests->dash) (3.4.2)\n",
      "Requirement already satisfied: idna<4,>=2.5 in e:\\5g_dashboard\\mydashenv\\lib\\site-packages (from requests->dash) (3.10)\n",
      "Requirement already satisfied: urllib3<3,>=1.21.1 in e:\\5g_dashboard\\mydashenv\\lib\\site-packages (from requests->dash) (2.4.0)\n",
      "Requirement already satisfied: certifi>=2017.4.17 in e:\\5g_dashboard\\mydashenv\\lib\\site-packages (from requests->dash) (2025.4.26)\n",
      "Requirement already satisfied: six>=1.7.0 in e:\\5g_dashboard\\mydashenv\\lib\\site-packages (from retrying->dash) (1.17.0)\n",
      "Requirement already satisfied: colorama in e:\\5g_dashboard\\mydashenv\\lib\\site-packages (from click>=8.1.3->Flask<3.1,>=1.0.4->dash) (0.4.6)\n"
     ]
    },
    {
     "name": "stderr",
     "output_type": "stream",
     "text": [
      "\n",
      "[notice] A new release of pip is available: 24.0 -> 25.1.1\n",
      "[notice] To update, run: python.exe -m pip install --upgrade pip\n"
     ]
    }
   ],
   "source": [
    "!pip install dash dash-core-components dash-html-components plotly"
   ]
  },
  {
   "cell_type": "markdown",
   "id": "8169a361-5602-44b3-a72a-889aee15ec87",
   "metadata": {},
   "source": [
    "2. Running Your Dash Application\n",
    "\n",
    "To deploy your Dash dashboard locally, you need to run the Python script that contains your Dash application code. \n",
    "Here's a step-by-step guide:\n",
    "\n",
    "Example Dash Application"
   ]
  },
  {
   "cell_type": "code",
   "execution_count": 2,
   "id": "a6b6281f-ae26-4b7a-84c3-c3bc70e72449",
   "metadata": {},
   "outputs": [],
   "source": [
    "import dash\n",
    "from dash import dcc\n",
    "from dash import html\n",
    "from dash.dependencies import Input, Output\n",
    "import plotly.graph_objs as go\n",
    "\n",
    "app = dash.Dash(__name__)\n",
    "\n",
    "# Define the layout using html.Div with additional styles\n",
    "app.layout = html.Div(className='container', children=[\n",
    "    html.H1('My Interactive Dashboard', style={'textAlign': 'center', 'color': '#0074D9'}),\n",
    "    html.Div('Welcome to my interactive Dash dashboard.', className='center-text', style={'fontSize': '20px'}),\n",
    "    html.Div([\n",
    "        html.Label('Dropdown:', className='bold-label'),\n",
    "        dcc.Dropdown(\n",
    "            id='my-dropdown',\n",
    "            options=[\n",
    "                {'label': 'Option 1', 'value': 'opt1'},\n",
    "                {'label': 'Option 2', 'value': 'opt2'}\n",
    "            ],\n",
    "            value='opt1',  # Default value\n",
    "            style={'marginBottom': '20px'}\n",
    "        )\n",
    "    ]),\n",
    "    html.Div(id='output-div', className='center-text', style={'fontSize': '20px'}),\n",
    "    html.Div([\n",
    "        html.Label('Graph:', className='bold-label'),\n",
    "         dcc.Graph(id='example-graph')\n",
    "    ], style={'marginTop': '20px'})\n",
    "])"
   ]
  },
  {
   "cell_type": "code",
   "execution_count": 3,
   "id": "74c4ef91-913d-410e-be6b-6c70e929192d",
   "metadata": {},
   "outputs": [],
   "source": [
    "# Define the callback to update the output text\n",
    "@app.callback(\n",
    "    Output('output-div', 'children'),\n",
    "    [Input('my-dropdown', 'value')]\n",
    ")\n",
    "def update_output_div(selected_value):\n",
    "    return f'You have selected {selected_value}'\n",
    "\n",
    "# Define the callback to update the graph\n",
    "@app.callback(\n",
    "    Output('example-graph', 'figure'),\n",
    "    [Input('my-dropdown', 'value')]\n",
    ")\n",
    "def update_graph(selected_value):\n",
    "    if selected_value == 'opt1':\n",
    "        data = [\n",
    "            go.Bar(x=[1, 2, 3], y=[4, 1, 2], name='Option 1 Data')\n",
    "        ]\n",
    "    else:\n",
    "        data = [\n",
    "            go.Bar(x=[1, 2, 3], y=[2, 4, 5], name='Option 2 Data')\n",
    "        ]\n",
    "    \n",
    "    return {\n",
    "        'data': data,\n",
    "        'layout': go.Layout(title='Example Graph')\n",
    "    }"
   ]
  },
  {
   "cell_type": "code",
   "execution_count": 5,
   "id": "b4e7ffca-396c-4a49-a292-2c85b2a6f9fc",
   "metadata": {},
   "outputs": [
    {
     "data": {
      "text/html": [
       "\n",
       "        <iframe\n",
       "            width=\"100%\"\n",
       "            height=\"650\"\n",
       "            src=\"http://127.0.0.1:8053/\"\n",
       "            frameborder=\"0\"\n",
       "            allowfullscreen\n",
       "            \n",
       "        ></iframe>\n",
       "        "
      ],
      "text/plain": [
       "<IPython.lib.display.IFrame at 0x1c9380f9310>"
      ]
     },
     "metadata": {},
     "output_type": "display_data"
    }
   ],
   "source": [
    "if __name__ == '__main__':\n",
    "    app.run_server(debug=True, port = 8053)"
   ]
  },
  {
   "cell_type": "markdown",
   "id": "13c865ff-8dd3-41e6-8f23-aa768fda7248",
   "metadata": {},
   "source": [
    "Running the Application\n",
    "\n",
    "1. Save the above code in a Python file, for example, `app.py`.\n",
    "2. Open your terminal or command prompt.\n",
    "3. Navigate to the directory where `app.py` is located.\n",
    "4. Run the following command:\n",
    "\n",
    "```bash\n",
    "python app.py\n",
    "```\n",
    "\n",
    "3. Accessing Your Dashboard Locally\n",
    "\n",
    "After running the command, you should see output indicating that the server is running. The output will look something like this:\n",
    "\n",
    "```plaintext\n",
    " * Serving Flask app \"app\" (lazy loading)\n",
    " * Environment: production\n",
    " * Debug mode: on\n",
    " * Running on http://127.0.0.1:8050/ (Press CTRL+C to quit)\n",
    "```\n",
    "\n",
    "Open your web browser and navigate to `http://127.0.0.1:8052/`. You should see your interactive Dash dashboard running locally.\n"
   ]
  },
  {
   "cell_type": "code",
   "execution_count": null,
   "id": "c8f56ce9-5174-4363-958e-49fd13c07451",
   "metadata": {},
   "outputs": [],
   "source": []
  }
 ],
 "metadata": {
  "kernelspec": {
   "display_name": "Python 3 (ipykernel)",
   "language": "python",
   "name": "python3"
  },
  "language_info": {
   "codemirror_mode": {
    "name": "ipython",
    "version": 3
   },
   "file_extension": ".py",
   "mimetype": "text/x-python",
   "name": "python",
   "nbconvert_exporter": "python",
   "pygments_lexer": "ipython3",
   "version": "3.12.3"
  }
 },
 "nbformat": 4,
 "nbformat_minor": 5
}
