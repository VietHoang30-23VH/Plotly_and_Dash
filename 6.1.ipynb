{
 "cells": [
  {
   "cell_type": "markdown",
   "id": "13f07502-7a0a-4e6b-86b3-9d698004d248",
   "metadata": {},
   "source": [
    "## Form Handling\n",
    "\n",
    "Form handling is a crucial aspect of web applications as it allows users to input and submit data. Proper form handling enhances user interaction and ensures data integrity.\n",
    "\n",
    "**1.1 Importance of Form Handling**\n",
    "\n",
    "- **User Interaction**: Forms are the primary way users interact with web applications, whether for submitting feedback, registering for services, or entering data.\n",
    "- **Data Collection**: Forms enable the collection of structured data from users, which can be processed and stored for various purposes.\n",
    "- **Validation and Feedback**: Proper form handling includes validating user inputs and providing real-time feedback to guide users.\n",
    "\n",
    "**1.2 Types of Forms**\n",
    "\n",
    "- **Login/Registration Forms**: Collect user credentials for authentication and authorization.\n",
    "- **Search Forms**: Allow users to input search queries and filter results.\n",
    "- **Feedback/Contact Forms**: Gather user feedback or inquiries.\n",
    "\n",
    "**1.3 Best Practices in Form Handling**\n",
    "\n",
    "- **Validation**: Ensure all inputs are validated both on the client-side (for user convenience) and server-side (for security).\n",
    "- **User Feedback**: Provide clear and immediate feedback for errors or successful submissions.\n",
    "- **Security**: Protect against common vulnerabilities like SQL injection and cross-site scripting (XSS).\n",
    "\n",
    "**Example**: Using Dash to create a simple form."
   ]
  },
  {
   "cell_type": "code",
   "execution_count": 1,
   "id": "4490ab39-8c1f-4103-a902-f1e0ede471cc",
   "metadata": {},
   "outputs": [],
   "source": [
    "import dash\n",
    "from dash import dcc, html\n",
    "from dash.dependencies import Input, Output, State"
   ]
  },
  {
   "cell_type": "code",
   "execution_count": 2,
   "id": "2fe1df4b-0e08-44fd-b732-28f737449aca",
   "metadata": {},
   "outputs": [],
   "source": [
    "app = dash.Dash(__name__)"
   ]
  },
  {
   "cell_type": "code",
   "execution_count": 3,
   "id": "7db5bd32-31e7-4fd1-9523-0f83e102723e",
   "metadata": {},
   "outputs": [],
   "source": [
    "app.layout = html.Div([\n",
    "    html.H1('Form Handling Example'),\n",
    "    dcc.Input(id='input-1', type='text', placeholder='Enter your name', style={'margin': '10px'}),\n",
    "    dcc.Input(id='input-2', type='number', placeholder='Enter your age', style={'margin': '10px'}),\n",
    "    html.Button('Submit', id='submit-button', n_clicks=0),\n",
    "    html.Div(id='output')\n",
    "])\n",
    "\n",
    "@app.callback(\n",
    "    Output('output', 'children'),\n",
    "    [Input('submit-button', 'n_clicks')],\n",
    "    [State('input-1', 'value'), State('input-2', 'value')]\n",
    ")\n",
    "def update_output(n_clicks, input1, input2):\n",
    "    if n_clicks > 0:\n",
    "        if input1 and input2:\n",
    "            return f'Hello {input1}, you are {input2} years old.'\n",
    "        else:\n",
    "            return 'Please enter both name and age.'"
   ]
  },
  {
   "cell_type": "code",
   "execution_count": 4,
   "id": "a28d2ed8-b38e-4ce2-86be-7ca50012dd41",
   "metadata": {},
   "outputs": [
    {
     "data": {
      "text/html": [
       "\n",
       "        <iframe\n",
       "            width=\"100%\"\n",
       "            height=\"650\"\n",
       "            src=\"http://127.0.0.1:8053/\"\n",
       "            frameborder=\"0\"\n",
       "            allowfullscreen\n",
       "            \n",
       "        ></iframe>\n",
       "        "
      ],
      "text/plain": [
       "<IPython.lib.display.IFrame at 0x26cf8fb5970>"
      ]
     },
     "metadata": {},
     "output_type": "display_data"
    }
   ],
   "source": [
    "if __name__ == '__main__':\n",
    "    app.run_server(debug=True, port = 8053)"
   ]
  },
  {
   "cell_type": "code",
   "execution_count": null,
   "id": "ea942cd1-aae2-4dce-ab42-ac5bc5f2577c",
   "metadata": {},
   "outputs": [],
   "source": []
  }
 ],
 "metadata": {
  "kernelspec": {
   "display_name": "Python 3 (ipykernel)",
   "language": "python",
   "name": "python3"
  },
  "language_info": {
   "codemirror_mode": {
    "name": "ipython",
    "version": 3
   },
   "file_extension": ".py",
   "mimetype": "text/x-python",
   "name": "python",
   "nbconvert_exporter": "python",
   "pygments_lexer": "ipython3",
   "version": "3.12.3"
  }
 },
 "nbformat": 4,
 "nbformat_minor": 5
}
