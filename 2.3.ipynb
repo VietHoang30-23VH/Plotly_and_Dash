{
 "cells": [
  {
   "cell_type": "markdown",
   "id": "95c3e4b7-924c-49dd-b064-c2efc2bdf32e",
   "metadata": {},
   "source": [
    "**Styling Dashboards**\n",
    "\n",
    "1. Basic CSS Styling\n",
    "   \n",
    "Dash allows you to apply custom CSS to style your dashboards. You can use inline styles or link to external CSS stylesheets.\n",
    "\n",
    "Example: Inline CSS Styling\n"
   ]
  },
  {
   "cell_type": "code",
   "execution_count": 3,
   "id": "85e7d9ec-0443-4e53-8e88-027b8d412aca",
   "metadata": {},
   "outputs": [],
   "source": [
    "import dash\n",
    "from dash import html\n",
    "from dash import dcc\n",
    "from dash.dependencies import Input, Output\n",
    "import plotly.graph_objs as go"
   ]
  },
  {
   "cell_type": "code",
   "execution_count": 4,
   "id": "c6ab5245-4080-4181-87df-28317edd0ef9",
   "metadata": {},
   "outputs": [],
   "source": [
    "app = dash.Dash(__name__)"
   ]
  },
  {
   "cell_type": "code",
   "execution_count": 5,
   "id": "86d9d4fd-0f08-4722-8eb3-b5f1805d17c4",
   "metadata": {},
   "outputs": [],
   "source": [
    "app.layout = html.Div([\n",
    "    html.H1('My Interactive Dashboard', style={'textAlign': 'center', 'color': '#0074D9'}),  # Centered heading with custom color\n",
    "    html.Div('Welcome to my interactive Dash dashboard.', style={'textAlign': 'center', 'marginBottom': '20px'}),  # Centered text with margin\n",
    "    html.Div([\n",
    "        html.Label('Dropdown:', style={'fontWeight': 'bold'}),\n",
    "        dcc.Dropdown(\n",
    "            id='my-dropdown',\n",
    "            options=[\n",
    "                {'label': 'Option 1', 'value': 'opt1'},\n",
    "                {'label': 'Option 2', 'value': 'opt2'}\n",
    "            ],\n",
    "            value='opt1'  # Default value\n",
    "        )\n",
    "    ], style={'width': '50%', 'margin': '0 auto'}),  # Centered dropdown\n",
    "    html.Div(id='output-div', style={'textAlign': 'center', 'marginTop': '20px'}),  # Centered output text\n",
    "    html.Div([\n",
    "        html.Label('Graph:', style={'fontWeight': 'bold'}),\n",
    "        dcc.Graph(id='example-graph')  # Graph component\n",
    "    ], style={'width': '80%', 'margin': '0 auto'})  # Centered graph\n",
    "])"
   ]
  },
  {
   "cell_type": "code",
   "execution_count": 8,
   "id": "30159cf7-a60d-4abe-a349-c952f94d4806",
   "metadata": {},
   "outputs": [
    {
     "data": {
      "text/html": [
       "\n",
       "        <iframe\n",
       "            width=\"100%\"\n",
       "            height=\"650\"\n",
       "            src=\"http://127.0.0.1:8052/\"\n",
       "            frameborder=\"0\"\n",
       "            allowfullscreen\n",
       "            \n",
       "        ></iframe>\n",
       "        "
      ],
      "text/plain": [
       "<IPython.lib.display.IFrame at 0x16c1ef3fad0>"
      ]
     },
     "metadata": {},
     "output_type": "display_data"
    }
   ],
   "source": [
    "# Define the callback to update the output text\n",
    "@app.callback(\n",
    "    Output('output-div', 'children'),\n",
    "    [Input('my-dropdown', 'value')]\n",
    ")\n",
    "def update_output_div(selected_value):\n",
    "    return f'You have selected {selected_value}'\n",
    "\n",
    "# Define the callback to update the graph\n",
    "@app.callback(\n",
    "    Output('example-graph', 'figure'),\n",
    "    [Input('my-dropdown', 'value')]\n",
    ")\n",
    "def update_graph(selected_value):\n",
    "    if selected_value == 'opt1':\n",
    "        data = [\n",
    "            go.Bar(x=[1, 2, 3], y=[4, 1, 2], name='Option 1 Data')\n",
    "        ]\n",
    "    else:\n",
    "        data = [\n",
    "            go.Bar(x=[1, 2, 3], y=[2, 4, 5], name='Option 2 Data')\n",
    "        ]\n",
    "    \n",
    "    return {\n",
    "        'data': data,\n",
    "        'layout': go.Layout(title='Example Graph')\n",
    "    }\n",
    "    \n",
    "if __name__ == '__main__':\n",
    "    app.run_server(debug=True, port=8052)"
   ]
  },
  {
   "cell_type": "code",
   "execution_count": null,
   "id": "f113cbba-d5f8-4c41-8e22-a0f4beb72ec0",
   "metadata": {},
   "outputs": [],
   "source": []
  },
  {
   "cell_type": "markdown",
   "id": "18a39626-5c78-4d0c-aa25-ee29001c207b",
   "metadata": {},
   "source": [
    "2. Using External Stylesheets\n",
    "\n",
    "You can also use external CSS stylesheets for more comprehensive styling. This allows you to separate your styling from your Dash code and reuse styles across multiple dashboards.\n",
    "\n",
    "Example: Using an External CSS Stylesheet\n"
   ]
  },
  {
   "cell_type": "markdown",
   "id": "1bac4d0b-9eb3-4773-aecc-12edc1ca0f01",
   "metadata": {},
   "source": [
    "1. Create a CSS file named `style.css`:\n",
    "\n",
    "```css\n",
    "/* style.css */\n",
    "body {\n",
    "    background-color: #f8f9fa;\n",
    "}\n",
    "\n",
    "h1 {\n",
    "    text-align: center;\n",
    "    color: #0074D9;\n",
    "}\n",
    "\n",
    ".container {\n",
    "    width: 80%;\n",
    "    margin: 0 auto;\n",
    "}\n",
    "\n",
    ".bold-label {\n",
    "    font-weight: bold;\n",
    "}\n",
    "\n",
    ".center-text {\n",
    "    text-align: center;\n",
    "    margin-bottom: 20px;\n",
    "    margin-top: 20px;\n",
    "}\n"
   ]
  },
  {
   "cell_type": "markdown",
   "id": "35387657-0a94-49fb-b64e-813002f5030f",
   "metadata": {},
   "source": [
    "2. Link the external CSS file in your Dash app:"
   ]
  },
  {
   "cell_type": "code",
   "execution_count": 9,
   "id": "a59e5731-ed87-497a-84db-f77388a975d7",
   "metadata": {},
   "outputs": [],
   "source": [
    "import dash\n",
    "from dash import dcc\n",
    "from dash import html\n",
    "from dash.dependencies import Input, Output\n",
    "import plotly.graph_objs as go\n",
    "\n",
    "#app = dash.Dash(__name__)\n",
    "\n",
    "# Link to the external CSS file\n",
    "#app.css.append_css({\"external_url\": \"style.css\"})\n",
    "external_stylesheets = ['style.css']\n",
    "\n",
    "app = dash.Dash(__name__, external_stylesheets=external_stylesheets)\n",
    "\n",
    "# Define the layout using html.Div\n",
    "app.layout = html.Div(className='container', children=[\n",
    "    html.H1('My Interactive Dashboard'),\n",
    "    html.Div('Welcome to my interactive Dash dashboard.', className='center-text'),\n",
    "    html.Div([\n",
    "        html.Label('Dropdown:', className='bold-label'),\n",
    "        dcc.Dropdown(\n",
    "            id='my-dropdown',\n",
    "            options=[\n",
    "                {'label': 'Option 1', 'value': 'opt1'},\n",
    "                {'label': 'Option 2', 'value': 'opt2'}\n",
    "            ],\n",
    "            value='opt1'  # Default value\n",
    "        )\n",
    "    ]),\n",
    "    html.Div(id='output-div', className='center-text'),\n",
    "    html.Div([\n",
    "        html.Label('Graph:', className='bold-label'),\n",
    "        dcc.Graph(id='example-graph')\n",
    "    ])\n",
    "])"
   ]
  },
  {
   "cell_type": "code",
   "execution_count": 10,
   "id": "9b66c4ec-8113-4fec-8c33-5c5c8dc1067c",
   "metadata": {},
   "outputs": [],
   "source": [
    "# Define the callback to update the output text\n",
    "@app.callback(\n",
    "    Output('output-div', 'children'),\n",
    "    [Input('my-dropdown', 'value')]\n",
    ")\n",
    "def update_output_div(selected_value):\n",
    "    return f'You have selected {selected_value}'\n",
    "\n",
    "# Define the callback to update the graph\n",
    "@app.callback(\n",
    "    Output('example-graph', 'figure'),\n",
    "    [Input('my-dropdown', 'value')]\n",
    ")\n",
    "def update_graph(selected_value):\n",
    "    if selected_value == 'opt1':\n",
    "        data = [\n",
    "            go.Bar(x=[1, 2, 3], y=[4, 1, 2], name='Option 1 Data')\n",
    "        ]\n",
    "    else:\n",
    "        data = [\n",
    "            go.Bar(x=[1, 2, 3], y=[2, 4, 5], name='Option 2 Data')\n",
    "        ]\n",
    "    \n",
    "    return {\n",
    "        'data': data,\n",
    "        'layout': go.Layout(title='Example Graph')\n",
    "    }"
   ]
  },
  {
   "cell_type": "code",
   "execution_count": 12,
   "id": "d1e8f5a3-0fc8-47bb-a896-3d6e98bbe27e",
   "metadata": {},
   "outputs": [
    {
     "data": {
      "text/html": [
       "\n",
       "        <iframe\n",
       "            width=\"100%\"\n",
       "            height=\"650\"\n",
       "            src=\"http://127.0.0.1:8052/\"\n",
       "            frameborder=\"0\"\n",
       "            allowfullscreen\n",
       "            \n",
       "        ></iframe>\n",
       "        "
      ],
      "text/plain": [
       "<IPython.lib.display.IFrame at 0x16c20bf5a30>"
      ]
     },
     "metadata": {},
     "output_type": "display_data"
    }
   ],
   "source": [
    "if __name__ == '__main__':\n",
    "    app.run_server(debug=True,port=8052)"
   ]
  },
  {
   "cell_type": "markdown",
   "id": "58d9d5f3-152c-476a-9fe8-2d174d991e04",
   "metadata": {},
   "source": [
    "3. Leveraging Built-in Dash Components for Styling\n",
    "\n",
    "   Dash components come with built-in properties for styling, such as `style` and `className`. You can combine these with external stylesheets for more advanced styling.\n",
    "\n",
    "Example: Styling with Dash Properties"
   ]
  },
  {
   "cell_type": "code",
   "execution_count": 13,
   "id": "9a1cbdbe-45db-40e5-b570-267b351c00db",
   "metadata": {},
   "outputs": [],
   "source": [
    "import dash\n",
    "from dash import dcc\n",
    "from dash import html\n",
    "from dash.dependencies import Input, Output\n",
    "import plotly.graph_objs as go\n",
    "\n",
    "external_stylesheets = ['style.css']\n",
    "\n",
    "app = dash.Dash(__name__, external_stylesheets=external_stylesheets)\n",
    "\n",
    "# Define the layout using html.Div with additional styles\n",
    "app.layout = html.Div(className='container', children=[\n",
    "    html.H1('My Interactive Dashboard', style={'textAlign': 'center', 'color': '#0074D9'}),\n",
    "    html.Div('Welcome to my interactive Dash dashboard.', className='center-text', style={'fontSize': '20px'}),\n",
    "    html.Div([\n",
    "        html.Label('Dropdown:', className='bold-label'),\n",
    "        dcc.Dropdown(\n",
    "            id='my-dropdown',\n",
    "            options=[\n",
    "                {'label': 'Option 1', 'value': 'opt1'},\n",
    "                {'label': 'Option 2', 'value': 'opt2'}\n",
    "            ],\n",
    "            value='opt1',  # Default value\n",
    "            style={'marginBottom': '20px'}\n",
    "        )\n",
    "    ]),\n",
    "    html.Div(id='output-div', className='center-text', style={'fontSize': '20px'}),\n",
    "    html.Div([\n",
    "        html.Label('Graph:', className='bold-label'),\n",
    "        dcc.Graph(id='example-graph')\n",
    "    ], style={'marginTop': '20px'})\n",
    "])\n",
    "\n"
   ]
  },
  {
   "cell_type": "code",
   "execution_count": 14,
   "id": "856e73a5-ad59-4201-abc9-4146beba5b01",
   "metadata": {},
   "outputs": [],
   "source": [
    "@app.callback(\n",
    "    Output('example-graph', 'figure'),\n",
    "    [Input('my-dropdown', 'value')]\n",
    ")\n",
    "def update_graph(selected_value):\n",
    "    if selected_value == 'opt1':\n",
    "        data = [\n",
    "            go.Bar(x=[1, 2, 3], y=[4, 1, 2], name='Option 1 Data')\n",
    "        ]\n",
    "    else:\n",
    "        data = [\n",
    "            go.Bar(x=[1, 2, 3], y=[2, 4, 5], name='Option 2 Data')\n",
    "        ]\n",
    "    \n",
    "    return {\n",
    "        'data': data,\n",
    "        'layout': go.Layout(title='Example Graph')\n",
    "    }"
   ]
  },
  {
   "cell_type": "code",
   "execution_count": 15,
   "id": "01037e0f-302f-4756-8a82-6e56cd631515",
   "metadata": {},
   "outputs": [
    {
     "data": {
      "text/html": [
       "\n",
       "        <iframe\n",
       "            width=\"100%\"\n",
       "            height=\"650\"\n",
       "            src=\"http://127.0.0.1:8052/\"\n",
       "            frameborder=\"0\"\n",
       "            allowfullscreen\n",
       "            \n",
       "        ></iframe>\n",
       "        "
      ],
      "text/plain": [
       "<IPython.lib.display.IFrame at 0x16c20c6fa40>"
      ]
     },
     "metadata": {},
     "output_type": "display_data"
    }
   ],
   "source": [
    "if __name__ == '__main__':\n",
    "    app.run_server(debug=True, port = 8052)"
   ]
  },
  {
   "cell_type": "code",
   "execution_count": null,
   "id": "51ec9031-fa5b-4b2b-8147-f0c2de8e137e",
   "metadata": {},
   "outputs": [],
   "source": []
  }
 ],
 "metadata": {
  "kernelspec": {
   "display_name": "Python 3 (ipykernel)",
   "language": "python",
   "name": "python3"
  },
  "language_info": {
   "codemirror_mode": {
    "name": "ipython",
    "version": 3
   },
   "file_extension": ".py",
   "mimetype": "text/x-python",
   "name": "python",
   "nbconvert_exporter": "python",
   "pygments_lexer": "ipython3",
   "version": "3.12.3"
  }
 },
 "nbformat": 4,
 "nbformat_minor": 5
}
