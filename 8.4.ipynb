{
 "cells": [
  {
   "cell_type": "markdown",
   "id": "e32e17de-69fd-42b1-b81c-4c18b4a6894c",
   "metadata": {},
   "source": [
    "## 4. Ensuring Accessibility\n",
    "\n",
    "Ensuring accessibility means making your Dash application usable for people with disabilities. This includes providing alternative text for images, ensuring keyboard navigation, and using ARIA (Accessible Rich Internet Applications) attributes to improve accessibility. Accessibility is crucial for creating inclusive applications. Techniques include using semantic HTML tags, ensuring sufficient color contrast, enabling keyboard navigation, and using ARIA roles and properties. Accessible applications not only comply with legal standards but also reach a broader audience.\n",
    "\n",
    "**Techniques:**\n",
    "1. **Semantic HTML:** Use proper HTML tags to ensure the content is understandable.\n",
    "2. **Color Contrast:** Ensure that text and background colors have sufficient contrast.\n",
    "3. **Keyboard Navigation:** Make sure all interactive elements can be accessed via keyboard.\n",
    "4. **ARIA Attributes:** Use ARIA roles, properties, and states to improve accessibility.\n",
    "\n",
    "**Example:** Using ARIA attributes\n"
   ]
  },
  {
   "cell_type": "markdown",
   "id": "1351ce63-5a8c-401a-84bf-580a540d3c86",
   "metadata": {},
   "source": [
    "### ARIA (Accessible Rich Internet Applications)\n",
    "\n",
    "ARIA is a set of attributes that define ways to make web content and web applications (especially those built with dynamic content and advanced user interface controls developed with HTML, JavaScript, and related technologies) more accessible to people with disabilities.\n",
    "\n",
    "#### Key ARIA Concepts\n",
    "\n",
    "1. **Roles:**\n",
    "   - Define the type of element (e.g., `button`, `heading`, `region`). They help assistive technologies understand the purpose of the element.\n",
    "\n",
    "2. **Properties:**\n",
    "   - Provide additional information about the elements. For example, `aria_label` provides a text label for an element, `aria_level` indicates the level of a heading, and `aria_live` specifies how updates to a region should be announced by assistive technologies.\n",
    "\n",
    "3. **States:**\n",
    "   - Indicate the current state of an element. For example, `aria-checked` can be used to indicate whether a checkbox is checked, and `aria-expanded` can indicate whether a collapsible section is expanded."
   ]
  },
  {
   "cell_type": "code",
   "execution_count": 1,
   "id": "57d59a04-ae85-467f-a530-c1b81a37de3b",
   "metadata": {},
   "outputs": [
    {
     "data": {
      "text/html": [
       "\n",
       "        <iframe\n",
       "            width=\"100%\"\n",
       "            height=\"650\"\n",
       "            src=\"http://127.0.0.1:8051/\"\n",
       "            frameborder=\"0\"\n",
       "            allowfullscreen\n",
       "            \n",
       "        ></iframe>\n",
       "        "
      ],
      "text/plain": [
       "<IPython.lib.display.IFrame at 0x1ce49096600>"
      ]
     },
     "metadata": {},
     "output_type": "display_data"
    }
   ],
   "source": [
    "import dash\n",
    "from dash import dcc, html\n",
    "from dash.dependencies import Input, Output\n",
    "\n",
    "app = dash.Dash(__name__)\n",
    "\n",
    "app.layout = html.Div([\n",
    "    html.H1(\"Accessible Dashboard\", className='text-center mt-5', role='heading', **{'aria-level': '1'}),\n",
    "    html.Button('Click Me', id='button', className='btn btn-primary', role='button', **{'aria-label': 'Click Me Button'}),\n",
    "    html.Div(id='output-div', role='region', **{'aria-live': 'polite'})\n",
    "])\n",
    "\n",
    "@app.callback(\n",
    "    Output('output-div', 'children'),\n",
    "    [Input('button', 'n_clicks')]\n",
    ")\n",
    "def update_output(n):\n",
    "    if n:\n",
    "        return 'Button clicked!'\n",
    "    return 'Click the button'\n",
    "\n",
    "if __name__ == '__main__':\n",
    "    app.run_server(debug=True, port=8051)\n"
   ]
  },
  {
   "cell_type": "markdown",
   "id": "19bbcf75-7f63-4553-8b97-db55431d7616",
   "metadata": {},
   "source": [
    "In this example, ARIA attributes are used to improve accessibility. The heading has a `role` attribute, the button has an `aria_label`, \n",
    "and the output div has `role` and `aria_live` attributes.\n",
    "\n",
    "**Heading (`html.H1`):**\n",
    "\n",
    "     - `role='heading'`: Defines the role of the element as a heading, making it recognizable to assistive technologies.\n",
    "     - `aria_level='1'`: Specifies the heading level, similar to `<h1>`.\n",
    "     \n",
    "**Button (`html.Button`):**\n",
    "\n",
    "     - `role='button'`: Defines the role of the element as a button.\n",
    "     - `aria_label='Click Me Button'`: Provides a descriptive label for the button, enhancing the user experience for screen reader users\n",
    "     \n",
    "**Output Div (`html.Div`):**\n",
    "\n",
    "     - `role='region'`: Defines the role of the element as a region, making it recognizable to assistive technologies as an important part of the page.\n",
    "     - `aria_live='polite'`: Indicates that updates to this region should be announced by assistive technologies in a non-intrusive manner.\n"
   ]
  },
  {
   "cell_type": "code",
   "execution_count": null,
   "id": "91ecb94d-0027-430c-b1c1-e6609ccced2c",
   "metadata": {},
   "outputs": [],
   "source": []
  }
 ],
 "metadata": {
  "kernelspec": {
   "display_name": "Python 3 (ipykernel)",
   "language": "python",
   "name": "python3"
  },
  "language_info": {
   "codemirror_mode": {
    "name": "ipython",
    "version": 3
   },
   "file_extension": ".py",
   "mimetype": "text/x-python",
   "name": "python",
   "nbconvert_exporter": "python",
   "pygments_lexer": "ipython3",
   "version": "3.12.3"
  }
 },
 "nbformat": 4,
 "nbformat_minor": 5
}
