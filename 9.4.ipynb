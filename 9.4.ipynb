{
 "cells": [
  {
   "cell_type": "markdown",
   "id": "c3a931cd-88e3-4069-89f4-91f59f985913",
   "metadata": {},
   "source": [
    "# Operational Dashboard\n",
    "\n",
    "We'll use a publicly available operations dataset. You can download an operations dataset from Kaggle:\n",
    "\n",
    "[Operations Dataset on Kaggle](https://www.kaggle.com/ehallmar/operations-data)\n",
    "\n",
    "#### Example of Operational Dashboard\n",
    "\n",
    "Write the following code in python file"
   ]
  },
  {
   "cell_type": "markdown",
   "id": "89e9ae94-5f96-431b-8c6c-ef63684b43e5",
   "metadata": {},
   "source": [
    "```python\n",
    "import dash\n",
    "from dash import dcc, html\n",
    "from dash.dependencies import Input, Output\n",
    "import pandas as pd\n",
    "import plotly.express as px\n",
    "\n",
    "# Initialize the Dash app\n",
    "app = dash.Dash(__name__)\n",
    "\n",
    "# Load the dataset with a different encoding\n",
    "df_sales = pd.read_csv('Sample - Superstore.csv', encoding='ISO-8859-1')\n",
    "\n",
    "# Convert Order Date to datetime\n",
    "df_sales['Order Date'] = pd.to_datetime(df_sales['Order Date'])\n",
    "\n",
    "# Define the layout of the dashboard\n",
    "app.layout = html.Div([\n",
    "    html.H1(\"Superstore Sales Dashboard\", style={'textAlign': 'center'}),\n",
    "    \n",
    "    dcc.Dropdown(\n",
    "        id='category-dropdown',\n",
    "        options=[{'label': cat, 'value': cat} for cat in df_sales['Category'].unique()],\n",
    "        value='Furniture',\n",
    "        style={'width': '50%', 'margin': 'auto'}\n",
    "    ),\n",
    "    \n",
    "    dcc.Graph(id='sales-trend-chart'),\n",
    "    dcc.Graph(id='sales-distribution-chart'),\n",
    "    dcc.Graph(id='region-performance-chart')\n",
    "])\n",
    "\n",
    "@app.callback(\n",
    "    [Output('sales-trend-chart', 'figure'),\n",
    "     Output('sales-distribution-chart', 'figure'),\n",
    "     Output('region-performance-chart', 'figure')],\n",
    "    [Input('category-dropdown', 'value')]\n",
    ")\n",
    "def update_charts(selected_category):\n",
    "    # Filter data by selected category\n",
    "    df_filtered = df_sales[df_sales['Category'] == selected_category]\n",
    "    \n",
    "    # Sales trend chart\n",
    "    sales_trend_fig = px.line(df_filtered, x='Order Date', y='Sales', title=f'Sales Trend - {selected_category}')\n",
    "    \n",
    "    # Sales distribution chart by sub-category\n",
    "    sales_distribution_fig = px.pie(df_filtered, names='Sub-Category', values='Sales', title=f'Sales Distribution by Sub-Category - {selected_category}')\n",
    "    \n",
    "    # Region performance chart\n",
    "    region_performance_fig = px.bar(df_filtered, x='Region', y='Sales', color='Region', title=f'Region Performance - {selected_category}')\n",
    "    \n",
    "    return sales_trend_fig, sales_distribution_fig, region_performance_fig\n",
    "\n",
    "if __name__ == '__main__':\n",
    "    app.run_server(debug=True )\n",
    "\n",
    "```"
   ]
  },
  {
   "cell_type": "code",
   "execution_count": null,
   "id": "152a043a-41ae-4de6-af9b-4b6c124e27af",
   "metadata": {},
   "outputs": [],
   "source": []
  },
  {
   "cell_type": "code",
   "execution_count": null,
   "id": "804ac974-9166-4bc9-9294-d97e783aa41a",
   "metadata": {},
   "outputs": [],
   "source": []
  }
 ],
 "metadata": {
  "kernelspec": {
   "display_name": "Python 3 (ipykernel)",
   "language": "python",
   "name": "python3"
  },
  "language_info": {
   "codemirror_mode": {
    "name": "ipython",
    "version": 3
   },
   "file_extension": ".py",
   "mimetype": "text/x-python",
   "name": "python",
   "nbconvert_exporter": "python",
   "pygments_lexer": "ipython3",
   "version": "3.12.3"
  }
 },
 "nbformat": 4,
 "nbformat_minor": 5
}
